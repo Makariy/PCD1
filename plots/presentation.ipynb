{
 "cells": [
  {
   "cell_type": "code",
   "execution_count": 1,
   "metadata": {},
   "outputs": [],
   "source": [
    "import pandas as pd\n",
    "import plotly.express as px\n",
    "import plotly.subplots as sp\n",
    "\n",
    "from pandas import DataFrame\n",
    "from pandas.core.groupby.generic import DataFrameGroupBy\n",
    "\n",
    "\n",
    "def standardize(column):\n",
    "    return (column - column.mean()) / column.std()\n",
    "\n",
    "\n",
    "def normalize(column):\n",
    "    return (column - column.min()) / (column.max() - column.min())\n",
    "\n",
    "\n",
    "def process_group(group: DataFrameGroupBy) -> DataFrame:\n",
    "    group[\"punt\"] = group[\"core_boost_clock\"] / group[\"price\"]\n",
    "\n",
    "    return group\n",
    "\n",
    "\n",
    "# Define euristica weights\n",
    "CC = 0.2\n",
    "CB = 0.4\n",
    "MM = 0.4"
   ]
  },
  {
   "cell_type": "markdown",
   "metadata": {},
   "source": [
    "# Presentacion PCD\n",
    "\n",
    "Obtención del DF completo. Primero generamos un dataframe con todas las marcas unidas.\n"
   ]
  },
  {
   "cell_type": "code",
   "execution_count": 2,
   "metadata": {},
   "outputs": [],
   "source": [
    "dfs = []\n",
    "for brand in [\"Asus\", \"Gigabyte\", \"MSI\", \"XFX\", \"Zotac\"]:\n",
    "    df = pd.read_csv(f\"../data/{brand}.csv\")\n",
    "    df[\"brand\"] = brand\n",
    "    dfs.append(df)\n",
    "\n",
    "df = pd.concat(dfs, ignore_index=True).dropna().reset_index(drop=True)\n",
    "df = df.drop(columns=[\"length\", \"user_score\", \"user_ratings_count\"])"
   ]
  },
  {
   "cell_type": "markdown",
   "metadata": {},
   "source": [
    "## Gráfico de Rendimiento vs Precio de las marcas por chipset\n"
   ]
  },
  {
   "cell_type": "code",
   "execution_count": 3,
   "metadata": {},
   "outputs": [
    {
     "data": {
      "text/html": [
       "<div>\n",
       "<style scoped>\n",
       "    .dataframe tbody tr th:only-of-type {\n",
       "        vertical-align: middle;\n",
       "    }\n",
       "\n",
       "    .dataframe tbody tr th {\n",
       "        vertical-align: top;\n",
       "    }\n",
       "\n",
       "    .dataframe thead th {\n",
       "        text-align: right;\n",
       "    }\n",
       "</style>\n",
       "<table border=\"1\" class=\"dataframe\">\n",
       "  <thead>\n",
       "    <tr style=\"text-align: right;\">\n",
       "      <th></th>\n",
       "      <th>price</th>\n",
       "      <th>core_boost_clock</th>\n",
       "      <th>brand</th>\n",
       "    </tr>\n",
       "  </thead>\n",
       "  <tbody>\n",
       "    <tr>\n",
       "      <th>0</th>\n",
       "      <td>599.99</td>\n",
       "      <td>2550.0</td>\n",
       "      <td>Asus</td>\n",
       "    </tr>\n",
       "    <tr>\n",
       "      <th>1</th>\n",
       "      <td>649.00</td>\n",
       "      <td>2595.0</td>\n",
       "      <td>Asus</td>\n",
       "    </tr>\n",
       "    <tr>\n",
       "      <th>2</th>\n",
       "      <td>619.95</td>\n",
       "      <td>2550.0</td>\n",
       "      <td>Asus</td>\n",
       "    </tr>\n",
       "    <tr>\n",
       "      <th>3</th>\n",
       "      <td>899.95</td>\n",
       "      <td>2550.0</td>\n",
       "      <td>Asus</td>\n",
       "    </tr>\n",
       "    <tr>\n",
       "      <th>4</th>\n",
       "      <td>719.99</td>\n",
       "      <td>2670.0</td>\n",
       "      <td>Asus</td>\n",
       "    </tr>\n",
       "  </tbody>\n",
       "</table>\n",
       "</div>"
      ],
      "text/plain": [
       "    price  core_boost_clock brand\n",
       "0  599.99            2550.0  Asus\n",
       "1  649.00            2595.0  Asus\n",
       "2  619.95            2550.0  Asus\n",
       "3  899.95            2550.0  Asus\n",
       "4  719.99            2670.0  Asus"
      ]
     },
     "execution_count": 3,
     "metadata": {},
     "output_type": "execute_result"
    }
   ],
   "source": [
    "chipset = \"GeForce RTX 4070 SUPER\"\n",
    "\n",
    "# Filter the data for the given chipset\n",
    "chipset_filtered = df[df[\"chipset\"] == chipset][[\"price\", \"core_boost_clock\", \"brand\"]].reset_index(drop=True)\n",
    "chipset_filtered.head()"
   ]
  },
  {
   "cell_type": "markdown",
   "metadata": {},
   "source": [
    "Podemos ver que todos los valores están presentes, excepto por algunos precios. Eliminaré las filas que no tengan precio.\n"
   ]
  },
  {
   "cell_type": "code",
   "execution_count": 4,
   "metadata": {},
   "outputs": [
    {
     "data": {
      "text/html": [
       "<div>\n",
       "<style scoped>\n",
       "    .dataframe tbody tr th:only-of-type {\n",
       "        vertical-align: middle;\n",
       "    }\n",
       "\n",
       "    .dataframe tbody tr th {\n",
       "        vertical-align: top;\n",
       "    }\n",
       "\n",
       "    .dataframe thead th {\n",
       "        text-align: right;\n",
       "    }\n",
       "</style>\n",
       "<table border=\"1\" class=\"dataframe\">\n",
       "  <thead>\n",
       "    <tr style=\"text-align: right;\">\n",
       "      <th></th>\n",
       "      <th>price</th>\n",
       "      <th>core_boost_clock</th>\n",
       "      <th>brand</th>\n",
       "    </tr>\n",
       "  </thead>\n",
       "  <tbody>\n",
       "    <tr>\n",
       "      <th>0</th>\n",
       "      <td>599.99</td>\n",
       "      <td>2550.0</td>\n",
       "      <td>Asus</td>\n",
       "    </tr>\n",
       "    <tr>\n",
       "      <th>1</th>\n",
       "      <td>649.00</td>\n",
       "      <td>2595.0</td>\n",
       "      <td>Asus</td>\n",
       "    </tr>\n",
       "    <tr>\n",
       "      <th>2</th>\n",
       "      <td>619.95</td>\n",
       "      <td>2550.0</td>\n",
       "      <td>Asus</td>\n",
       "    </tr>\n",
       "    <tr>\n",
       "      <th>3</th>\n",
       "      <td>899.95</td>\n",
       "      <td>2550.0</td>\n",
       "      <td>Asus</td>\n",
       "    </tr>\n",
       "    <tr>\n",
       "      <th>4</th>\n",
       "      <td>719.99</td>\n",
       "      <td>2670.0</td>\n",
       "      <td>Asus</td>\n",
       "    </tr>\n",
       "  </tbody>\n",
       "</table>\n",
       "</div>"
      ],
      "text/plain": [
       "    price  core_boost_clock brand\n",
       "0  599.99            2550.0  Asus\n",
       "1  649.00            2595.0  Asus\n",
       "2  619.95            2550.0  Asus\n",
       "3  899.95            2550.0  Asus\n",
       "4  719.99            2670.0  Asus"
      ]
     },
     "execution_count": 4,
     "metadata": {},
     "output_type": "execute_result"
    }
   ],
   "source": [
    "chipset_filtered = chipset_filtered[[\"price\", \"core_boost_clock\", \"brand\"]].dropna()\n",
    "chipset_filtered.head()"
   ]
  },
  {
   "cell_type": "code",
   "execution_count": 5,
   "metadata": {},
   "outputs": [
    {
     "data": {
      "text/html": [
       "<div>\n",
       "<style scoped>\n",
       "    .dataframe tbody tr th:only-of-type {\n",
       "        vertical-align: middle;\n",
       "    }\n",
       "\n",
       "    .dataframe tbody tr th {\n",
       "        vertical-align: top;\n",
       "    }\n",
       "\n",
       "    .dataframe thead th {\n",
       "        text-align: right;\n",
       "    }\n",
       "</style>\n",
       "<table border=\"1\" class=\"dataframe\">\n",
       "  <thead>\n",
       "    <tr style=\"text-align: right;\">\n",
       "      <th></th>\n",
       "      <th>price</th>\n",
       "      <th>core_boost_clock</th>\n",
       "      <th>brand</th>\n",
       "    </tr>\n",
       "  </thead>\n",
       "  <tbody>\n",
       "    <tr>\n",
       "      <th>0</th>\n",
       "      <td>-0.620380</td>\n",
       "      <td>-0.140515</td>\n",
       "      <td>Asus</td>\n",
       "    </tr>\n",
       "    <tr>\n",
       "      <th>1</th>\n",
       "      <td>-0.051001</td>\n",
       "      <td>0.730678</td>\n",
       "      <td>Asus</td>\n",
       "    </tr>\n",
       "    <tr>\n",
       "      <th>2</th>\n",
       "      <td>-0.388493</td>\n",
       "      <td>-0.140515</td>\n",
       "      <td>Asus</td>\n",
       "    </tr>\n",
       "    <tr>\n",
       "      <th>3</th>\n",
       "      <td>2.864435</td>\n",
       "      <td>-0.140515</td>\n",
       "      <td>Asus</td>\n",
       "    </tr>\n",
       "    <tr>\n",
       "      <th>4</th>\n",
       "      <td>0.773732</td>\n",
       "      <td>2.182666</td>\n",
       "      <td>Asus</td>\n",
       "    </tr>\n",
       "  </tbody>\n",
       "</table>\n",
       "</div>"
      ],
      "text/plain": [
       "      price  core_boost_clock brand\n",
       "0 -0.620380         -0.140515  Asus\n",
       "1 -0.051001          0.730678  Asus\n",
       "2 -0.388493         -0.140515  Asus\n",
       "3  2.864435         -0.140515  Asus\n",
       "4  0.773732          2.182666  Asus"
      ]
     },
     "execution_count": 5,
     "metadata": {},
     "output_type": "execute_result"
    }
   ],
   "source": [
    "chipset_filtered.loc[:, \"price\"] = standardize(chipset_filtered[\"price\"])\n",
    "chipset_filtered.loc[:, \"core_boost_clock\"] = standardize(chipset_filtered[\"core_boost_clock\"])\n",
    "chipset_filtered.head()"
   ]
  },
  {
   "cell_type": "markdown",
   "metadata": {},
   "source": [
    "Finalmente, podemos calcular la puntuación y graficar.\n"
   ]
  },
  {
   "cell_type": "code",
   "execution_count": 6,
   "metadata": {},
   "outputs": [
    {
     "data": {
      "application/vnd.plotly.v1+json": {
       "config": {
        "plotlyServerURL": "https://plot.ly"
       },
       "data": [
        {
         "alignmentgroup": "True",
         "hovertemplate": "brand=%{x}<br>Puntuation=%{y}<extra></extra>",
         "legendgroup": "",
         "marker": {
          "color": "#636efa",
          "pattern": {
           "shape": ""
          }
         },
         "name": "",
         "offsetgroup": "",
         "orientation": "v",
         "showlegend": false,
         "textposition": "auto",
         "type": "bar",
         "x": [
          "Gigabyte",
          "MSI",
          "Asus",
          "Zotac"
         ],
         "xaxis": "x",
         "y": [
          0.9878341337323575,
          0.17541382215596216,
          -0.08147297549746241,
          -2.1332612329151117
         ],
         "yaxis": "y"
        }
       ],
       "layout": {
        "barmode": "relative",
        "height": 600,
        "legend": {
         "tracegroupgap": 0
        },
        "template": {
         "data": {
          "bar": [
           {
            "error_x": {
             "color": "#2a3f5f"
            },
            "error_y": {
             "color": "#2a3f5f"
            },
            "marker": {
             "line": {
              "color": "#E5ECF6",
              "width": 0.5
             },
             "pattern": {
              "fillmode": "overlay",
              "size": 10,
              "solidity": 0.2
             }
            },
            "type": "bar"
           }
          ],
          "barpolar": [
           {
            "marker": {
             "line": {
              "color": "#E5ECF6",
              "width": 0.5
             },
             "pattern": {
              "fillmode": "overlay",
              "size": 10,
              "solidity": 0.2
             }
            },
            "type": "barpolar"
           }
          ],
          "carpet": [
           {
            "aaxis": {
             "endlinecolor": "#2a3f5f",
             "gridcolor": "white",
             "linecolor": "white",
             "minorgridcolor": "white",
             "startlinecolor": "#2a3f5f"
            },
            "baxis": {
             "endlinecolor": "#2a3f5f",
             "gridcolor": "white",
             "linecolor": "white",
             "minorgridcolor": "white",
             "startlinecolor": "#2a3f5f"
            },
            "type": "carpet"
           }
          ],
          "choropleth": [
           {
            "colorbar": {
             "outlinewidth": 0,
             "ticks": ""
            },
            "type": "choropleth"
           }
          ],
          "contour": [
           {
            "colorbar": {
             "outlinewidth": 0,
             "ticks": ""
            },
            "colorscale": [
             [
              0,
              "#0d0887"
             ],
             [
              0.1111111111111111,
              "#46039f"
             ],
             [
              0.2222222222222222,
              "#7201a8"
             ],
             [
              0.3333333333333333,
              "#9c179e"
             ],
             [
              0.4444444444444444,
              "#bd3786"
             ],
             [
              0.5555555555555556,
              "#d8576b"
             ],
             [
              0.6666666666666666,
              "#ed7953"
             ],
             [
              0.7777777777777778,
              "#fb9f3a"
             ],
             [
              0.8888888888888888,
              "#fdca26"
             ],
             [
              1,
              "#f0f921"
             ]
            ],
            "type": "contour"
           }
          ],
          "contourcarpet": [
           {
            "colorbar": {
             "outlinewidth": 0,
             "ticks": ""
            },
            "type": "contourcarpet"
           }
          ],
          "heatmap": [
           {
            "colorbar": {
             "outlinewidth": 0,
             "ticks": ""
            },
            "colorscale": [
             [
              0,
              "#0d0887"
             ],
             [
              0.1111111111111111,
              "#46039f"
             ],
             [
              0.2222222222222222,
              "#7201a8"
             ],
             [
              0.3333333333333333,
              "#9c179e"
             ],
             [
              0.4444444444444444,
              "#bd3786"
             ],
             [
              0.5555555555555556,
              "#d8576b"
             ],
             [
              0.6666666666666666,
              "#ed7953"
             ],
             [
              0.7777777777777778,
              "#fb9f3a"
             ],
             [
              0.8888888888888888,
              "#fdca26"
             ],
             [
              1,
              "#f0f921"
             ]
            ],
            "type": "heatmap"
           }
          ],
          "heatmapgl": [
           {
            "colorbar": {
             "outlinewidth": 0,
             "ticks": ""
            },
            "colorscale": [
             [
              0,
              "#0d0887"
             ],
             [
              0.1111111111111111,
              "#46039f"
             ],
             [
              0.2222222222222222,
              "#7201a8"
             ],
             [
              0.3333333333333333,
              "#9c179e"
             ],
             [
              0.4444444444444444,
              "#bd3786"
             ],
             [
              0.5555555555555556,
              "#d8576b"
             ],
             [
              0.6666666666666666,
              "#ed7953"
             ],
             [
              0.7777777777777778,
              "#fb9f3a"
             ],
             [
              0.8888888888888888,
              "#fdca26"
             ],
             [
              1,
              "#f0f921"
             ]
            ],
            "type": "heatmapgl"
           }
          ],
          "histogram": [
           {
            "marker": {
             "pattern": {
              "fillmode": "overlay",
              "size": 10,
              "solidity": 0.2
             }
            },
            "type": "histogram"
           }
          ],
          "histogram2d": [
           {
            "colorbar": {
             "outlinewidth": 0,
             "ticks": ""
            },
            "colorscale": [
             [
              0,
              "#0d0887"
             ],
             [
              0.1111111111111111,
              "#46039f"
             ],
             [
              0.2222222222222222,
              "#7201a8"
             ],
             [
              0.3333333333333333,
              "#9c179e"
             ],
             [
              0.4444444444444444,
              "#bd3786"
             ],
             [
              0.5555555555555556,
              "#d8576b"
             ],
             [
              0.6666666666666666,
              "#ed7953"
             ],
             [
              0.7777777777777778,
              "#fb9f3a"
             ],
             [
              0.8888888888888888,
              "#fdca26"
             ],
             [
              1,
              "#f0f921"
             ]
            ],
            "type": "histogram2d"
           }
          ],
          "histogram2dcontour": [
           {
            "colorbar": {
             "outlinewidth": 0,
             "ticks": ""
            },
            "colorscale": [
             [
              0,
              "#0d0887"
             ],
             [
              0.1111111111111111,
              "#46039f"
             ],
             [
              0.2222222222222222,
              "#7201a8"
             ],
             [
              0.3333333333333333,
              "#9c179e"
             ],
             [
              0.4444444444444444,
              "#bd3786"
             ],
             [
              0.5555555555555556,
              "#d8576b"
             ],
             [
              0.6666666666666666,
              "#ed7953"
             ],
             [
              0.7777777777777778,
              "#fb9f3a"
             ],
             [
              0.8888888888888888,
              "#fdca26"
             ],
             [
              1,
              "#f0f921"
             ]
            ],
            "type": "histogram2dcontour"
           }
          ],
          "mesh3d": [
           {
            "colorbar": {
             "outlinewidth": 0,
             "ticks": ""
            },
            "type": "mesh3d"
           }
          ],
          "parcoords": [
           {
            "line": {
             "colorbar": {
              "outlinewidth": 0,
              "ticks": ""
             }
            },
            "type": "parcoords"
           }
          ],
          "pie": [
           {
            "automargin": true,
            "type": "pie"
           }
          ],
          "scatter": [
           {
            "fillpattern": {
             "fillmode": "overlay",
             "size": 10,
             "solidity": 0.2
            },
            "type": "scatter"
           }
          ],
          "scatter3d": [
           {
            "line": {
             "colorbar": {
              "outlinewidth": 0,
              "ticks": ""
             }
            },
            "marker": {
             "colorbar": {
              "outlinewidth": 0,
              "ticks": ""
             }
            },
            "type": "scatter3d"
           }
          ],
          "scattercarpet": [
           {
            "marker": {
             "colorbar": {
              "outlinewidth": 0,
              "ticks": ""
             }
            },
            "type": "scattercarpet"
           }
          ],
          "scattergeo": [
           {
            "marker": {
             "colorbar": {
              "outlinewidth": 0,
              "ticks": ""
             }
            },
            "type": "scattergeo"
           }
          ],
          "scattergl": [
           {
            "marker": {
             "colorbar": {
              "outlinewidth": 0,
              "ticks": ""
             }
            },
            "type": "scattergl"
           }
          ],
          "scattermapbox": [
           {
            "marker": {
             "colorbar": {
              "outlinewidth": 0,
              "ticks": ""
             }
            },
            "type": "scattermapbox"
           }
          ],
          "scatterpolar": [
           {
            "marker": {
             "colorbar": {
              "outlinewidth": 0,
              "ticks": ""
             }
            },
            "type": "scatterpolar"
           }
          ],
          "scatterpolargl": [
           {
            "marker": {
             "colorbar": {
              "outlinewidth": 0,
              "ticks": ""
             }
            },
            "type": "scatterpolargl"
           }
          ],
          "scatterternary": [
           {
            "marker": {
             "colorbar": {
              "outlinewidth": 0,
              "ticks": ""
             }
            },
            "type": "scatterternary"
           }
          ],
          "surface": [
           {
            "colorbar": {
             "outlinewidth": 0,
             "ticks": ""
            },
            "colorscale": [
             [
              0,
              "#0d0887"
             ],
             [
              0.1111111111111111,
              "#46039f"
             ],
             [
              0.2222222222222222,
              "#7201a8"
             ],
             [
              0.3333333333333333,
              "#9c179e"
             ],
             [
              0.4444444444444444,
              "#bd3786"
             ],
             [
              0.5555555555555556,
              "#d8576b"
             ],
             [
              0.6666666666666666,
              "#ed7953"
             ],
             [
              0.7777777777777778,
              "#fb9f3a"
             ],
             [
              0.8888888888888888,
              "#fdca26"
             ],
             [
              1,
              "#f0f921"
             ]
            ],
            "type": "surface"
           }
          ],
          "table": [
           {
            "cells": {
             "fill": {
              "color": "#EBF0F8"
             },
             "line": {
              "color": "white"
             }
            },
            "header": {
             "fill": {
              "color": "#C8D4E3"
             },
             "line": {
              "color": "white"
             }
            },
            "type": "table"
           }
          ]
         },
         "layout": {
          "annotationdefaults": {
           "arrowcolor": "#2a3f5f",
           "arrowhead": 0,
           "arrowwidth": 1
          },
          "autotypenumbers": "strict",
          "coloraxis": {
           "colorbar": {
            "outlinewidth": 0,
            "ticks": ""
           }
          },
          "colorscale": {
           "diverging": [
            [
             0,
             "#8e0152"
            ],
            [
             0.1,
             "#c51b7d"
            ],
            [
             0.2,
             "#de77ae"
            ],
            [
             0.3,
             "#f1b6da"
            ],
            [
             0.4,
             "#fde0ef"
            ],
            [
             0.5,
             "#f7f7f7"
            ],
            [
             0.6,
             "#e6f5d0"
            ],
            [
             0.7,
             "#b8e186"
            ],
            [
             0.8,
             "#7fbc41"
            ],
            [
             0.9,
             "#4d9221"
            ],
            [
             1,
             "#276419"
            ]
           ],
           "sequential": [
            [
             0,
             "#0d0887"
            ],
            [
             0.1111111111111111,
             "#46039f"
            ],
            [
             0.2222222222222222,
             "#7201a8"
            ],
            [
             0.3333333333333333,
             "#9c179e"
            ],
            [
             0.4444444444444444,
             "#bd3786"
            ],
            [
             0.5555555555555556,
             "#d8576b"
            ],
            [
             0.6666666666666666,
             "#ed7953"
            ],
            [
             0.7777777777777778,
             "#fb9f3a"
            ],
            [
             0.8888888888888888,
             "#fdca26"
            ],
            [
             1,
             "#f0f921"
            ]
           ],
           "sequentialminus": [
            [
             0,
             "#0d0887"
            ],
            [
             0.1111111111111111,
             "#46039f"
            ],
            [
             0.2222222222222222,
             "#7201a8"
            ],
            [
             0.3333333333333333,
             "#9c179e"
            ],
            [
             0.4444444444444444,
             "#bd3786"
            ],
            [
             0.5555555555555556,
             "#d8576b"
            ],
            [
             0.6666666666666666,
             "#ed7953"
            ],
            [
             0.7777777777777778,
             "#fb9f3a"
            ],
            [
             0.8888888888888888,
             "#fdca26"
            ],
            [
             1,
             "#f0f921"
            ]
           ]
          },
          "colorway": [
           "#636efa",
           "#EF553B",
           "#00cc96",
           "#ab63fa",
           "#FFA15A",
           "#19d3f3",
           "#FF6692",
           "#B6E880",
           "#FF97FF",
           "#FECB52"
          ],
          "font": {
           "color": "#2a3f5f"
          },
          "geo": {
           "bgcolor": "white",
           "lakecolor": "white",
           "landcolor": "#E5ECF6",
           "showlakes": true,
           "showland": true,
           "subunitcolor": "white"
          },
          "hoverlabel": {
           "align": "left"
          },
          "hovermode": "closest",
          "mapbox": {
           "style": "light"
          },
          "paper_bgcolor": "white",
          "plot_bgcolor": "#E5ECF6",
          "polar": {
           "angularaxis": {
            "gridcolor": "white",
            "linecolor": "white",
            "ticks": ""
           },
           "bgcolor": "#E5ECF6",
           "radialaxis": {
            "gridcolor": "white",
            "linecolor": "white",
            "ticks": ""
           }
          },
          "scene": {
           "xaxis": {
            "backgroundcolor": "#E5ECF6",
            "gridcolor": "white",
            "gridwidth": 2,
            "linecolor": "white",
            "showbackground": true,
            "ticks": "",
            "zerolinecolor": "white"
           },
           "yaxis": {
            "backgroundcolor": "#E5ECF6",
            "gridcolor": "white",
            "gridwidth": 2,
            "linecolor": "white",
            "showbackground": true,
            "ticks": "",
            "zerolinecolor": "white"
           },
           "zaxis": {
            "backgroundcolor": "#E5ECF6",
            "gridcolor": "white",
            "gridwidth": 2,
            "linecolor": "white",
            "showbackground": true,
            "ticks": "",
            "zerolinecolor": "white"
           }
          },
          "shapedefaults": {
           "line": {
            "color": "#2a3f5f"
           }
          },
          "ternary": {
           "aaxis": {
            "gridcolor": "white",
            "linecolor": "white",
            "ticks": ""
           },
           "baxis": {
            "gridcolor": "white",
            "linecolor": "white",
            "ticks": ""
           },
           "bgcolor": "#E5ECF6",
           "caxis": {
            "gridcolor": "white",
            "linecolor": "white",
            "ticks": ""
           }
          },
          "title": {
           "x": 0.05
          },
          "xaxis": {
           "automargin": true,
           "gridcolor": "white",
           "linecolor": "white",
           "ticks": "",
           "title": {
            "standoff": 15
           },
           "zerolinecolor": "white",
           "zerolinewidth": 2
          },
          "yaxis": {
           "automargin": true,
           "gridcolor": "white",
           "linecolor": "white",
           "ticks": "",
           "title": {
            "standoff": 15
           },
           "zerolinecolor": "white",
           "zerolinewidth": 2
          }
         }
        },
        "title": {
         "text": "Puntuation of GeForce RTX 4070 SUPER"
        },
        "width": 800,
        "xaxis": {
         "anchor": "y",
         "domain": [
          0,
          1
         ],
         "title": {
          "text": "brand"
         }
        },
        "yaxis": {
         "anchor": "x",
         "domain": [
          0,
          1
         ],
         "title": {
          "text": "Puntuation"
         }
        }
       }
      }
     },
     "metadata": {},
     "output_type": "display_data"
    }
   ],
   "source": [
    "chipset_filtered[\"punt\"] = chipset_filtered[\"core_boost_clock\"] / chipset_filtered[\"price\"]\n",
    "\n",
    "# Calculamos la media de la puntuación por marca\n",
    "grouped = chipset_filtered.groupby(\"brand\").mean().sort_values(\"punt\", ascending=False)\n",
    "\n",
    "fig = px.bar(\n",
    "    grouped,\n",
    "    x=grouped.index,\n",
    "    y=\"punt\",\n",
    "    title=f\"Puntuation of {chipset}\",\n",
    "    labels={\"punt\": \"Puntuation\", \"index\": \"Brand\"},\n",
    "    width=800,\n",
    "    height=600\n",
    ")\n",
    "fig.show()"
   ]
  },
  {
   "cell_type": "markdown",
   "metadata": {},
   "source": [
    "## Gráfico de correlaciones\n",
    "\n",
    "Se filtra en correlaciones de las gráficas de NVIDIA series 4000, y de AMD series 7000 (las últimas generaciones de tarjetas gráficas).\n"
   ]
  },
  {
   "cell_type": "code",
   "execution_count": 7,
   "metadata": {},
   "outputs": [
    {
     "data": {
      "application/vnd.plotly.v1+json": {
       "config": {
        "plotlyServerURL": "https://plot.ly"
       },
       "data": [
        {
         "coloraxis": "coloraxis",
         "hovertemplate": "x: %{x}<br>y: %{y}<br>Correlation: %{z}<extra></extra>",
         "name": "0",
         "texttemplate": "%{z}",
         "type": "heatmap",
         "x": [
          "price",
          "memory",
          "core_clock",
          "core_boost_clock"
         ],
         "xaxis": "x",
         "y": [
          "price",
          "memory",
          "core_clock",
          "core_boost_clock"
         ],
         "yaxis": "y",
         "z": [
          [
           1,
           0.8163273905721989,
           0.27466569520963263,
           0.12122089558979839
          ],
          [
           0.8163273905721989,
           1,
           0.4322485079531425,
           0.13363668187683453
          ],
          [
           0.27466569520963263,
           0.4322485079531425,
           1,
           0.4764556163278279
          ],
          [
           0.12122089558979839,
           0.13363668187683453,
           0.4764556163278279,
           1
          ]
         ]
        },
        {
         "coloraxis": "coloraxis",
         "hovertemplate": "x: %{x}<br>y: %{y}<br>Correlation: %{z}<extra></extra>",
         "name": "0",
         "texttemplate": "%{z}",
         "type": "heatmap",
         "x": [
          "price",
          "memory",
          "core_clock",
          "core_boost_clock"
         ],
         "xaxis": "x2",
         "y": [
          "price",
          "memory",
          "core_clock",
          "core_boost_clock"
         ],
         "yaxis": "y2",
         "z": [
          [
           1,
           0.8546536112561464,
           0.5260487468374576,
           -0.2998946838985249
          ],
          [
           0.8546536112561464,
           1,
           0.5082040599119588,
           -0.255378801494309
          ],
          [
           0.5260487468374576,
           0.5082040599119588,
           1,
           0.3968004794974985
          ],
          [
           -0.2998946838985249,
           -0.255378801494309,
           0.3968004794974985,
           1
          ]
         ]
        }
       ],
       "layout": {
        "annotations": [
         {
          "font": {
           "size": 16
          },
          "showarrow": false,
          "text": "NVIDIA",
          "x": 0.225,
          "xanchor": "center",
          "xref": "paper",
          "y": 1,
          "yanchor": "bottom",
          "yref": "paper"
         },
         {
          "font": {
           "size": 16
          },
          "showarrow": false,
          "text": "AMD",
          "x": 0.775,
          "xanchor": "center",
          "xref": "paper",
          "y": 1,
          "yanchor": "bottom",
          "yref": "paper"
         }
        ],
        "height": 700,
        "template": {
         "data": {
          "bar": [
           {
            "error_x": {
             "color": "#2a3f5f"
            },
            "error_y": {
             "color": "#2a3f5f"
            },
            "marker": {
             "line": {
              "color": "#E5ECF6",
              "width": 0.5
             },
             "pattern": {
              "fillmode": "overlay",
              "size": 10,
              "solidity": 0.2
             }
            },
            "type": "bar"
           }
          ],
          "barpolar": [
           {
            "marker": {
             "line": {
              "color": "#E5ECF6",
              "width": 0.5
             },
             "pattern": {
              "fillmode": "overlay",
              "size": 10,
              "solidity": 0.2
             }
            },
            "type": "barpolar"
           }
          ],
          "carpet": [
           {
            "aaxis": {
             "endlinecolor": "#2a3f5f",
             "gridcolor": "white",
             "linecolor": "white",
             "minorgridcolor": "white",
             "startlinecolor": "#2a3f5f"
            },
            "baxis": {
             "endlinecolor": "#2a3f5f",
             "gridcolor": "white",
             "linecolor": "white",
             "minorgridcolor": "white",
             "startlinecolor": "#2a3f5f"
            },
            "type": "carpet"
           }
          ],
          "choropleth": [
           {
            "colorbar": {
             "outlinewidth": 0,
             "ticks": ""
            },
            "type": "choropleth"
           }
          ],
          "contour": [
           {
            "colorbar": {
             "outlinewidth": 0,
             "ticks": ""
            },
            "colorscale": [
             [
              0,
              "#0d0887"
             ],
             [
              0.1111111111111111,
              "#46039f"
             ],
             [
              0.2222222222222222,
              "#7201a8"
             ],
             [
              0.3333333333333333,
              "#9c179e"
             ],
             [
              0.4444444444444444,
              "#bd3786"
             ],
             [
              0.5555555555555556,
              "#d8576b"
             ],
             [
              0.6666666666666666,
              "#ed7953"
             ],
             [
              0.7777777777777778,
              "#fb9f3a"
             ],
             [
              0.8888888888888888,
              "#fdca26"
             ],
             [
              1,
              "#f0f921"
             ]
            ],
            "type": "contour"
           }
          ],
          "contourcarpet": [
           {
            "colorbar": {
             "outlinewidth": 0,
             "ticks": ""
            },
            "type": "contourcarpet"
           }
          ],
          "heatmap": [
           {
            "colorbar": {
             "outlinewidth": 0,
             "ticks": ""
            },
            "colorscale": [
             [
              0,
              "#0d0887"
             ],
             [
              0.1111111111111111,
              "#46039f"
             ],
             [
              0.2222222222222222,
              "#7201a8"
             ],
             [
              0.3333333333333333,
              "#9c179e"
             ],
             [
              0.4444444444444444,
              "#bd3786"
             ],
             [
              0.5555555555555556,
              "#d8576b"
             ],
             [
              0.6666666666666666,
              "#ed7953"
             ],
             [
              0.7777777777777778,
              "#fb9f3a"
             ],
             [
              0.8888888888888888,
              "#fdca26"
             ],
             [
              1,
              "#f0f921"
             ]
            ],
            "type": "heatmap"
           }
          ],
          "heatmapgl": [
           {
            "colorbar": {
             "outlinewidth": 0,
             "ticks": ""
            },
            "colorscale": [
             [
              0,
              "#0d0887"
             ],
             [
              0.1111111111111111,
              "#46039f"
             ],
             [
              0.2222222222222222,
              "#7201a8"
             ],
             [
              0.3333333333333333,
              "#9c179e"
             ],
             [
              0.4444444444444444,
              "#bd3786"
             ],
             [
              0.5555555555555556,
              "#d8576b"
             ],
             [
              0.6666666666666666,
              "#ed7953"
             ],
             [
              0.7777777777777778,
              "#fb9f3a"
             ],
             [
              0.8888888888888888,
              "#fdca26"
             ],
             [
              1,
              "#f0f921"
             ]
            ],
            "type": "heatmapgl"
           }
          ],
          "histogram": [
           {
            "marker": {
             "pattern": {
              "fillmode": "overlay",
              "size": 10,
              "solidity": 0.2
             }
            },
            "type": "histogram"
           }
          ],
          "histogram2d": [
           {
            "colorbar": {
             "outlinewidth": 0,
             "ticks": ""
            },
            "colorscale": [
             [
              0,
              "#0d0887"
             ],
             [
              0.1111111111111111,
              "#46039f"
             ],
             [
              0.2222222222222222,
              "#7201a8"
             ],
             [
              0.3333333333333333,
              "#9c179e"
             ],
             [
              0.4444444444444444,
              "#bd3786"
             ],
             [
              0.5555555555555556,
              "#d8576b"
             ],
             [
              0.6666666666666666,
              "#ed7953"
             ],
             [
              0.7777777777777778,
              "#fb9f3a"
             ],
             [
              0.8888888888888888,
              "#fdca26"
             ],
             [
              1,
              "#f0f921"
             ]
            ],
            "type": "histogram2d"
           }
          ],
          "histogram2dcontour": [
           {
            "colorbar": {
             "outlinewidth": 0,
             "ticks": ""
            },
            "colorscale": [
             [
              0,
              "#0d0887"
             ],
             [
              0.1111111111111111,
              "#46039f"
             ],
             [
              0.2222222222222222,
              "#7201a8"
             ],
             [
              0.3333333333333333,
              "#9c179e"
             ],
             [
              0.4444444444444444,
              "#bd3786"
             ],
             [
              0.5555555555555556,
              "#d8576b"
             ],
             [
              0.6666666666666666,
              "#ed7953"
             ],
             [
              0.7777777777777778,
              "#fb9f3a"
             ],
             [
              0.8888888888888888,
              "#fdca26"
             ],
             [
              1,
              "#f0f921"
             ]
            ],
            "type": "histogram2dcontour"
           }
          ],
          "mesh3d": [
           {
            "colorbar": {
             "outlinewidth": 0,
             "ticks": ""
            },
            "type": "mesh3d"
           }
          ],
          "parcoords": [
           {
            "line": {
             "colorbar": {
              "outlinewidth": 0,
              "ticks": ""
             }
            },
            "type": "parcoords"
           }
          ],
          "pie": [
           {
            "automargin": true,
            "type": "pie"
           }
          ],
          "scatter": [
           {
            "fillpattern": {
             "fillmode": "overlay",
             "size": 10,
             "solidity": 0.2
            },
            "type": "scatter"
           }
          ],
          "scatter3d": [
           {
            "line": {
             "colorbar": {
              "outlinewidth": 0,
              "ticks": ""
             }
            },
            "marker": {
             "colorbar": {
              "outlinewidth": 0,
              "ticks": ""
             }
            },
            "type": "scatter3d"
           }
          ],
          "scattercarpet": [
           {
            "marker": {
             "colorbar": {
              "outlinewidth": 0,
              "ticks": ""
             }
            },
            "type": "scattercarpet"
           }
          ],
          "scattergeo": [
           {
            "marker": {
             "colorbar": {
              "outlinewidth": 0,
              "ticks": ""
             }
            },
            "type": "scattergeo"
           }
          ],
          "scattergl": [
           {
            "marker": {
             "colorbar": {
              "outlinewidth": 0,
              "ticks": ""
             }
            },
            "type": "scattergl"
           }
          ],
          "scattermapbox": [
           {
            "marker": {
             "colorbar": {
              "outlinewidth": 0,
              "ticks": ""
             }
            },
            "type": "scattermapbox"
           }
          ],
          "scatterpolar": [
           {
            "marker": {
             "colorbar": {
              "outlinewidth": 0,
              "ticks": ""
             }
            },
            "type": "scatterpolar"
           }
          ],
          "scatterpolargl": [
           {
            "marker": {
             "colorbar": {
              "outlinewidth": 0,
              "ticks": ""
             }
            },
            "type": "scatterpolargl"
           }
          ],
          "scatterternary": [
           {
            "marker": {
             "colorbar": {
              "outlinewidth": 0,
              "ticks": ""
             }
            },
            "type": "scatterternary"
           }
          ],
          "surface": [
           {
            "colorbar": {
             "outlinewidth": 0,
             "ticks": ""
            },
            "colorscale": [
             [
              0,
              "#0d0887"
             ],
             [
              0.1111111111111111,
              "#46039f"
             ],
             [
              0.2222222222222222,
              "#7201a8"
             ],
             [
              0.3333333333333333,
              "#9c179e"
             ],
             [
              0.4444444444444444,
              "#bd3786"
             ],
             [
              0.5555555555555556,
              "#d8576b"
             ],
             [
              0.6666666666666666,
              "#ed7953"
             ],
             [
              0.7777777777777778,
              "#fb9f3a"
             ],
             [
              0.8888888888888888,
              "#fdca26"
             ],
             [
              1,
              "#f0f921"
             ]
            ],
            "type": "surface"
           }
          ],
          "table": [
           {
            "cells": {
             "fill": {
              "color": "#EBF0F8"
             },
             "line": {
              "color": "white"
             }
            },
            "header": {
             "fill": {
              "color": "#C8D4E3"
             },
             "line": {
              "color": "white"
             }
            },
            "type": "table"
           }
          ]
         },
         "layout": {
          "annotationdefaults": {
           "arrowcolor": "#2a3f5f",
           "arrowhead": 0,
           "arrowwidth": 1
          },
          "autotypenumbers": "strict",
          "coloraxis": {
           "colorbar": {
            "outlinewidth": 0,
            "ticks": ""
           }
          },
          "colorscale": {
           "diverging": [
            [
             0,
             "#8e0152"
            ],
            [
             0.1,
             "#c51b7d"
            ],
            [
             0.2,
             "#de77ae"
            ],
            [
             0.3,
             "#f1b6da"
            ],
            [
             0.4,
             "#fde0ef"
            ],
            [
             0.5,
             "#f7f7f7"
            ],
            [
             0.6,
             "#e6f5d0"
            ],
            [
             0.7,
             "#b8e186"
            ],
            [
             0.8,
             "#7fbc41"
            ],
            [
             0.9,
             "#4d9221"
            ],
            [
             1,
             "#276419"
            ]
           ],
           "sequential": [
            [
             0,
             "#0d0887"
            ],
            [
             0.1111111111111111,
             "#46039f"
            ],
            [
             0.2222222222222222,
             "#7201a8"
            ],
            [
             0.3333333333333333,
             "#9c179e"
            ],
            [
             0.4444444444444444,
             "#bd3786"
            ],
            [
             0.5555555555555556,
             "#d8576b"
            ],
            [
             0.6666666666666666,
             "#ed7953"
            ],
            [
             0.7777777777777778,
             "#fb9f3a"
            ],
            [
             0.8888888888888888,
             "#fdca26"
            ],
            [
             1,
             "#f0f921"
            ]
           ],
           "sequentialminus": [
            [
             0,
             "#0d0887"
            ],
            [
             0.1111111111111111,
             "#46039f"
            ],
            [
             0.2222222222222222,
             "#7201a8"
            ],
            [
             0.3333333333333333,
             "#9c179e"
            ],
            [
             0.4444444444444444,
             "#bd3786"
            ],
            [
             0.5555555555555556,
             "#d8576b"
            ],
            [
             0.6666666666666666,
             "#ed7953"
            ],
            [
             0.7777777777777778,
             "#fb9f3a"
            ],
            [
             0.8888888888888888,
             "#fdca26"
            ],
            [
             1,
             "#f0f921"
            ]
           ]
          },
          "colorway": [
           "#636efa",
           "#EF553B",
           "#00cc96",
           "#ab63fa",
           "#FFA15A",
           "#19d3f3",
           "#FF6692",
           "#B6E880",
           "#FF97FF",
           "#FECB52"
          ],
          "font": {
           "color": "#2a3f5f"
          },
          "geo": {
           "bgcolor": "white",
           "lakecolor": "white",
           "landcolor": "#E5ECF6",
           "showlakes": true,
           "showland": true,
           "subunitcolor": "white"
          },
          "hoverlabel": {
           "align": "left"
          },
          "hovermode": "closest",
          "mapbox": {
           "style": "light"
          },
          "paper_bgcolor": "white",
          "plot_bgcolor": "#E5ECF6",
          "polar": {
           "angularaxis": {
            "gridcolor": "white",
            "linecolor": "white",
            "ticks": ""
           },
           "bgcolor": "#E5ECF6",
           "radialaxis": {
            "gridcolor": "white",
            "linecolor": "white",
            "ticks": ""
           }
          },
          "scene": {
           "xaxis": {
            "backgroundcolor": "#E5ECF6",
            "gridcolor": "white",
            "gridwidth": 2,
            "linecolor": "white",
            "showbackground": true,
            "ticks": "",
            "zerolinecolor": "white"
           },
           "yaxis": {
            "backgroundcolor": "#E5ECF6",
            "gridcolor": "white",
            "gridwidth": 2,
            "linecolor": "white",
            "showbackground": true,
            "ticks": "",
            "zerolinecolor": "white"
           },
           "zaxis": {
            "backgroundcolor": "#E5ECF6",
            "gridcolor": "white",
            "gridwidth": 2,
            "linecolor": "white",
            "showbackground": true,
            "ticks": "",
            "zerolinecolor": "white"
           }
          },
          "shapedefaults": {
           "line": {
            "color": "#2a3f5f"
           }
          },
          "ternary": {
           "aaxis": {
            "gridcolor": "white",
            "linecolor": "white",
            "ticks": ""
           },
           "baxis": {
            "gridcolor": "white",
            "linecolor": "white",
            "ticks": ""
           },
           "bgcolor": "#E5ECF6",
           "caxis": {
            "gridcolor": "white",
            "linecolor": "white",
            "ticks": ""
           }
          },
          "title": {
           "x": 0.05
          },
          "xaxis": {
           "automargin": true,
           "gridcolor": "white",
           "linecolor": "white",
           "ticks": "",
           "title": {
            "standoff": 15
           },
           "zerolinecolor": "white",
           "zerolinewidth": 2
          },
          "yaxis": {
           "automargin": true,
           "gridcolor": "white",
           "linecolor": "white",
           "ticks": "",
           "title": {
            "standoff": 15
           },
           "zerolinecolor": "white",
           "zerolinewidth": 2
          }
         }
        },
        "title": {
         "text": "Correlation Heatmap of GPU Attributes"
        },
        "width": 1500,
        "xaxis": {
         "anchor": "y",
         "domain": [
          0,
          0.45
         ]
        },
        "xaxis2": {
         "anchor": "y2",
         "domain": [
          0.55,
          1
         ]
        },
        "yaxis": {
         "anchor": "x",
         "domain": [
          0,
          1
         ]
        },
        "yaxis2": {
         "anchor": "x2",
         "domain": [
          0,
          1
         ]
        }
       }
      }
     },
     "metadata": {},
     "output_type": "display_data"
    }
   ],
   "source": [
    "nvidia = df[df[\"chipset\"].str.contains(\"RTX 40\", case=False, na=False)]\n",
    "amd = df[df[\"chipset\"].str.contains(\"RX 7\", case=False, na=False)]\n",
    "\n",
    "column = [\"price\", \"memory\", \"core_clock\", \"core_boost_clock\"]\n",
    "nvidia = nvidia[column].corr()\n",
    "amd = amd[column].corr()\n",
    "\n",
    "nvidia_plot = px.imshow(\n",
    "    nvidia,\n",
    "    text_auto=True,\n",
    "    title=\"Correlation Heatmap of GPU Attributes\",\n",
    "    labels={\"color\": \"Correlation\"},\n",
    "    x=column,\n",
    "    y=column,\n",
    "    color_continuous_scale=\"Viridis\",\n",
    "    width=700,\n",
    "    height=700\n",
    ")\n",
    "\n",
    "amd_plot = px.imshow(\n",
    "    amd,\n",
    "    text_auto=True,\n",
    "    title=\"Correlation Heatmap of GPU Attributes\",\n",
    "    labels={\"color\": \"Correlation\"},\n",
    "    x=column,\n",
    "    y=column,\n",
    "    color_continuous_scale=\"Viridis\",\n",
    "    width=700,\n",
    "    height=700\n",
    ")\n",
    "\n",
    "# Create a subplot\n",
    "fig = sp.make_subplots(rows=1, cols=2, subplot_titles=[\"NVIDIA\", \"AMD\"])\n",
    "fig.add_trace(nvidia_plot.data[0], row=1, col=1)\n",
    "fig.add_trace(amd_plot.data[0], row=1, col=2)\n",
    "\n",
    "fig.update_layout(title=\"Correlation Heatmap of GPU Attributes\", width=1500, height=700)\n",
    "fig.show()"
   ]
  },
  {
   "cell_type": "markdown",
   "metadata": {},
   "source": [
    "## ¿Qué es mejor? ¿NVIDIA o AMD?\n",
    "\n",
    "Haremos un gráfico de líneas donde comparamos el rendimiento de las últimas dos generaciones de las tarjetas gráficas de NVIDIA y AMD. Así podremos ver cuál es mejor en términos de rendimiento, además de poder tener un punto de referencia para comparar la calidad de las tarjetas gráficas de ambas marcas.\n"
   ]
  },
  {
   "cell_type": "code",
   "execution_count": 8,
   "metadata": {},
   "outputs": [],
   "source": [
    "nvidia4000 = df[df[\"chipset\"].str.contains(\"RTX 40\", case=False, na=False)]\n",
    "nvidia3000 = df[df[\"chipset\"].str.contains(\"RTX 30\", case=False, na=False)]\n",
    "amd7000 = df[df[\"chipset\"].str.contains(\"RX 7\", case=False, na=False)]\n",
    "amd6000 = df[df[\"chipset\"].str.contains(\"RX 6\", case=False, na=False)]\n",
    "\n",
    "nvidia = pd.concat([nvidia4000, nvidia3000], ignore_index=True).reset_index(drop=True)\n",
    "amd = pd.concat([amd7000, amd6000], ignore_index=True).reset_index(drop=True)"
   ]
  },
  {
   "cell_type": "code",
   "execution_count": 9,
   "metadata": {},
   "outputs": [
    {
     "data": {
      "text/html": [
       "<div>\n",
       "<style scoped>\n",
       "    .dataframe tbody tr th:only-of-type {\n",
       "        vertical-align: middle;\n",
       "    }\n",
       "\n",
       "    .dataframe tbody tr th {\n",
       "        vertical-align: top;\n",
       "    }\n",
       "\n",
       "    .dataframe thead th {\n",
       "        text-align: right;\n",
       "    }\n",
       "</style>\n",
       "<table border=\"1\" class=\"dataframe\">\n",
       "  <thead>\n",
       "    <tr style=\"text-align: right;\">\n",
       "      <th></th>\n",
       "      <th>name</th>\n",
       "      <th>parent_brand</th>\n",
       "      <th>price</th>\n",
       "      <th>memory</th>\n",
       "      <th>core_clock</th>\n",
       "      <th>core_boost_clock</th>\n",
       "      <th>chipset</th>\n",
       "      <th>brand</th>\n",
       "    </tr>\n",
       "  </thead>\n",
       "  <tbody>\n",
       "    <tr>\n",
       "      <th>0</th>\n",
       "      <td>Asus ROG STRIX GAMING OC</td>\n",
       "      <td>NVIDIA</td>\n",
       "      <td>2179.99</td>\n",
       "      <td>24576.0</td>\n",
       "      <td>2235.0</td>\n",
       "      <td>2640.0</td>\n",
       "      <td>GeForce RTX 4090</td>\n",
       "      <td>Asus</td>\n",
       "    </tr>\n",
       "    <tr>\n",
       "      <th>1</th>\n",
       "      <td>Asus TUF GAMING</td>\n",
       "      <td>NVIDIA</td>\n",
       "      <td>999.99</td>\n",
       "      <td>16384.0</td>\n",
       "      <td>2210.0</td>\n",
       "      <td>2580.0</td>\n",
       "      <td>GeForce RTX 4080 SUPER</td>\n",
       "      <td>Asus</td>\n",
       "    </tr>\n",
       "    <tr>\n",
       "      <th>2</th>\n",
       "      <td>Asus ROG STRIX GAMING OC</td>\n",
       "      <td>NVIDIA</td>\n",
       "      <td>2249.99</td>\n",
       "      <td>24576.0</td>\n",
       "      <td>2235.0</td>\n",
       "      <td>2640.0</td>\n",
       "      <td>GeForce RTX 4090</td>\n",
       "      <td>Asus</td>\n",
       "    </tr>\n",
       "    <tr>\n",
       "      <th>3</th>\n",
       "      <td>Asus TUF GAMING OC</td>\n",
       "      <td>NVIDIA</td>\n",
       "      <td>849.00</td>\n",
       "      <td>16384.0</td>\n",
       "      <td>2340.0</td>\n",
       "      <td>2670.0</td>\n",
       "      <td>GeForce RTX 4070 Ti SUPER</td>\n",
       "      <td>Asus</td>\n",
       "    </tr>\n",
       "    <tr>\n",
       "      <th>4</th>\n",
       "      <td>Asus ProArt OC</td>\n",
       "      <td>NVIDIA</td>\n",
       "      <td>1149.97</td>\n",
       "      <td>16384.0</td>\n",
       "      <td>2210.0</td>\n",
       "      <td>2640.0</td>\n",
       "      <td>GeForce RTX 4080 SUPER</td>\n",
       "      <td>Asus</td>\n",
       "    </tr>\n",
       "  </tbody>\n",
       "</table>\n",
       "</div>"
      ],
      "text/plain": [
       "                       name parent_brand    price   memory  core_clock  \\\n",
       "0  Asus ROG STRIX GAMING OC       NVIDIA  2179.99  24576.0      2235.0   \n",
       "1           Asus TUF GAMING       NVIDIA   999.99  16384.0      2210.0   \n",
       "2  Asus ROG STRIX GAMING OC       NVIDIA  2249.99  24576.0      2235.0   \n",
       "3        Asus TUF GAMING OC       NVIDIA   849.00  16384.0      2340.0   \n",
       "4            Asus ProArt OC       NVIDIA  1149.97  16384.0      2210.0   \n",
       "\n",
       "   core_boost_clock                    chipset brand  \n",
       "0            2640.0           GeForce RTX 4090  Asus  \n",
       "1            2580.0     GeForce RTX 4080 SUPER  Asus  \n",
       "2            2640.0           GeForce RTX 4090  Asus  \n",
       "3            2670.0  GeForce RTX 4070 Ti SUPER  Asus  \n",
       "4            2640.0     GeForce RTX 4080 SUPER  Asus  "
      ]
     },
     "execution_count": 9,
     "metadata": {},
     "output_type": "execute_result"
    }
   ],
   "source": [
    "nvidia.head()"
   ]
  },
  {
   "cell_type": "code",
   "execution_count": 10,
   "metadata": {},
   "outputs": [
    {
     "data": {
      "text/html": [
       "<div>\n",
       "<style scoped>\n",
       "    .dataframe tbody tr th:only-of-type {\n",
       "        vertical-align: middle;\n",
       "    }\n",
       "\n",
       "    .dataframe tbody tr th {\n",
       "        vertical-align: top;\n",
       "    }\n",
       "\n",
       "    .dataframe thead th {\n",
       "        text-align: right;\n",
       "    }\n",
       "</style>\n",
       "<table border=\"1\" class=\"dataframe\">\n",
       "  <thead>\n",
       "    <tr style=\"text-align: right;\">\n",
       "      <th></th>\n",
       "      <th>name</th>\n",
       "      <th>parent_brand</th>\n",
       "      <th>price</th>\n",
       "      <th>memory</th>\n",
       "      <th>core_clock</th>\n",
       "      <th>core_boost_clock</th>\n",
       "      <th>chipset</th>\n",
       "      <th>brand</th>\n",
       "    </tr>\n",
       "  </thead>\n",
       "  <tbody>\n",
       "    <tr>\n",
       "      <th>0</th>\n",
       "      <td>Asus DUAL OC</td>\n",
       "      <td>AMD</td>\n",
       "      <td>509.99</td>\n",
       "      <td>16384.0</td>\n",
       "      <td>1295.0</td>\n",
       "      <td>2520.0</td>\n",
       "      <td>Radeon RX 7800 XT</td>\n",
       "      <td>Asus</td>\n",
       "    </tr>\n",
       "    <tr>\n",
       "      <th>1</th>\n",
       "      <td>Asus DUAL OC</td>\n",
       "      <td>AMD</td>\n",
       "      <td>439.99</td>\n",
       "      <td>12288.0</td>\n",
       "      <td>1700.0</td>\n",
       "      <td>2599.0</td>\n",
       "      <td>Radeon RX 7700 XT</td>\n",
       "      <td>Asus</td>\n",
       "    </tr>\n",
       "    <tr>\n",
       "      <th>2</th>\n",
       "      <td>Asus TUF GAMING OC</td>\n",
       "      <td>AMD</td>\n",
       "      <td>1151.90</td>\n",
       "      <td>24576.0</td>\n",
       "      <td>2300.0</td>\n",
       "      <td>2615.0</td>\n",
       "      <td>Radeon RX 7900 XTX</td>\n",
       "      <td>Asus</td>\n",
       "    </tr>\n",
       "    <tr>\n",
       "      <th>3</th>\n",
       "      <td>Asus DUAL OC</td>\n",
       "      <td>AMD</td>\n",
       "      <td>339.97</td>\n",
       "      <td>16384.0</td>\n",
       "      <td>1720.0</td>\n",
       "      <td>2801.0</td>\n",
       "      <td>Radeon RX 7600 XT</td>\n",
       "      <td>Asus</td>\n",
       "    </tr>\n",
       "    <tr>\n",
       "      <th>4</th>\n",
       "      <td>Asus TUF GAMING OC</td>\n",
       "      <td>AMD</td>\n",
       "      <td>697.62</td>\n",
       "      <td>16384.0</td>\n",
       "      <td>1295.0</td>\n",
       "      <td>2565.0</td>\n",
       "      <td>Radeon RX 7800 XT</td>\n",
       "      <td>Asus</td>\n",
       "    </tr>\n",
       "  </tbody>\n",
       "</table>\n",
       "</div>"
      ],
      "text/plain": [
       "                 name parent_brand    price   memory  core_clock  \\\n",
       "0        Asus DUAL OC          AMD   509.99  16384.0      1295.0   \n",
       "1        Asus DUAL OC          AMD   439.99  12288.0      1700.0   \n",
       "2  Asus TUF GAMING OC          AMD  1151.90  24576.0      2300.0   \n",
       "3        Asus DUAL OC          AMD   339.97  16384.0      1720.0   \n",
       "4  Asus TUF GAMING OC          AMD   697.62  16384.0      1295.0   \n",
       "\n",
       "   core_boost_clock             chipset brand  \n",
       "0            2520.0   Radeon RX 7800 XT  Asus  \n",
       "1            2599.0   Radeon RX 7700 XT  Asus  \n",
       "2            2615.0  Radeon RX 7900 XTX  Asus  \n",
       "3            2801.0   Radeon RX 7600 XT  Asus  \n",
       "4            2565.0   Radeon RX 7800 XT  Asus  "
      ]
     },
     "execution_count": 10,
     "metadata": {},
     "output_type": "execute_result"
    }
   ],
   "source": [
    "amd.head()"
   ]
  },
  {
   "cell_type": "markdown",
   "metadata": {},
   "source": [
    "Ahora, nos quedamos con las columnas que vamos a usar, chipset, price, memory, core_clock y core_boost_clock. Y nos quitamos los que tengan valores nulos.\n"
   ]
  },
  {
   "cell_type": "code",
   "execution_count": 11,
   "metadata": {},
   "outputs": [],
   "source": [
    "cols = [\"chipset\", \"price\", \"core_clock\", \"core_boost_clock\", \"memory\"]\n",
    "nvidia = nvidia[cols].dropna()\n",
    "amd = amd[cols].dropna()"
   ]
  },
  {
   "cell_type": "markdown",
   "metadata": {},
   "source": [
    "Agrupamos por chipset, estandarizamos valores, calculamos el mismo puntaje de antes, y nos quedamos con el mejor chipeset de cada marca.\n"
   ]
  },
  {
   "cell_type": "code",
   "execution_count": 12,
   "metadata": {},
   "outputs": [
    {
     "name": "stderr",
     "output_type": "stream",
     "text": [
      "/tmp/ipykernel_11590/1530778089.py:1: DeprecationWarning:\n",
      "\n",
      "DataFrameGroupBy.apply operated on the grouping columns. This behavior is deprecated, and in a future version of pandas the grouping columns will be excluded from the operation. Either pass `include_groups=False` to exclude the groupings or explicitly select the grouping columns after groupby to silence this warning.\n",
      "\n",
      "/tmp/ipykernel_11590/1530778089.py:2: DeprecationWarning:\n",
      "\n",
      "DataFrameGroupBy.apply operated on the grouping columns. This behavior is deprecated, and in a future version of pandas the grouping columns will be excluded from the operation. Either pass `include_groups=False` to exclude the groupings or explicitly select the grouping columns after groupby to silence this warning.\n",
      "\n"
     ]
    },
    {
     "data": {
      "text/html": [
       "<div>\n",
       "<style scoped>\n",
       "    .dataframe tbody tr th:only-of-type {\n",
       "        vertical-align: middle;\n",
       "    }\n",
       "\n",
       "    .dataframe tbody tr th {\n",
       "        vertical-align: top;\n",
       "    }\n",
       "\n",
       "    .dataframe thead th {\n",
       "        text-align: right;\n",
       "    }\n",
       "</style>\n",
       "<table border=\"1\" class=\"dataframe\">\n",
       "  <thead>\n",
       "    <tr style=\"text-align: right;\">\n",
       "      <th></th>\n",
       "      <th>chipset</th>\n",
       "      <th>punt</th>\n",
       "      <th>price</th>\n",
       "      <th>core_clock</th>\n",
       "      <th>core_boost_clock</th>\n",
       "      <th>memory</th>\n",
       "    </tr>\n",
       "  </thead>\n",
       "  <tbody>\n",
       "    <tr>\n",
       "      <th>0</th>\n",
       "      <td>GeForce RTX 3050 6GB</td>\n",
       "      <td>9.325583</td>\n",
       "      <td>159.99</td>\n",
       "      <td>1040.0</td>\n",
       "      <td>1492.0</td>\n",
       "      <td>6144.0</td>\n",
       "    </tr>\n",
       "    <tr>\n",
       "      <th>2</th>\n",
       "      <td>GeForce RTX 3050 8GB</td>\n",
       "      <td>9.035452</td>\n",
       "      <td>199.99</td>\n",
       "      <td>1550.0</td>\n",
       "      <td>1807.0</td>\n",
       "      <td>8192.0</td>\n",
       "    </tr>\n",
       "    <tr>\n",
       "      <th>3</th>\n",
       "      <td>GeForce RTX 3060 12GB</td>\n",
       "      <td>6.400229</td>\n",
       "      <td>279.99</td>\n",
       "      <td>1320.0</td>\n",
       "      <td>1792.0</td>\n",
       "      <td>12288.0</td>\n",
       "    </tr>\n",
       "    <tr>\n",
       "      <th>5</th>\n",
       "      <td>GeForce RTX 3060 8GB</td>\n",
       "      <td>5.949951</td>\n",
       "      <td>303.70</td>\n",
       "      <td>1320.0</td>\n",
       "      <td>1807.0</td>\n",
       "      <td>8192.0</td>\n",
       "    </tr>\n",
       "    <tr>\n",
       "      <th>6</th>\n",
       "      <td>GeForce RTX 3060 Ti</td>\n",
       "      <td>3.877437</td>\n",
       "      <td>448.75</td>\n",
       "      <td>1410.0</td>\n",
       "      <td>1740.0</td>\n",
       "      <td>8192.0</td>\n",
       "    </tr>\n",
       "    <tr>\n",
       "      <th>7</th>\n",
       "      <td>GeForce RTX 3060 Ti LHR</td>\n",
       "      <td>4.682213</td>\n",
       "      <td>381.23</td>\n",
       "      <td>1410.0</td>\n",
       "      <td>1785.0</td>\n",
       "      <td>8192.0</td>\n",
       "    </tr>\n",
       "    <tr>\n",
       "      <th>8</th>\n",
       "      <td>GeForce RTX 3070</td>\n",
       "      <td>3.643869</td>\n",
       "      <td>506.33</td>\n",
       "      <td>1500.0</td>\n",
       "      <td>1845.0</td>\n",
       "      <td>8192.0</td>\n",
       "    </tr>\n",
       "    <tr>\n",
       "      <th>9</th>\n",
       "      <td>GeForce RTX 3070 LHR</td>\n",
       "      <td>3.624985</td>\n",
       "      <td>484.14</td>\n",
       "      <td>1500.0</td>\n",
       "      <td>1755.0</td>\n",
       "      <td>8192.0</td>\n",
       "    </tr>\n",
       "    <tr>\n",
       "      <th>10</th>\n",
       "      <td>GeForce RTX 3070 Ti</td>\n",
       "      <td>3.182609</td>\n",
       "      <td>575.00</td>\n",
       "      <td>1575.0</td>\n",
       "      <td>1830.0</td>\n",
       "      <td>8192.0</td>\n",
       "    </tr>\n",
       "    <tr>\n",
       "      <th>11</th>\n",
       "      <td>GeForce RTX 3080 10GB</td>\n",
       "      <td>1.755018</td>\n",
       "      <td>999.99</td>\n",
       "      <td>1440.0</td>\n",
       "      <td>1755.0</td>\n",
       "      <td>10240.0</td>\n",
       "    </tr>\n",
       "    <tr>\n",
       "      <th>12</th>\n",
       "      <td>GeForce RTX 3080 10GB LHR</td>\n",
       "      <td>2.488044</td>\n",
       "      <td>723.46</td>\n",
       "      <td>1440.0</td>\n",
       "      <td>1800.0</td>\n",
       "      <td>10240.0</td>\n",
       "    </tr>\n",
       "    <tr>\n",
       "      <th>13</th>\n",
       "      <td>GeForce RTX 3080 12GB LHR</td>\n",
       "      <td>2.305674</td>\n",
       "      <td>754.66</td>\n",
       "      <td>1260.0</td>\n",
       "      <td>1740.0</td>\n",
       "      <td>12288.0</td>\n",
       "    </tr>\n",
       "    <tr>\n",
       "      <th>14</th>\n",
       "      <td>GeForce RTX 3080 Ti</td>\n",
       "      <td>1.913576</td>\n",
       "      <td>924.97</td>\n",
       "      <td>1365.0</td>\n",
       "      <td>1770.0</td>\n",
       "      <td>12288.0</td>\n",
       "    </tr>\n",
       "    <tr>\n",
       "      <th>15</th>\n",
       "      <td>GeForce RTX 3090</td>\n",
       "      <td>1.339334</td>\n",
       "      <td>1399.95</td>\n",
       "      <td>1395.0</td>\n",
       "      <td>1875.0</td>\n",
       "      <td>24576.0</td>\n",
       "    </tr>\n",
       "    <tr>\n",
       "      <th>16</th>\n",
       "      <td>GeForce RTX 3090 Ti</td>\n",
       "      <td>1.320009</td>\n",
       "      <td>1499.99</td>\n",
       "      <td>1560.0</td>\n",
       "      <td>1980.0</td>\n",
       "      <td>24576.0</td>\n",
       "    </tr>\n",
       "    <tr>\n",
       "      <th>17</th>\n",
       "      <td>GeForce RTX 4060</td>\n",
       "      <td>8.549780</td>\n",
       "      <td>292.99</td>\n",
       "      <td>1830.0</td>\n",
       "      <td>2505.0</td>\n",
       "      <td>8192.0</td>\n",
       "    </tr>\n",
       "    <tr>\n",
       "      <th>19</th>\n",
       "      <td>GeForce RTX 4060 Ti</td>\n",
       "      <td>6.623549</td>\n",
       "      <td>384.99</td>\n",
       "      <td>2310.0</td>\n",
       "      <td>2550.0</td>\n",
       "      <td>8192.0</td>\n",
       "    </tr>\n",
       "    <tr>\n",
       "      <th>20</th>\n",
       "      <td>GeForce RTX 4070</td>\n",
       "      <td>4.582068</td>\n",
       "      <td>549.97</td>\n",
       "      <td>1920.0</td>\n",
       "      <td>2520.0</td>\n",
       "      <td>12288.0</td>\n",
       "    </tr>\n",
       "    <tr>\n",
       "      <th>22</th>\n",
       "      <td>GeForce RTX 4070 SUPER</td>\n",
       "      <td>4.271259</td>\n",
       "      <td>589.99</td>\n",
       "      <td>1980.0</td>\n",
       "      <td>2520.0</td>\n",
       "      <td>12288.0</td>\n",
       "    </tr>\n",
       "    <tr>\n",
       "      <th>24</th>\n",
       "      <td>GeForce RTX 4070 Ti</td>\n",
       "      <td>3.709510</td>\n",
       "      <td>739.99</td>\n",
       "      <td>2310.0</td>\n",
       "      <td>2745.0</td>\n",
       "      <td>12288.0</td>\n",
       "    </tr>\n",
       "    <tr>\n",
       "      <th>25</th>\n",
       "      <td>GeForce RTX 4070 Ti SUPER</td>\n",
       "      <td>3.389654</td>\n",
       "      <td>769.99</td>\n",
       "      <td>2340.0</td>\n",
       "      <td>2610.0</td>\n",
       "      <td>16384.0</td>\n",
       "    </tr>\n",
       "    <tr>\n",
       "      <th>26</th>\n",
       "      <td>GeForce RTX 4080</td>\n",
       "      <td>2.089241</td>\n",
       "      <td>1199.00</td>\n",
       "      <td>2205.0</td>\n",
       "      <td>2505.0</td>\n",
       "      <td>16384.0</td>\n",
       "    </tr>\n",
       "    <tr>\n",
       "      <th>27</th>\n",
       "      <td>GeForce RTX 4080 SUPER</td>\n",
       "      <td>2.580026</td>\n",
       "      <td>999.99</td>\n",
       "      <td>2210.0</td>\n",
       "      <td>2580.0</td>\n",
       "      <td>16384.0</td>\n",
       "    </tr>\n",
       "    <tr>\n",
       "      <th>29</th>\n",
       "      <td>GeForce RTX 4090</td>\n",
       "      <td>1.304033</td>\n",
       "      <td>1989.98</td>\n",
       "      <td>2235.0</td>\n",
       "      <td>2595.0</td>\n",
       "      <td>24576.0</td>\n",
       "    </tr>\n",
       "  </tbody>\n",
       "</table>\n",
       "</div>"
      ],
      "text/plain": [
       "                      chipset      punt    price  core_clock  \\\n",
       "0        GeForce RTX 3050 6GB  9.325583   159.99      1040.0   \n",
       "2        GeForce RTX 3050 8GB  9.035452   199.99      1550.0   \n",
       "3       GeForce RTX 3060 12GB  6.400229   279.99      1320.0   \n",
       "5        GeForce RTX 3060 8GB  5.949951   303.70      1320.0   \n",
       "6         GeForce RTX 3060 Ti  3.877437   448.75      1410.0   \n",
       "7     GeForce RTX 3060 Ti LHR  4.682213   381.23      1410.0   \n",
       "8            GeForce RTX 3070  3.643869   506.33      1500.0   \n",
       "9        GeForce RTX 3070 LHR  3.624985   484.14      1500.0   \n",
       "10        GeForce RTX 3070 Ti  3.182609   575.00      1575.0   \n",
       "11      GeForce RTX 3080 10GB  1.755018   999.99      1440.0   \n",
       "12  GeForce RTX 3080 10GB LHR  2.488044   723.46      1440.0   \n",
       "13  GeForce RTX 3080 12GB LHR  2.305674   754.66      1260.0   \n",
       "14        GeForce RTX 3080 Ti  1.913576   924.97      1365.0   \n",
       "15           GeForce RTX 3090  1.339334  1399.95      1395.0   \n",
       "16        GeForce RTX 3090 Ti  1.320009  1499.99      1560.0   \n",
       "17           GeForce RTX 4060  8.549780   292.99      1830.0   \n",
       "19        GeForce RTX 4060 Ti  6.623549   384.99      2310.0   \n",
       "20           GeForce RTX 4070  4.582068   549.97      1920.0   \n",
       "22     GeForce RTX 4070 SUPER  4.271259   589.99      1980.0   \n",
       "24        GeForce RTX 4070 Ti  3.709510   739.99      2310.0   \n",
       "25  GeForce RTX 4070 Ti SUPER  3.389654   769.99      2340.0   \n",
       "26           GeForce RTX 4080  2.089241  1199.00      2205.0   \n",
       "27     GeForce RTX 4080 SUPER  2.580026   999.99      2210.0   \n",
       "29           GeForce RTX 4090  1.304033  1989.98      2235.0   \n",
       "\n",
       "    core_boost_clock   memory  \n",
       "0             1492.0   6144.0  \n",
       "2             1807.0   8192.0  \n",
       "3             1792.0  12288.0  \n",
       "5             1807.0   8192.0  \n",
       "6             1740.0   8192.0  \n",
       "7             1785.0   8192.0  \n",
       "8             1845.0   8192.0  \n",
       "9             1755.0   8192.0  \n",
       "10            1830.0   8192.0  \n",
       "11            1755.0  10240.0  \n",
       "12            1800.0  10240.0  \n",
       "13            1740.0  12288.0  \n",
       "14            1770.0  12288.0  \n",
       "15            1875.0  24576.0  \n",
       "16            1980.0  24576.0  \n",
       "17            2505.0   8192.0  \n",
       "19            2550.0   8192.0  \n",
       "20            2520.0  12288.0  \n",
       "22            2520.0  12288.0  \n",
       "24            2745.0  12288.0  \n",
       "25            2610.0  16384.0  \n",
       "26            2505.0  16384.0  \n",
       "27            2580.0  16384.0  \n",
       "29            2595.0  24576.0  "
      ]
     },
     "execution_count": 12,
     "metadata": {},
     "output_type": "execute_result"
    }
   ],
   "source": [
    "nvidia_grouped: DataFrame = nvidia.groupby(\"chipset\").apply(process_group).reset_index(drop=True)\n",
    "amd_grouped: DataFrame = amd.groupby(\"chipset\").apply(process_group).reset_index(drop=True)\n",
    "\n",
    "nvidia_max = nvidia_grouped.groupby(\"chipset\")[\"punt\"].max().reset_index()\n",
    "amd_max = amd_grouped.groupby(\"chipset\")[\"punt\"].max().reset_index()\n",
    "\n",
    "nvidia_max = pd.merge(nvidia_max, nvidia_grouped, on=[\"chipset\", \"punt\"], how=\"inner\").drop_duplicates()\n",
    "amd_max = pd.merge(amd_max, amd_grouped, on=[\"chipset\", \"punt\"], how=\"inner\").drop_duplicates()\n",
    "\n",
    "nvidia_max"
   ]
  },
  {
   "cell_type": "markdown",
   "metadata": {},
   "source": [
    "Una vez tenemos el mejor chipset de cada marca, podemos calcular la nueva puntación y graficar.\n"
   ]
  },
  {
   "cell_type": "code",
   "execution_count": 13,
   "metadata": {},
   "outputs": [],
   "source": [
    "def calc_punt(df):\n",
    "    return normalize(CC * df[\"core_clock\"] + CB * df[\"core_boost_clock\"] + MM * df[\"memory\"])\n",
    "\n",
    "\n",
    "def calc_punt_price(df):\n",
    "    return normalize((CC * df[\"core_clock\"] + CB * df[\"core_boost_clock\"] + MM * df[\"memory\"]) / df[\"price\"])"
   ]
  },
  {
   "cell_type": "code",
   "execution_count": 14,
   "metadata": {},
   "outputs": [
    {
     "data": {
      "application/vnd.plotly.v1+json": {
       "config": {
        "plotlyServerURL": "https://plot.ly"
       },
       "data": [
        {
         "hovertemplate": "Chipset=%{x}<br>Puntuación=%{y}<extra></extra>",
         "legendgroup": "",
         "marker": {
          "color": "#636efa",
          "symbol": "circle"
         },
         "mode": "markers",
         "name": "",
         "orientation": "v",
         "showlegend": false,
         "type": "scatter",
         "x": [
          "Radeon RX 7900 XTX",
          "GeForce RTX 4090",
          "GeForce RTX 3090 Ti",
          "GeForce RTX 3090",
          "Radeon RX 7900 XT",
          "GeForce RTX 4070 Ti SUPER",
          "GeForce RTX 4080 SUPER",
          "Radeon RX 7600 XT",
          "GeForce RTX 4080",
          "Radeon RX 6950 XT",
          "Radeon RX 6900 XT",
          "Radeon RX 7800 XT",
          "Radeon RX 6800 XT",
          "Radeon RX 7900 GRE",
          "Radeon RX 6800",
          "GeForce RTX 4070 Ti",
          "Radeon RX 6700 XT",
          "Radeon RX 6750 XT",
          "GeForce RTX 4070 SUPER",
          "GeForce RTX 4070",
          "Radeon RX 7700 XT",
          "GeForce RTX 3080 Ti",
          "GeForce RTX 3060 12GB",
          "GeForce RTX 3080 12GB LHR",
          "GeForce RTX 3080 10GB LHR",
          "GeForce RTX 3080 10GB",
          "GeForce RTX 4060 Ti",
          "Radeon RX 6650 XT",
          "Radeon RX 7600",
          "Radeon RX 6600 XT",
          "GeForce RTX 4060",
          "Radeon RX 6600",
          "GeForce RTX 3070 Ti",
          "GeForce RTX 3070",
          "GeForce RTX 3050 8GB",
          "GeForce RTX 3070 LHR",
          "GeForce RTX 3060 Ti LHR",
          "GeForce RTX 3060 8GB",
          "GeForce RTX 3060 Ti",
          "GeForce RTX 3050 6GB",
          "Radeon RX 6500 XT"
         ],
         "xaxis": "x",
         "y": [
          1,
          0.9974093264248705,
          0.9504071058475204,
          0.9411547002220577,
          0.7865284974093263,
          0.5964964224031581,
          0.591808536886257,
          0.588354305452751,
          0.5879842092277325,
          0.5763878608438193,
          0.5747841105354058,
          0.5684924747100912,
          0.5677522822600543,
          0.5594867999013077,
          0.5557858376511225,
          0.4002960769800148,
          0.3924747100912904,
          0.38919319022945964,
          0.3810510732790525,
          0.3795706883789785,
          0.37730076486553177,
          0.3288675055514434,
          0.3288428324697755,
          0.32479644707623984,
          0.23113742906489015,
          0.2289168517147791,
          0.1885516901060942,
          0.1864544781643227,
          0.18411053540587216,
          0.18267949666913402,
          0.17448803355539105,
          0.16876387860843822,
          0.13488773747841104,
          0.13377744880335551,
          0.13313594867999012,
          0.12933629410313346,
          0.12859610165309646,
          0.12746113989637306,
          0.12637552430298543,
          0.003947693066864107,
          0
         ],
         "yaxis": "y"
        }
       ],
       "layout": {
        "height": 1000,
        "legend": {
         "tracegroupgap": 0
        },
        "template": {
         "data": {
          "bar": [
           {
            "error_x": {
             "color": "#2a3f5f"
            },
            "error_y": {
             "color": "#2a3f5f"
            },
            "marker": {
             "line": {
              "color": "#E5ECF6",
              "width": 0.5
             },
             "pattern": {
              "fillmode": "overlay",
              "size": 10,
              "solidity": 0.2
             }
            },
            "type": "bar"
           }
          ],
          "barpolar": [
           {
            "marker": {
             "line": {
              "color": "#E5ECF6",
              "width": 0.5
             },
             "pattern": {
              "fillmode": "overlay",
              "size": 10,
              "solidity": 0.2
             }
            },
            "type": "barpolar"
           }
          ],
          "carpet": [
           {
            "aaxis": {
             "endlinecolor": "#2a3f5f",
             "gridcolor": "white",
             "linecolor": "white",
             "minorgridcolor": "white",
             "startlinecolor": "#2a3f5f"
            },
            "baxis": {
             "endlinecolor": "#2a3f5f",
             "gridcolor": "white",
             "linecolor": "white",
             "minorgridcolor": "white",
             "startlinecolor": "#2a3f5f"
            },
            "type": "carpet"
           }
          ],
          "choropleth": [
           {
            "colorbar": {
             "outlinewidth": 0,
             "ticks": ""
            },
            "type": "choropleth"
           }
          ],
          "contour": [
           {
            "colorbar": {
             "outlinewidth": 0,
             "ticks": ""
            },
            "colorscale": [
             [
              0,
              "#0d0887"
             ],
             [
              0.1111111111111111,
              "#46039f"
             ],
             [
              0.2222222222222222,
              "#7201a8"
             ],
             [
              0.3333333333333333,
              "#9c179e"
             ],
             [
              0.4444444444444444,
              "#bd3786"
             ],
             [
              0.5555555555555556,
              "#d8576b"
             ],
             [
              0.6666666666666666,
              "#ed7953"
             ],
             [
              0.7777777777777778,
              "#fb9f3a"
             ],
             [
              0.8888888888888888,
              "#fdca26"
             ],
             [
              1,
              "#f0f921"
             ]
            ],
            "type": "contour"
           }
          ],
          "contourcarpet": [
           {
            "colorbar": {
             "outlinewidth": 0,
             "ticks": ""
            },
            "type": "contourcarpet"
           }
          ],
          "heatmap": [
           {
            "colorbar": {
             "outlinewidth": 0,
             "ticks": ""
            },
            "colorscale": [
             [
              0,
              "#0d0887"
             ],
             [
              0.1111111111111111,
              "#46039f"
             ],
             [
              0.2222222222222222,
              "#7201a8"
             ],
             [
              0.3333333333333333,
              "#9c179e"
             ],
             [
              0.4444444444444444,
              "#bd3786"
             ],
             [
              0.5555555555555556,
              "#d8576b"
             ],
             [
              0.6666666666666666,
              "#ed7953"
             ],
             [
              0.7777777777777778,
              "#fb9f3a"
             ],
             [
              0.8888888888888888,
              "#fdca26"
             ],
             [
              1,
              "#f0f921"
             ]
            ],
            "type": "heatmap"
           }
          ],
          "heatmapgl": [
           {
            "colorbar": {
             "outlinewidth": 0,
             "ticks": ""
            },
            "colorscale": [
             [
              0,
              "#0d0887"
             ],
             [
              0.1111111111111111,
              "#46039f"
             ],
             [
              0.2222222222222222,
              "#7201a8"
             ],
             [
              0.3333333333333333,
              "#9c179e"
             ],
             [
              0.4444444444444444,
              "#bd3786"
             ],
             [
              0.5555555555555556,
              "#d8576b"
             ],
             [
              0.6666666666666666,
              "#ed7953"
             ],
             [
              0.7777777777777778,
              "#fb9f3a"
             ],
             [
              0.8888888888888888,
              "#fdca26"
             ],
             [
              1,
              "#f0f921"
             ]
            ],
            "type": "heatmapgl"
           }
          ],
          "histogram": [
           {
            "marker": {
             "pattern": {
              "fillmode": "overlay",
              "size": 10,
              "solidity": 0.2
             }
            },
            "type": "histogram"
           }
          ],
          "histogram2d": [
           {
            "colorbar": {
             "outlinewidth": 0,
             "ticks": ""
            },
            "colorscale": [
             [
              0,
              "#0d0887"
             ],
             [
              0.1111111111111111,
              "#46039f"
             ],
             [
              0.2222222222222222,
              "#7201a8"
             ],
             [
              0.3333333333333333,
              "#9c179e"
             ],
             [
              0.4444444444444444,
              "#bd3786"
             ],
             [
              0.5555555555555556,
              "#d8576b"
             ],
             [
              0.6666666666666666,
              "#ed7953"
             ],
             [
              0.7777777777777778,
              "#fb9f3a"
             ],
             [
              0.8888888888888888,
              "#fdca26"
             ],
             [
              1,
              "#f0f921"
             ]
            ],
            "type": "histogram2d"
           }
          ],
          "histogram2dcontour": [
           {
            "colorbar": {
             "outlinewidth": 0,
             "ticks": ""
            },
            "colorscale": [
             [
              0,
              "#0d0887"
             ],
             [
              0.1111111111111111,
              "#46039f"
             ],
             [
              0.2222222222222222,
              "#7201a8"
             ],
             [
              0.3333333333333333,
              "#9c179e"
             ],
             [
              0.4444444444444444,
              "#bd3786"
             ],
             [
              0.5555555555555556,
              "#d8576b"
             ],
             [
              0.6666666666666666,
              "#ed7953"
             ],
             [
              0.7777777777777778,
              "#fb9f3a"
             ],
             [
              0.8888888888888888,
              "#fdca26"
             ],
             [
              1,
              "#f0f921"
             ]
            ],
            "type": "histogram2dcontour"
           }
          ],
          "mesh3d": [
           {
            "colorbar": {
             "outlinewidth": 0,
             "ticks": ""
            },
            "type": "mesh3d"
           }
          ],
          "parcoords": [
           {
            "line": {
             "colorbar": {
              "outlinewidth": 0,
              "ticks": ""
             }
            },
            "type": "parcoords"
           }
          ],
          "pie": [
           {
            "automargin": true,
            "type": "pie"
           }
          ],
          "scatter": [
           {
            "fillpattern": {
             "fillmode": "overlay",
             "size": 10,
             "solidity": 0.2
            },
            "type": "scatter"
           }
          ],
          "scatter3d": [
           {
            "line": {
             "colorbar": {
              "outlinewidth": 0,
              "ticks": ""
             }
            },
            "marker": {
             "colorbar": {
              "outlinewidth": 0,
              "ticks": ""
             }
            },
            "type": "scatter3d"
           }
          ],
          "scattercarpet": [
           {
            "marker": {
             "colorbar": {
              "outlinewidth": 0,
              "ticks": ""
             }
            },
            "type": "scattercarpet"
           }
          ],
          "scattergeo": [
           {
            "marker": {
             "colorbar": {
              "outlinewidth": 0,
              "ticks": ""
             }
            },
            "type": "scattergeo"
           }
          ],
          "scattergl": [
           {
            "marker": {
             "colorbar": {
              "outlinewidth": 0,
              "ticks": ""
             }
            },
            "type": "scattergl"
           }
          ],
          "scattermapbox": [
           {
            "marker": {
             "colorbar": {
              "outlinewidth": 0,
              "ticks": ""
             }
            },
            "type": "scattermapbox"
           }
          ],
          "scatterpolar": [
           {
            "marker": {
             "colorbar": {
              "outlinewidth": 0,
              "ticks": ""
             }
            },
            "type": "scatterpolar"
           }
          ],
          "scatterpolargl": [
           {
            "marker": {
             "colorbar": {
              "outlinewidth": 0,
              "ticks": ""
             }
            },
            "type": "scatterpolargl"
           }
          ],
          "scatterternary": [
           {
            "marker": {
             "colorbar": {
              "outlinewidth": 0,
              "ticks": ""
             }
            },
            "type": "scatterternary"
           }
          ],
          "surface": [
           {
            "colorbar": {
             "outlinewidth": 0,
             "ticks": ""
            },
            "colorscale": [
             [
              0,
              "#0d0887"
             ],
             [
              0.1111111111111111,
              "#46039f"
             ],
             [
              0.2222222222222222,
              "#7201a8"
             ],
             [
              0.3333333333333333,
              "#9c179e"
             ],
             [
              0.4444444444444444,
              "#bd3786"
             ],
             [
              0.5555555555555556,
              "#d8576b"
             ],
             [
              0.6666666666666666,
              "#ed7953"
             ],
             [
              0.7777777777777778,
              "#fb9f3a"
             ],
             [
              0.8888888888888888,
              "#fdca26"
             ],
             [
              1,
              "#f0f921"
             ]
            ],
            "type": "surface"
           }
          ],
          "table": [
           {
            "cells": {
             "fill": {
              "color": "#EBF0F8"
             },
             "line": {
              "color": "white"
             }
            },
            "header": {
             "fill": {
              "color": "#C8D4E3"
             },
             "line": {
              "color": "white"
             }
            },
            "type": "table"
           }
          ]
         },
         "layout": {
          "annotationdefaults": {
           "arrowcolor": "#2a3f5f",
           "arrowhead": 0,
           "arrowwidth": 1
          },
          "autotypenumbers": "strict",
          "coloraxis": {
           "colorbar": {
            "outlinewidth": 0,
            "ticks": ""
           }
          },
          "colorscale": {
           "diverging": [
            [
             0,
             "#8e0152"
            ],
            [
             0.1,
             "#c51b7d"
            ],
            [
             0.2,
             "#de77ae"
            ],
            [
             0.3,
             "#f1b6da"
            ],
            [
             0.4,
             "#fde0ef"
            ],
            [
             0.5,
             "#f7f7f7"
            ],
            [
             0.6,
             "#e6f5d0"
            ],
            [
             0.7,
             "#b8e186"
            ],
            [
             0.8,
             "#7fbc41"
            ],
            [
             0.9,
             "#4d9221"
            ],
            [
             1,
             "#276419"
            ]
           ],
           "sequential": [
            [
             0,
             "#0d0887"
            ],
            [
             0.1111111111111111,
             "#46039f"
            ],
            [
             0.2222222222222222,
             "#7201a8"
            ],
            [
             0.3333333333333333,
             "#9c179e"
            ],
            [
             0.4444444444444444,
             "#bd3786"
            ],
            [
             0.5555555555555556,
             "#d8576b"
            ],
            [
             0.6666666666666666,
             "#ed7953"
            ],
            [
             0.7777777777777778,
             "#fb9f3a"
            ],
            [
             0.8888888888888888,
             "#fdca26"
            ],
            [
             1,
             "#f0f921"
            ]
           ],
           "sequentialminus": [
            [
             0,
             "#0d0887"
            ],
            [
             0.1111111111111111,
             "#46039f"
            ],
            [
             0.2222222222222222,
             "#7201a8"
            ],
            [
             0.3333333333333333,
             "#9c179e"
            ],
            [
             0.4444444444444444,
             "#bd3786"
            ],
            [
             0.5555555555555556,
             "#d8576b"
            ],
            [
             0.6666666666666666,
             "#ed7953"
            ],
            [
             0.7777777777777778,
             "#fb9f3a"
            ],
            [
             0.8888888888888888,
             "#fdca26"
            ],
            [
             1,
             "#f0f921"
            ]
           ]
          },
          "colorway": [
           "#636efa",
           "#EF553B",
           "#00cc96",
           "#ab63fa",
           "#FFA15A",
           "#19d3f3",
           "#FF6692",
           "#B6E880",
           "#FF97FF",
           "#FECB52"
          ],
          "font": {
           "color": "#2a3f5f"
          },
          "geo": {
           "bgcolor": "white",
           "lakecolor": "white",
           "landcolor": "#E5ECF6",
           "showlakes": true,
           "showland": true,
           "subunitcolor": "white"
          },
          "hoverlabel": {
           "align": "left"
          },
          "hovermode": "closest",
          "mapbox": {
           "style": "light"
          },
          "paper_bgcolor": "white",
          "plot_bgcolor": "#E5ECF6",
          "polar": {
           "angularaxis": {
            "gridcolor": "white",
            "linecolor": "white",
            "ticks": ""
           },
           "bgcolor": "#E5ECF6",
           "radialaxis": {
            "gridcolor": "white",
            "linecolor": "white",
            "ticks": ""
           }
          },
          "scene": {
           "xaxis": {
            "backgroundcolor": "#E5ECF6",
            "gridcolor": "white",
            "gridwidth": 2,
            "linecolor": "white",
            "showbackground": true,
            "ticks": "",
            "zerolinecolor": "white"
           },
           "yaxis": {
            "backgroundcolor": "#E5ECF6",
            "gridcolor": "white",
            "gridwidth": 2,
            "linecolor": "white",
            "showbackground": true,
            "ticks": "",
            "zerolinecolor": "white"
           },
           "zaxis": {
            "backgroundcolor": "#E5ECF6",
            "gridcolor": "white",
            "gridwidth": 2,
            "linecolor": "white",
            "showbackground": true,
            "ticks": "",
            "zerolinecolor": "white"
           }
          },
          "shapedefaults": {
           "line": {
            "color": "#2a3f5f"
           }
          },
          "ternary": {
           "aaxis": {
            "gridcolor": "white",
            "linecolor": "white",
            "ticks": ""
           },
           "baxis": {
            "gridcolor": "white",
            "linecolor": "white",
            "ticks": ""
           },
           "bgcolor": "#E5ECF6",
           "caxis": {
            "gridcolor": "white",
            "linecolor": "white",
            "ticks": ""
           }
          },
          "title": {
           "x": 0.05
          },
          "xaxis": {
           "automargin": true,
           "gridcolor": "white",
           "linecolor": "white",
           "ticks": "",
           "title": {
            "standoff": 15
           },
           "zerolinecolor": "white",
           "zerolinewidth": 2
          },
          "yaxis": {
           "automargin": true,
           "gridcolor": "white",
           "linecolor": "white",
           "ticks": "",
           "title": {
            "standoff": 15
           },
           "zerolinecolor": "white",
           "zerolinewidth": 2
          }
         }
        },
        "title": {
         "text": "Puntuación de las GPU"
        },
        "width": 1200,
        "xaxis": {
         "anchor": "y",
         "domain": [
          0,
          1
         ],
         "title": {
          "text": "Chipset"
         }
        },
        "yaxis": {
         "anchor": "x",
         "domain": [
          0,
          1
         ],
         "title": {
          "text": "Puntuación"
         }
        }
       }
      }
     },
     "metadata": {},
     "output_type": "display_data"
    }
   ],
   "source": [
    "joined = pd.concat([nvidia_max, amd_max], ignore_index=True).reset_index(drop=True)\n",
    "\n",
    "joined[\"punt\"] = calc_punt(joined)\n",
    "joined = joined.sort_values(\"punt\", ascending=False)\n",
    "\n",
    "fig = px.scatter(\n",
    "    joined,\n",
    "    x=\"chipset\",\n",
    "    y=\"punt\",\n",
    "    title=\"Puntuación de las GPU\",\n",
    "    labels={\"punt\": \"Puntuación\", \"chipset\": \"Chipset\"},\n",
    "    width=1200,\n",
    "    height=1000\n",
    ")\n",
    "fig.show()"
   ]
  },
  {
   "cell_type": "code",
   "execution_count": 15,
   "metadata": {},
   "outputs": [
    {
     "data": {
      "application/vnd.plotly.v1+json": {
       "config": {
        "plotlyServerURL": "https://plot.ly"
       },
       "data": [
        {
         "hovertemplate": "Chipset=%{x}<br>Puntuación=%{y}<extra></extra>",
         "legendgroup": "",
         "marker": {
          "color": "#636efa",
          "symbol": "circle"
         },
         "mode": "markers",
         "name": "",
         "orientation": "v",
         "showlegend": false,
         "type": "scatter",
         "x": [
          "Radeon RX 7600 XT",
          "Radeon RX 6500 XT",
          "Radeon RX 6600",
          "GeForce RTX 3050 8GB",
          "GeForce RTX 3060 12GB",
          "Radeon RX 6650 XT",
          "GeForce RTX 3050 6GB",
          "Radeon RX 6750 XT",
          "Radeon RX 7600",
          "Radeon RX 7800 XT",
          "Radeon RX 7700 XT",
          "GeForce RTX 4060",
          "Radeon RX 6950 XT",
          "Radeon RX 6600 XT",
          "Radeon RX 6800",
          "Radeon RX 7900 XT",
          "Radeon RX 7900 GRE",
          "GeForce RTX 3060 8GB",
          "Radeon RX 6700 XT",
          "Radeon RX 7900 XTX",
          "GeForce RTX 4060 Ti",
          "GeForce RTX 4070",
          "GeForce RTX 3060 Ti LHR",
          "GeForce RTX 4070 SUPER",
          "GeForce RTX 4070 Ti SUPER",
          "Radeon RX 6800 XT",
          "GeForce RTX 3060 Ti",
          "GeForce RTX 3070 LHR",
          "GeForce RTX 4070 Ti",
          "Radeon RX 6900 XT",
          "GeForce RTX 3070",
          "GeForce RTX 4080 SUPER",
          "GeForce RTX 3080 12GB LHR",
          "GeForce RTX 3090",
          "GeForce RTX 3070 Ti",
          "GeForce RTX 3090 Ti",
          "GeForce RTX 3080 10GB LHR",
          "GeForce RTX 4080",
          "GeForce RTX 3080 Ti",
          "GeForce RTX 4090",
          "GeForce RTX 3080 10GB"
         ],
         "xaxis": "x",
         "y": [
          1,
          0.9925483221923537,
          0.8992450571120167,
          0.8267277383697575,
          0.8020619079971583,
          0.7799423805257043,
          0.7685860686352204,
          0.7466461127734024,
          0.6746916929670076,
          0.5821270876616618,
          0.5543727471162672,
          0.5406915177678662,
          0.5383019466228481,
          0.5358415845831885,
          0.4899977822573447,
          0.4867375195067705,
          0.45363635162910443,
          0.4495850601369162,
          0.44457059472938226,
          0.398948028839508,
          0.3653198508681933,
          0.3204970163201169,
          0.3074239783127277,
          0.2824538476103023,
          0.27061519488589364,
          0.24107285914232585,
          0.220724731424189,
          0.1884094848249909,
          0.18401291935308642,
          0.1814298360246323,
          0.1725295710151404,
          0.14772050695921748,
          0.13474669787197974,
          0.1341272550218953,
          0.12220873838201107,
          0.11065859386049902,
          0.09887447424010481,
          0.0795109779399039,
          0.06470120367227758,
          0.030137220067868908,
          0
         ],
         "yaxis": "y"
        }
       ],
       "layout": {
        "height": 1000,
        "legend": {
         "tracegroupgap": 0
        },
        "template": {
         "data": {
          "bar": [
           {
            "error_x": {
             "color": "#2a3f5f"
            },
            "error_y": {
             "color": "#2a3f5f"
            },
            "marker": {
             "line": {
              "color": "#E5ECF6",
              "width": 0.5
             },
             "pattern": {
              "fillmode": "overlay",
              "size": 10,
              "solidity": 0.2
             }
            },
            "type": "bar"
           }
          ],
          "barpolar": [
           {
            "marker": {
             "line": {
              "color": "#E5ECF6",
              "width": 0.5
             },
             "pattern": {
              "fillmode": "overlay",
              "size": 10,
              "solidity": 0.2
             }
            },
            "type": "barpolar"
           }
          ],
          "carpet": [
           {
            "aaxis": {
             "endlinecolor": "#2a3f5f",
             "gridcolor": "white",
             "linecolor": "white",
             "minorgridcolor": "white",
             "startlinecolor": "#2a3f5f"
            },
            "baxis": {
             "endlinecolor": "#2a3f5f",
             "gridcolor": "white",
             "linecolor": "white",
             "minorgridcolor": "white",
             "startlinecolor": "#2a3f5f"
            },
            "type": "carpet"
           }
          ],
          "choropleth": [
           {
            "colorbar": {
             "outlinewidth": 0,
             "ticks": ""
            },
            "type": "choropleth"
           }
          ],
          "contour": [
           {
            "colorbar": {
             "outlinewidth": 0,
             "ticks": ""
            },
            "colorscale": [
             [
              0,
              "#0d0887"
             ],
             [
              0.1111111111111111,
              "#46039f"
             ],
             [
              0.2222222222222222,
              "#7201a8"
             ],
             [
              0.3333333333333333,
              "#9c179e"
             ],
             [
              0.4444444444444444,
              "#bd3786"
             ],
             [
              0.5555555555555556,
              "#d8576b"
             ],
             [
              0.6666666666666666,
              "#ed7953"
             ],
             [
              0.7777777777777778,
              "#fb9f3a"
             ],
             [
              0.8888888888888888,
              "#fdca26"
             ],
             [
              1,
              "#f0f921"
             ]
            ],
            "type": "contour"
           }
          ],
          "contourcarpet": [
           {
            "colorbar": {
             "outlinewidth": 0,
             "ticks": ""
            },
            "type": "contourcarpet"
           }
          ],
          "heatmap": [
           {
            "colorbar": {
             "outlinewidth": 0,
             "ticks": ""
            },
            "colorscale": [
             [
              0,
              "#0d0887"
             ],
             [
              0.1111111111111111,
              "#46039f"
             ],
             [
              0.2222222222222222,
              "#7201a8"
             ],
             [
              0.3333333333333333,
              "#9c179e"
             ],
             [
              0.4444444444444444,
              "#bd3786"
             ],
             [
              0.5555555555555556,
              "#d8576b"
             ],
             [
              0.6666666666666666,
              "#ed7953"
             ],
             [
              0.7777777777777778,
              "#fb9f3a"
             ],
             [
              0.8888888888888888,
              "#fdca26"
             ],
             [
              1,
              "#f0f921"
             ]
            ],
            "type": "heatmap"
           }
          ],
          "heatmapgl": [
           {
            "colorbar": {
             "outlinewidth": 0,
             "ticks": ""
            },
            "colorscale": [
             [
              0,
              "#0d0887"
             ],
             [
              0.1111111111111111,
              "#46039f"
             ],
             [
              0.2222222222222222,
              "#7201a8"
             ],
             [
              0.3333333333333333,
              "#9c179e"
             ],
             [
              0.4444444444444444,
              "#bd3786"
             ],
             [
              0.5555555555555556,
              "#d8576b"
             ],
             [
              0.6666666666666666,
              "#ed7953"
             ],
             [
              0.7777777777777778,
              "#fb9f3a"
             ],
             [
              0.8888888888888888,
              "#fdca26"
             ],
             [
              1,
              "#f0f921"
             ]
            ],
            "type": "heatmapgl"
           }
          ],
          "histogram": [
           {
            "marker": {
             "pattern": {
              "fillmode": "overlay",
              "size": 10,
              "solidity": 0.2
             }
            },
            "type": "histogram"
           }
          ],
          "histogram2d": [
           {
            "colorbar": {
             "outlinewidth": 0,
             "ticks": ""
            },
            "colorscale": [
             [
              0,
              "#0d0887"
             ],
             [
              0.1111111111111111,
              "#46039f"
             ],
             [
              0.2222222222222222,
              "#7201a8"
             ],
             [
              0.3333333333333333,
              "#9c179e"
             ],
             [
              0.4444444444444444,
              "#bd3786"
             ],
             [
              0.5555555555555556,
              "#d8576b"
             ],
             [
              0.6666666666666666,
              "#ed7953"
             ],
             [
              0.7777777777777778,
              "#fb9f3a"
             ],
             [
              0.8888888888888888,
              "#fdca26"
             ],
             [
              1,
              "#f0f921"
             ]
            ],
            "type": "histogram2d"
           }
          ],
          "histogram2dcontour": [
           {
            "colorbar": {
             "outlinewidth": 0,
             "ticks": ""
            },
            "colorscale": [
             [
              0,
              "#0d0887"
             ],
             [
              0.1111111111111111,
              "#46039f"
             ],
             [
              0.2222222222222222,
              "#7201a8"
             ],
             [
              0.3333333333333333,
              "#9c179e"
             ],
             [
              0.4444444444444444,
              "#bd3786"
             ],
             [
              0.5555555555555556,
              "#d8576b"
             ],
             [
              0.6666666666666666,
              "#ed7953"
             ],
             [
              0.7777777777777778,
              "#fb9f3a"
             ],
             [
              0.8888888888888888,
              "#fdca26"
             ],
             [
              1,
              "#f0f921"
             ]
            ],
            "type": "histogram2dcontour"
           }
          ],
          "mesh3d": [
           {
            "colorbar": {
             "outlinewidth": 0,
             "ticks": ""
            },
            "type": "mesh3d"
           }
          ],
          "parcoords": [
           {
            "line": {
             "colorbar": {
              "outlinewidth": 0,
              "ticks": ""
             }
            },
            "type": "parcoords"
           }
          ],
          "pie": [
           {
            "automargin": true,
            "type": "pie"
           }
          ],
          "scatter": [
           {
            "fillpattern": {
             "fillmode": "overlay",
             "size": 10,
             "solidity": 0.2
            },
            "type": "scatter"
           }
          ],
          "scatter3d": [
           {
            "line": {
             "colorbar": {
              "outlinewidth": 0,
              "ticks": ""
             }
            },
            "marker": {
             "colorbar": {
              "outlinewidth": 0,
              "ticks": ""
             }
            },
            "type": "scatter3d"
           }
          ],
          "scattercarpet": [
           {
            "marker": {
             "colorbar": {
              "outlinewidth": 0,
              "ticks": ""
             }
            },
            "type": "scattercarpet"
           }
          ],
          "scattergeo": [
           {
            "marker": {
             "colorbar": {
              "outlinewidth": 0,
              "ticks": ""
             }
            },
            "type": "scattergeo"
           }
          ],
          "scattergl": [
           {
            "marker": {
             "colorbar": {
              "outlinewidth": 0,
              "ticks": ""
             }
            },
            "type": "scattergl"
           }
          ],
          "scattermapbox": [
           {
            "marker": {
             "colorbar": {
              "outlinewidth": 0,
              "ticks": ""
             }
            },
            "type": "scattermapbox"
           }
          ],
          "scatterpolar": [
           {
            "marker": {
             "colorbar": {
              "outlinewidth": 0,
              "ticks": ""
             }
            },
            "type": "scatterpolar"
           }
          ],
          "scatterpolargl": [
           {
            "marker": {
             "colorbar": {
              "outlinewidth": 0,
              "ticks": ""
             }
            },
            "type": "scatterpolargl"
           }
          ],
          "scatterternary": [
           {
            "marker": {
             "colorbar": {
              "outlinewidth": 0,
              "ticks": ""
             }
            },
            "type": "scatterternary"
           }
          ],
          "surface": [
           {
            "colorbar": {
             "outlinewidth": 0,
             "ticks": ""
            },
            "colorscale": [
             [
              0,
              "#0d0887"
             ],
             [
              0.1111111111111111,
              "#46039f"
             ],
             [
              0.2222222222222222,
              "#7201a8"
             ],
             [
              0.3333333333333333,
              "#9c179e"
             ],
             [
              0.4444444444444444,
              "#bd3786"
             ],
             [
              0.5555555555555556,
              "#d8576b"
             ],
             [
              0.6666666666666666,
              "#ed7953"
             ],
             [
              0.7777777777777778,
              "#fb9f3a"
             ],
             [
              0.8888888888888888,
              "#fdca26"
             ],
             [
              1,
              "#f0f921"
             ]
            ],
            "type": "surface"
           }
          ],
          "table": [
           {
            "cells": {
             "fill": {
              "color": "#EBF0F8"
             },
             "line": {
              "color": "white"
             }
            },
            "header": {
             "fill": {
              "color": "#C8D4E3"
             },
             "line": {
              "color": "white"
             }
            },
            "type": "table"
           }
          ]
         },
         "layout": {
          "annotationdefaults": {
           "arrowcolor": "#2a3f5f",
           "arrowhead": 0,
           "arrowwidth": 1
          },
          "autotypenumbers": "strict",
          "coloraxis": {
           "colorbar": {
            "outlinewidth": 0,
            "ticks": ""
           }
          },
          "colorscale": {
           "diverging": [
            [
             0,
             "#8e0152"
            ],
            [
             0.1,
             "#c51b7d"
            ],
            [
             0.2,
             "#de77ae"
            ],
            [
             0.3,
             "#f1b6da"
            ],
            [
             0.4,
             "#fde0ef"
            ],
            [
             0.5,
             "#f7f7f7"
            ],
            [
             0.6,
             "#e6f5d0"
            ],
            [
             0.7,
             "#b8e186"
            ],
            [
             0.8,
             "#7fbc41"
            ],
            [
             0.9,
             "#4d9221"
            ],
            [
             1,
             "#276419"
            ]
           ],
           "sequential": [
            [
             0,
             "#0d0887"
            ],
            [
             0.1111111111111111,
             "#46039f"
            ],
            [
             0.2222222222222222,
             "#7201a8"
            ],
            [
             0.3333333333333333,
             "#9c179e"
            ],
            [
             0.4444444444444444,
             "#bd3786"
            ],
            [
             0.5555555555555556,
             "#d8576b"
            ],
            [
             0.6666666666666666,
             "#ed7953"
            ],
            [
             0.7777777777777778,
             "#fb9f3a"
            ],
            [
             0.8888888888888888,
             "#fdca26"
            ],
            [
             1,
             "#f0f921"
            ]
           ],
           "sequentialminus": [
            [
             0,
             "#0d0887"
            ],
            [
             0.1111111111111111,
             "#46039f"
            ],
            [
             0.2222222222222222,
             "#7201a8"
            ],
            [
             0.3333333333333333,
             "#9c179e"
            ],
            [
             0.4444444444444444,
             "#bd3786"
            ],
            [
             0.5555555555555556,
             "#d8576b"
            ],
            [
             0.6666666666666666,
             "#ed7953"
            ],
            [
             0.7777777777777778,
             "#fb9f3a"
            ],
            [
             0.8888888888888888,
             "#fdca26"
            ],
            [
             1,
             "#f0f921"
            ]
           ]
          },
          "colorway": [
           "#636efa",
           "#EF553B",
           "#00cc96",
           "#ab63fa",
           "#FFA15A",
           "#19d3f3",
           "#FF6692",
           "#B6E880",
           "#FF97FF",
           "#FECB52"
          ],
          "font": {
           "color": "#2a3f5f"
          },
          "geo": {
           "bgcolor": "white",
           "lakecolor": "white",
           "landcolor": "#E5ECF6",
           "showlakes": true,
           "showland": true,
           "subunitcolor": "white"
          },
          "hoverlabel": {
           "align": "left"
          },
          "hovermode": "closest",
          "mapbox": {
           "style": "light"
          },
          "paper_bgcolor": "white",
          "plot_bgcolor": "#E5ECF6",
          "polar": {
           "angularaxis": {
            "gridcolor": "white",
            "linecolor": "white",
            "ticks": ""
           },
           "bgcolor": "#E5ECF6",
           "radialaxis": {
            "gridcolor": "white",
            "linecolor": "white",
            "ticks": ""
           }
          },
          "scene": {
           "xaxis": {
            "backgroundcolor": "#E5ECF6",
            "gridcolor": "white",
            "gridwidth": 2,
            "linecolor": "white",
            "showbackground": true,
            "ticks": "",
            "zerolinecolor": "white"
           },
           "yaxis": {
            "backgroundcolor": "#E5ECF6",
            "gridcolor": "white",
            "gridwidth": 2,
            "linecolor": "white",
            "showbackground": true,
            "ticks": "",
            "zerolinecolor": "white"
           },
           "zaxis": {
            "backgroundcolor": "#E5ECF6",
            "gridcolor": "white",
            "gridwidth": 2,
            "linecolor": "white",
            "showbackground": true,
            "ticks": "",
            "zerolinecolor": "white"
           }
          },
          "shapedefaults": {
           "line": {
            "color": "#2a3f5f"
           }
          },
          "ternary": {
           "aaxis": {
            "gridcolor": "white",
            "linecolor": "white",
            "ticks": ""
           },
           "baxis": {
            "gridcolor": "white",
            "linecolor": "white",
            "ticks": ""
           },
           "bgcolor": "#E5ECF6",
           "caxis": {
            "gridcolor": "white",
            "linecolor": "white",
            "ticks": ""
           }
          },
          "title": {
           "x": 0.05
          },
          "xaxis": {
           "automargin": true,
           "gridcolor": "white",
           "linecolor": "white",
           "ticks": "",
           "title": {
            "standoff": 15
           },
           "zerolinecolor": "white",
           "zerolinewidth": 2
          },
          "yaxis": {
           "automargin": true,
           "gridcolor": "white",
           "linecolor": "white",
           "ticks": "",
           "title": {
            "standoff": 15
           },
           "zerolinecolor": "white",
           "zerolinewidth": 2
          }
         }
        },
        "title": {
         "text": "Puntuación de las GPU por precio"
        },
        "width": 1200,
        "xaxis": {
         "anchor": "y",
         "domain": [
          0,
          1
         ],
         "title": {
          "text": "Chipset"
         }
        },
        "yaxis": {
         "anchor": "x",
         "domain": [
          0,
          1
         ],
         "title": {
          "text": "Puntuación"
         }
        }
       }
      }
     },
     "metadata": {},
     "output_type": "display_data"
    }
   ],
   "source": [
    "joined[\"punt\"] = calc_punt_price(joined)\n",
    "joined = joined.sort_values(\"punt\", ascending=False)\n",
    "\n",
    "fig = px.scatter(\n",
    "    joined,\n",
    "    x=\"chipset\",\n",
    "    y=\"punt\",\n",
    "    title=\"Puntuación de las GPU por precio\",\n",
    "    labels={\"punt\": \"Puntuación\", \"chipset\": \"Chipset\"},\n",
    "    width=1200,\n",
    "    height=1000\n",
    ")\n",
    "fig.show()"
   ]
  },
  {
   "cell_type": "markdown",
   "metadata": {},
   "source": [
    "Ahora veamos la media de puntuaciones de cada marca y generación.\n"
   ]
  },
  {
   "cell_type": "code",
   "execution_count": 16,
   "metadata": {},
   "outputs": [],
   "source": [
    "nvidia4000 = nvidia4000[cols].dropna().reset_index(drop=True)\n",
    "nvidia3000 = nvidia3000[cols].dropna().reset_index(drop=True)\n",
    "amd7000 = amd7000[cols].dropna().reset_index(drop=True)\n",
    "amd6000 = amd6000[cols].dropna().reset_index(drop=True)\n",
    "\n",
    "nvidia4000[\"punt_price\"] = calc_punt_price(nvidia4000)\n",
    "nvidia3000[\"punt_price\"] = calc_punt_price(nvidia3000)\n",
    "amd7000[\"punt_price\"] = calc_punt_price(amd7000)\n",
    "amd6000[\"punt_price\"] = calc_punt_price(amd6000)\n",
    "nvidia4000[\"punt\"] = calc_punt(nvidia4000)\n",
    "nvidia3000[\"punt\"] = calc_punt(nvidia3000)\n",
    "amd7000[\"punt\"] = calc_punt(amd7000)\n",
    "amd6000[\"punt\"] = calc_punt(amd6000)"
   ]
  },
  {
   "cell_type": "code",
   "execution_count": 30,
   "metadata": {},
   "outputs": [
    {
     "name": "stdout",
     "output_type": "stream",
     "text": [
      "\n",
      "Gen RTX 4000 avg punt: 0.412 avg punt/price: 0.395\n",
      "Gen RTX 3000 avg punt: 0.272 avg punt/price: 0.361\n",
      "Gen RX 7000 avg punt: 0.505 avg punt/price: 0.446\n",
      "Gen RX 6000 avg punt: 0.566 avg punt/price: 0.468\n",
      "\n"
     ]
    }
   ],
   "source": [
    "punt_4000 = (nvidia4000[\"punt\"].mean(), nvidia4000[\"punt_price\"].mean())\n",
    "punt_3000 = (nvidia3000[\"punt\"].mean(), nvidia3000[\"punt_price\"].mean())\n",
    "punt_7000 = (amd7000[\"punt\"].mean(), amd7000[\"punt_price\"].mean())\n",
    "punt_6000 = (amd6000[\"punt\"].mean(), amd6000[\"punt_price\"].mean())\n",
    "\n",
    "string = f\"\"\"\n",
    "Gen RTX 4000 avg punt: {punt_4000[0]:.3f} avg punt/price: {punt_4000[1]:.3f}\n",
    "Gen RTX 3000 avg punt: {punt_3000[0]:.3f} avg punt/price: {punt_3000[1]:.3f}\n",
    "Gen RX 7000 avg punt: {punt_7000[0]:.3f} avg punt/price: {punt_7000[1]:.3f}\n",
    "Gen RX 6000 avg punt: {punt_6000[0]:.3f} avg punt/price: {punt_6000[1]:.3f}\n",
    "\"\"\"\n",
    "print(string)"
   ]
  },
  {
   "cell_type": "markdown",
   "metadata": {},
   "source": [
    "Agrupamos por generación y marca, y calculamos la media de puntuaciones.\n"
   ]
  },
  {
   "cell_type": "code",
   "execution_count": 31,
   "metadata": {},
   "outputs": [
    {
     "name": "stdout",
     "output_type": "stream",
     "text": [
      "\n",
      "NVIDIA avg punt: 0.415 avg punt/price: 0.350\n",
      "AMD avg punt: 0.454 avg punt/price: 0.531\n",
      "\n"
     ]
    }
   ],
   "source": [
    "nvidia = pd.concat([nvidia4000, nvidia3000], ignore_index=True).reset_index(drop=True)\n",
    "amd = pd.concat([amd7000, amd6000], ignore_index=True).reset_index(drop=True)\n",
    "\n",
    "nvidia[\"punt\"] = calc_punt(nvidia)\n",
    "amd[\"punt\"] = calc_punt(amd)\n",
    "nvidia[\"punt_price\"] = calc_punt_price(nvidia)\n",
    "amd[\"punt_price\"] = calc_punt_price(amd)\n",
    "\n",
    "string = f\"\"\"\n",
    "NVIDIA avg punt: {nvidia[\"punt\"].mean():.3f} avg punt/price: {nvidia[\"punt_price\"].mean():.3f}\n",
    "AMD avg punt: {amd[\"punt\"].mean():.3f} avg punt/price: {amd[\"punt_price\"].mean():.3f}\n",
    "\"\"\"\n",
    "print(string)"
   ]
  },
  {
   "cell_type": "markdown",
   "metadata": {},
   "source": [
    "Así, podemos ver que AMD tiene una puntuación media más alta que NVIDIA en todos los aspectos. Sin embargo, algo que no se está considerando es el hecho de que NVIDIA tiene tecnologías exclusivas que pueden mejorar la calidad de la imagen, como DLSS y Ray Tracing, además de tener mejor soporte para juegos AAA, y tener CUDA, que es una tecnología que permite a los desarrolladores de software aprovechar la potencia de las tarjetas gráficas de NVIDIA para acelerar sus aplicaciones.\n",
    "\n",
    "Se puede ver, además, que AMD tiende a poner precios más bajos a sus tarjetas gráficas de gama más baja. Esto se ve reflejado en el gráfico de puntuaciones en el que tomamos en cuenta el precio. Además, en el gráfico de correlaciones, podemos ver que hay una correlación más fuerte entre el precio y el core_clock en AMD que en NVIDIA, lo puede indicar que AMD tiene que poner sus precios de acuerdo a la frecuencia de reloj de sus tarjetas gráficas para poder competir con NVIDIA, que puede poner sus precios más altos gracias a las tecnologías mencionadas anterior, y por eso en este análisis AMD tiene una puntuación media más alta que NVIDIA.\n"
   ]
  }
 ],
 "metadata": {
  "kernelspec": {
   "display_name": "venv",
   "language": "python",
   "name": "python3"
  },
  "language_info": {
   "codemirror_mode": {
    "name": "ipython",
    "version": 3
   },
   "file_extension": ".py",
   "mimetype": "text/x-python",
   "name": "python",
   "nbconvert_exporter": "python",
   "pygments_lexer": "ipython3",
   "version": "3.12.6"
  }
 },
 "nbformat": 4,
 "nbformat_minor": 2
}
