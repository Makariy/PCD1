{
 "cells": [
  {
   "cell_type": "code",
   "execution_count": 1,
   "metadata": {},
   "outputs": [],
   "source": [
    "import pandas as pd\n",
    "import plotly.express as px\n",
    "import plotly.subplots as sp\n",
    "\n",
    "\n",
    "from pandas.core.groupby.generic import DataFrameGroupBy, DataFrame"
   ]
  },
  {
   "cell_type": "markdown",
   "metadata": {},
   "source": [
    "# Presentacion PCD\n",
    "\n",
    "Obtención del DF completo. Primero generamos un dataframe con todas las marcas unidas.\n"
   ]
  },
  {
   "cell_type": "code",
   "execution_count": 2,
   "metadata": {},
   "outputs": [],
   "source": [
    "dfs = []\n",
    "for brand in [\"Asus\", \"Gigabyte\", \"MSI\", \"XFX\", \"Zotac\"]:\n",
    "    df = pd.read_csv(f\"../data/{brand}.csv\")\n",
    "    df[\"brand\"] = brand\n",
    "    dfs.append(df)\n",
    "\n",
    "df = pd.concat(dfs, ignore_index=True)"
   ]
  },
  {
   "cell_type": "markdown",
   "metadata": {},
   "source": [
    "## Gráfico de correlaciones\n",
    "\n",
    "Se filtra en correlaciones de las gráficas de NVIDIA series 4000, y de AMD series 7000 (las últimas generaciones de tarjetas gráficas).\n"
   ]
  },
  {
   "cell_type": "code",
   "execution_count": null,
   "metadata": {},
   "outputs": [],
   "source": [
    "nvidia = df[df[\"chipset\"].str.contains(\"RTX 40\", case=False, na=False)]\n",
    "amd = df[df[\"chipset\"].str.contains(\"RX 7\", case=False, na=False)]\n",
    "\n",
    "column = [\"price\", \"memory\", \"core_clock\", \"core_boost_clock\", \"length\", \"user_score\", \"user_ratings_count\"]\n",
    "nvidia = nvidia[column].corr()\n",
    "amd = amd[column].corr()\n",
    "\n",
    "nvidia_plot = px.imshow(\n",
    "    nvidia,\n",
    "    text_auto=True,\n",
    "    title=\"Correlation Heatmap of GPU Attributes\",\n",
    "    labels={\"color\": \"Correlation\"},\n",
    "    x=column,\n",
    "    y=column,\n",
    "    color_continuous_scale=\"Viridis\",\n",
    "    width=700,\n",
    "    height=700\n",
    ")\n",
    "\n",
    "amd_plot = px.imshow(\n",
    "    amd,\n",
    "    text_auto=True,\n",
    "    title=\"Correlation Heatmap of GPU Attributes\",\n",
    "    labels={\"color\": \"Correlation\"},\n",
    "    x=column,\n",
    "    y=column,\n",
    "    color_continuous_scale=\"Viridis\",\n",
    "    width=700,\n",
    "    height=700\n",
    ")\n",
    "\n",
    "# Create a subplot\n",
    "fig = sp.make_subplots(rows=1, cols=2, subplot_titles=[\"NVIDIA\", \"AMD\"])\n",
    "fig.add_trace(nvidia_plot.data[0], row=1, col=1)\n",
    "fig.add_trace(amd_plot.data[0], row=1, col=2)\n",
    "\n",
    "fig.update_layout(title=\"Correlation Heatmap of GPU Attributes\", width=1500, height=700)\n",
    "fig.show()"
   ]
  },
  {
   "cell_type": "markdown",
   "metadata": {},
   "source": [
    "## Gráfico de Rendimiento vs Precio de las marcas por chipset\n"
   ]
  },
  {
   "cell_type": "code",
   "execution_count": 7,
   "metadata": {},
   "outputs": [],
   "source": [
    "def standardize(column):\n",
    "    return (column - column.mean()) / column.std()"
   ]
  },
  {
   "cell_type": "code",
   "execution_count": null,
   "metadata": {},
   "outputs": [],
   "source": [
    "chipset = \"GeForce RTX 4070 SUPER\"\n",
    "\n",
    "# Filter the data for the given chipset\n",
    "chipset_filtered = df[df[\"chipset\"] == chipset][[\"price\", \"core_boost_clock\", \"brand\"]].reset_index(drop=True)\n",
    "chipset_filtered"
   ]
  },
  {
   "cell_type": "markdown",
   "metadata": {},
   "source": [
    "Podemos ver que todos los valores están presentes, excepto por algunos precios. Eliminaré las filas que no tengan precio.\n"
   ]
  },
  {
   "cell_type": "code",
   "execution_count": null,
   "metadata": {},
   "outputs": [],
   "source": [
    "chipset_filtered = chipset_filtered[[\"price\", \"core_boost_clock\", \"brand\"]].dropna()\n",
    "chipset_filtered"
   ]
  },
  {
   "cell_type": "code",
   "execution_count": null,
   "metadata": {},
   "outputs": [],
   "source": [
    "chipset_filtered.loc[:, \"price\"] = standardize(chipset_filtered[\"price\"])\n",
    "chipset_filtered.loc[:, \"core_boost_clock\"] = standardize(chipset_filtered[\"core_boost_clock\"])\n",
    "chipset_filtered.head()"
   ]
  },
  {
   "cell_type": "markdown",
   "metadata": {},
   "source": [
    "Finalmente, podemos calcular la puntuación y graficar.\n"
   ]
  },
  {
   "cell_type": "code",
   "execution_count": null,
   "metadata": {},
   "outputs": [],
   "source": [
    "chipset_filtered[\"punt\"] = chipset_filtered[\"core_boost_clock\"] / chipset_filtered[\"price\"]\n",
    "\n",
    "# Calculamos la media de la puntuación por marca\n",
    "grouped = chipset_filtered.groupby(\"brand\").mean().sort_values(\"punt\", ascending=False)\n",
    "\n",
    "fig = px.bar(\n",
    "    grouped,\n",
    "    x=grouped.index,\n",
    "    y=\"punt\",\n",
    "    title=f\"Puntuation of {chipset}\",\n",
    "    labels={\"punt\": \"Puntuation\", \"index\": \"Brand\"},\n",
    "    width=800,\n",
    "    height=600\n",
    ")\n",
    "fig.show()"
   ]
  },
  {
   "cell_type": "markdown",
   "metadata": {},
   "source": [
    "# ¿Qué es mejor? ¿NVIDIA o AMD?\n",
    "\n",
    "Haremos un gráfico de líneas donde comparamos el rendimiento de las últimas dos generaciones de las tarjetas gráficas de NVIDIA y AMD. Así podremos ver cuál es mejor en términos de rendimiento, además de poder tener un punto de referencia para comparar la calidad de las tarjetas gráficas de ambas marcas.\n"
   ]
  },
  {
   "cell_type": "code",
   "execution_count": 3,
   "metadata": {},
   "outputs": [],
   "source": [
    "nvidia4000 = df[df[\"chipset\"].str.contains(\"RTX 40\", case=False, na=False)]\n",
    "nvidia3000 = df[df[\"chipset\"].str.contains(\"RTX 30\", case=False, na=False)]\n",
    "amd7000 = df[df[\"chipset\"].str.contains(\"RX 7\", case=False, na=False)]\n",
    "amd6000 = df[df[\"chipset\"].str.contains(\"RX 6\", case=False, na=False)]\n",
    "\n",
    "nvidia = pd.concat([nvidia4000, nvidia3000], ignore_index=True).reset_index(drop=True)\n",
    "amd = pd.concat([amd7000, amd6000], ignore_index=True).reset_index(drop=True)"
   ]
  },
  {
   "cell_type": "code",
   "execution_count": null,
   "metadata": {},
   "outputs": [],
   "source": [
    "nvidia.head()"
   ]
  },
  {
   "cell_type": "code",
   "execution_count": null,
   "metadata": {},
   "outputs": [],
   "source": [
    "amd.head()"
   ]
  },
  {
   "cell_type": "markdown",
   "metadata": {},
   "source": [
    "Ahora, nos quedamos con las columnas que vamos a usar, chipset, price, memory, core_clock y core_boost_clock. Y nos quitamos los que tengan valores nulos.\n"
   ]
  },
  {
   "cell_type": "code",
   "execution_count": 4,
   "metadata": {},
   "outputs": [],
   "source": [
    "cols = [\"chipset\", \"price\", \"core_clock\", \"core_boost_clock\", \"memory\"]\n",
    "nvidia = nvidia[cols].dropna()\n",
    "amd = amd[cols].dropna()"
   ]
  },
  {
   "cell_type": "code",
   "execution_count": 5,
   "metadata": {},
   "outputs": [],
   "source": [
    "def process_group(group: DataFrameGroupBy) -> DataFrame:\n",
    "    group.loc[:, \"price\"] = standardize(group[\"price\"])\n",
    "    group.loc[:, \"core_boost_clock\"] = standardize(group[\"core_clock\"])\n",
    "    group[\"punt\"] = group[\"core_boost_clock\"] / group[\"price\"]\n",
    "\n",
    "    return group"
   ]
  },
  {
   "cell_type": "markdown",
   "metadata": {},
   "source": [
    "Agrupamos por chipset, estandarizamos valores, calculamos el mismo puntaje de antes, y nos quedamos con el mejor chipeset de cada marca.\n"
   ]
  },
  {
   "cell_type": "code",
   "execution_count": 8,
   "metadata": {},
   "outputs": [
    {
     "name": "stderr",
     "output_type": "stream",
     "text": [
      "/tmp/ipykernel_13970/1047440425.py:1: DeprecationWarning: DataFrameGroupBy.apply operated on the grouping columns. This behavior is deprecated, and in a future version of pandas the grouping columns will be excluded from the operation. Either pass `include_groups=False` to exclude the groupings or explicitly select the grouping columns after groupby to silence this warning.\n",
      "  nvidia_processed = nvidia.groupby(\"chipset\").apply(process_group)\n",
      "/tmp/ipykernel_13970/1047440425.py:2: DeprecationWarning: DataFrameGroupBy.apply operated on the grouping columns. This behavior is deprecated, and in a future version of pandas the grouping columns will be excluded from the operation. Either pass `include_groups=False` to exclude the groupings or explicitly select the grouping columns after groupby to silence this warning.\n",
      "  amd_processed = amd.groupby(\"chipset\").apply(process_group)\n"
     ]
    }
   ],
   "source": [
    "nvidia_processed = nvidia.groupby(\"chipset\").apply(process_group)\n",
    "amd_processed = amd.groupby(\"chipset\").apply(process_group)\n",
    "\n",
    "# max_nvidia = nvidia_processed.groupby(\"chipset\")[\"punt\"].max()"
   ]
  }
 ],
 "metadata": {
  "kernelspec": {
   "display_name": "venv",
   "language": "python",
   "name": "python3"
  },
  "language_info": {
   "codemirror_mode": {
    "name": "ipython",
    "version": 3
   },
   "file_extension": ".py",
   "mimetype": "text/x-python",
   "name": "python",
   "nbconvert_exporter": "python",
   "pygments_lexer": "ipython3",
   "version": "3.12.6"
  }
 },
 "nbformat": 4,
 "nbformat_minor": 2
}
