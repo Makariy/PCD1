{
 "cells": [
  {
   "cell_type": "code",
   "execution_count": 1,
   "metadata": {},
   "outputs": [],
   "source": [
    "import pandas as pd\n",
    "import plotly.express as px\n",
    "\n",
    "\n",
    "CC = 0.2\n",
    "CB = 0.4\n",
    "MM = 0.4\n",
    "\n",
    "\n",
    "def standardize(column):\n",
    "    return (column - column.mean()) / column.std()\n",
    "\n",
    "\n",
    "def chipset_punct(df):\n",
    "    return standardize(df[\"core_boost_clock\"]) / standardize(df[\"price\"])\n",
    "\n",
    "\n",
    "def apply_chipset_punct(df):\n",
    "    df[\"punct\"] = chipset_punct(df)\n",
    "    return df\n",
    "\n",
    "\n",
    "def graphics_card_punct(df):\n",
    "    return CC * standardize(df[\"core_clock\"]) + CB * standardize(df[\"core_boost_clock\"]) + MM * standardize(df[\"memory\"])"
   ]
  },
  {
   "cell_type": "markdown",
   "metadata": {},
   "source": [
    "# Presentacion PCD\n",
    "\n",
    "Obtención del DF completo. Primero generamos un dataframe con todas las marcas unidas.\n"
   ]
  },
  {
   "cell_type": "code",
   "execution_count": 2,
   "metadata": {},
   "outputs": [
    {
     "data": {
      "text/html": [
       "<div>\n",
       "<style scoped>\n",
       "    .dataframe tbody tr th:only-of-type {\n",
       "        vertical-align: middle;\n",
       "    }\n",
       "\n",
       "    .dataframe tbody tr th {\n",
       "        vertical-align: top;\n",
       "    }\n",
       "\n",
       "    .dataframe thead th {\n",
       "        text-align: right;\n",
       "    }\n",
       "</style>\n",
       "<table border=\"1\" class=\"dataframe\">\n",
       "  <thead>\n",
       "    <tr style=\"text-align: right;\">\n",
       "      <th></th>\n",
       "      <th>price</th>\n",
       "      <th>memory</th>\n",
       "      <th>core_clock</th>\n",
       "      <th>core_boost_clock</th>\n",
       "      <th>chipset</th>\n",
       "      <th>name</th>\n",
       "      <th>brand</th>\n",
       "      <th>user_score</th>\n",
       "      <th>user_ratings_count</th>\n",
       "    </tr>\n",
       "  </thead>\n",
       "  <tbody>\n",
       "    <tr>\n",
       "      <th>0</th>\n",
       "      <td>2179.99</td>\n",
       "      <td>24576.0</td>\n",
       "      <td>2235.0</td>\n",
       "      <td>2640.0</td>\n",
       "      <td>GeForce RTX 4090</td>\n",
       "      <td>Asus ROG STRIX GAMING OC</td>\n",
       "      <td>Asus</td>\n",
       "      <td>5</td>\n",
       "      <td>12</td>\n",
       "    </tr>\n",
       "    <tr>\n",
       "      <th>1</th>\n",
       "      <td>999.99</td>\n",
       "      <td>16384.0</td>\n",
       "      <td>2210.0</td>\n",
       "      <td>2580.0</td>\n",
       "      <td>GeForce RTX 4080 SUPER</td>\n",
       "      <td>Asus TUF GAMING</td>\n",
       "      <td>Asus</td>\n",
       "      <td>4</td>\n",
       "      <td>4</td>\n",
       "    </tr>\n",
       "    <tr>\n",
       "      <th>2</th>\n",
       "      <td>2249.99</td>\n",
       "      <td>24576.0</td>\n",
       "      <td>2235.0</td>\n",
       "      <td>2640.0</td>\n",
       "      <td>GeForce RTX 4090</td>\n",
       "      <td>Asus ROG STRIX GAMING OC</td>\n",
       "      <td>Asus</td>\n",
       "      <td>5</td>\n",
       "      <td>7</td>\n",
       "    </tr>\n",
       "    <tr>\n",
       "      <th>3</th>\n",
       "      <td>849.00</td>\n",
       "      <td>16384.0</td>\n",
       "      <td>2340.0</td>\n",
       "      <td>2670.0</td>\n",
       "      <td>GeForce RTX 4070 Ti SUPER</td>\n",
       "      <td>Asus TUF GAMING OC</td>\n",
       "      <td>Asus</td>\n",
       "      <td>5</td>\n",
       "      <td>11</td>\n",
       "    </tr>\n",
       "    <tr>\n",
       "      <th>4</th>\n",
       "      <td>1149.97</td>\n",
       "      <td>16384.0</td>\n",
       "      <td>2210.0</td>\n",
       "      <td>2640.0</td>\n",
       "      <td>GeForce RTX 4080 SUPER</td>\n",
       "      <td>Asus ProArt OC</td>\n",
       "      <td>Asus</td>\n",
       "      <td>5</td>\n",
       "      <td>6</td>\n",
       "    </tr>\n",
       "  </tbody>\n",
       "</table>\n",
       "</div>"
      ],
      "text/plain": [
       "     price   memory  core_clock  core_boost_clock                    chipset  \\\n",
       "0  2179.99  24576.0      2235.0            2640.0           GeForce RTX 4090   \n",
       "1   999.99  16384.0      2210.0            2580.0     GeForce RTX 4080 SUPER   \n",
       "2  2249.99  24576.0      2235.0            2640.0           GeForce RTX 4090   \n",
       "3   849.00  16384.0      2340.0            2670.0  GeForce RTX 4070 Ti SUPER   \n",
       "4  1149.97  16384.0      2210.0            2640.0     GeForce RTX 4080 SUPER   \n",
       "\n",
       "                       name brand  user_score  user_ratings_count  \n",
       "0  Asus ROG STRIX GAMING OC  Asus           5                  12  \n",
       "1           Asus TUF GAMING  Asus           4                   4  \n",
       "2  Asus ROG STRIX GAMING OC  Asus           5                   7  \n",
       "3        Asus TUF GAMING OC  Asus           5                  11  \n",
       "4            Asus ProArt OC  Asus           5                   6  "
      ]
     },
     "execution_count": 2,
     "metadata": {},
     "output_type": "execute_result"
    }
   ],
   "source": [
    "dfs = []\n",
    "for brand in [\"Asus\", \"Gigabyte\", \"MSI\"]:\n",
    "    df = pd.read_csv(f\"../data/{brand}.csv\")\n",
    "    df[\"brand\"] = brand\n",
    "    dfs.append(df)\n",
    "\n",
    "columns = [\"price\", \"memory\", \"core_clock\", \"core_boost_clock\",\n",
    "           \"chipset\", \"name\", \"brand\", \"user_score\", \"user_ratings_count\"]\n",
    "df = pd.concat(dfs, ignore_index=True).dropna().reset_index(drop=True)\n",
    "df = df[df[\"parent_brand\"] == \"NVIDIA\"].reset_index(drop=True)\n",
    "df = df[columns]\n",
    "\n",
    "df.head()"
   ]
  },
  {
   "cell_type": "code",
   "execution_count": 3,
   "metadata": {},
   "outputs": [
    {
     "data": {
      "text/html": [
       "<div>\n",
       "<style scoped>\n",
       "    .dataframe tbody tr th:only-of-type {\n",
       "        vertical-align: middle;\n",
       "    }\n",
       "\n",
       "    .dataframe tbody tr th {\n",
       "        vertical-align: top;\n",
       "    }\n",
       "\n",
       "    .dataframe thead th {\n",
       "        text-align: right;\n",
       "    }\n",
       "</style>\n",
       "<table border=\"1\" class=\"dataframe\">\n",
       "  <thead>\n",
       "    <tr style=\"text-align: right;\">\n",
       "      <th></th>\n",
       "      <th>price</th>\n",
       "      <th>memory</th>\n",
       "      <th>core_clock</th>\n",
       "      <th>core_boost_clock</th>\n",
       "      <th>chipset</th>\n",
       "      <th>name</th>\n",
       "      <th>brand</th>\n",
       "      <th>user_score</th>\n",
       "      <th>user_ratings_count</th>\n",
       "    </tr>\n",
       "  </thead>\n",
       "  <tbody>\n",
       "    <tr>\n",
       "      <th>411</th>\n",
       "      <td>855.00</td>\n",
       "      <td>8192.0</td>\n",
       "      <td>1515.0</td>\n",
       "      <td>1860.0</td>\n",
       "      <td>GeForce RTX 2080</td>\n",
       "      <td>MSI SEA HAWK X</td>\n",
       "      <td>MSI</td>\n",
       "      <td>3</td>\n",
       "      <td>1</td>\n",
       "    </tr>\n",
       "    <tr>\n",
       "      <th>412</th>\n",
       "      <td>370.00</td>\n",
       "      <td>6144.0</td>\n",
       "      <td>1500.0</td>\n",
       "      <td>1860.0</td>\n",
       "      <td>GeForce GTX 1660 Ti</td>\n",
       "      <td>MSI ARMOR OC</td>\n",
       "      <td>MSI</td>\n",
       "      <td>0</td>\n",
       "      <td>0</td>\n",
       "    </tr>\n",
       "    <tr>\n",
       "      <th>413</th>\n",
       "      <td>788.03</td>\n",
       "      <td>10240.0</td>\n",
       "      <td>1440.0</td>\n",
       "      <td>1740.0</td>\n",
       "      <td>GeForce RTX 3080 10GB LHR</td>\n",
       "      <td>MSI VENTUS 3X OC</td>\n",
       "      <td>MSI</td>\n",
       "      <td>0</td>\n",
       "      <td>0</td>\n",
       "    </tr>\n",
       "    <tr>\n",
       "      <th>414</th>\n",
       "      <td>399.00</td>\n",
       "      <td>6144.0</td>\n",
       "      <td>1506.0</td>\n",
       "      <td>1708.0</td>\n",
       "      <td>GeForce GTX 1060 6GB</td>\n",
       "      <td>MSI ARMOR OC</td>\n",
       "      <td>MSI</td>\n",
       "      <td>4</td>\n",
       "      <td>4</td>\n",
       "    </tr>\n",
       "    <tr>\n",
       "      <th>415</th>\n",
       "      <td>679.00</td>\n",
       "      <td>11264.0</td>\n",
       "      <td>1480.0</td>\n",
       "      <td>1582.0</td>\n",
       "      <td>GeForce GTX 1080 Ti</td>\n",
       "      <td>MSI Founders Edition</td>\n",
       "      <td>MSI</td>\n",
       "      <td>5</td>\n",
       "      <td>8</td>\n",
       "    </tr>\n",
       "  </tbody>\n",
       "</table>\n",
       "</div>"
      ],
      "text/plain": [
       "      price   memory  core_clock  core_boost_clock                    chipset  \\\n",
       "411  855.00   8192.0      1515.0            1860.0           GeForce RTX 2080   \n",
       "412  370.00   6144.0      1500.0            1860.0        GeForce GTX 1660 Ti   \n",
       "413  788.03  10240.0      1440.0            1740.0  GeForce RTX 3080 10GB LHR   \n",
       "414  399.00   6144.0      1506.0            1708.0       GeForce GTX 1060 6GB   \n",
       "415  679.00  11264.0      1480.0            1582.0        GeForce GTX 1080 Ti   \n",
       "\n",
       "                     name brand  user_score  user_ratings_count  \n",
       "411        MSI SEA HAWK X   MSI           3                   1  \n",
       "412          MSI ARMOR OC   MSI           0                   0  \n",
       "413      MSI VENTUS 3X OC   MSI           0                   0  \n",
       "414          MSI ARMOR OC   MSI           4                   4  \n",
       "415  MSI Founders Edition   MSI           5                   8  "
      ]
     },
     "execution_count": 3,
     "metadata": {},
     "output_type": "execute_result"
    }
   ],
   "source": [
    "df.tail()"
   ]
  },
  {
   "cell_type": "markdown",
   "metadata": {},
   "source": [
    "## ¿Cuánto cuesta el Hz de core_boost_clock?\n"
   ]
  },
  {
   "cell_type": "code",
   "execution_count": 4,
   "metadata": {},
   "outputs": [
    {
     "name": "stderr",
     "output_type": "stream",
     "text": [
      "/tmp/ipykernel_9999/1143076554.py:3: SettingWithCopyWarning: \n",
      "A value is trying to be set on a copy of a slice from a DataFrame.\n",
      "Try using .loc[row_indexer,col_indexer] = value instead\n",
      "\n",
      "See the caveats in the documentation: https://pandas.pydata.org/pandas-docs/stable/user_guide/indexing.html#returning-a-view-versus-a-copy\n",
      "  df_filtered[\"boost_clock_per_dollar\"] = df_filtered[\"core_boost_clock\"] / df_filtered[\"price\"]\n"
     ]
    },
    {
     "data": {
      "application/vnd.plotly.v1+json": {
       "config": {
        "plotlyServerURL": "https://plot.ly"
       },
       "data": [
        {
         "alignmentgroup": "True",
         "customdata": [
          [
           292.99,
           2505,
           "MSI"
          ],
          [
           299.99,
           2535,
           "Asus"
          ],
          [
           299.99,
           2505,
           "MSI"
          ],
          [
           304.99,
           2535,
           "Asus"
          ],
          [
           309.99,
           2535,
           "Asus"
          ],
          [
           319.99,
           2610,
           "MSI"
          ],
          [
           309.99,
           2505,
           "Gigabyte"
          ],
          [
           310.94,
           2475,
           "MSI"
          ],
          [
           319.99,
           2475,
           "Gigabyte"
          ],
          [
           359.99,
           2580,
           "Asus"
          ],
          [
           351.99,
           2520,
           "Asus"
          ],
          [
           389.99,
           2700,
           "Asus"
          ],
          [
           384.99,
           2550,
           "Gigabyte"
          ],
          [
           399.99,
           2595,
           "Asus"
          ],
          [
           399.99,
           2565,
           "Asus"
          ],
          [
           409,
           2595,
           "Asus"
          ],
          [
           409.99,
           2550,
           "Gigabyte"
          ],
          [
           429.99,
           2625,
           "MSI"
          ],
          [
           439.99,
           2655,
           "Asus"
          ],
          [
           455.98,
           2625,
           "Asus"
          ],
          [
           449.99,
           2565,
           "Asus"
          ],
          [
           479,
           2715,
           "Asus"
          ],
          [
           489.99,
           2655,
           "MSI"
          ],
          [
           499.99,
           2685,
           "MSI"
          ],
          [
           499.99,
           2685,
           "Asus"
          ],
          [
           484.99,
           2595,
           "Gigabyte"
          ],
          [
           479.99,
           2565,
           "Asus"
          ],
          [
           499.99,
           2625,
           "MSI"
          ],
          [
           524.21,
           2595,
           "Asus"
          ],
          [
           549.97,
           2520,
           "MSI"
          ],
          [
           559.99,
           2550,
           "Asus"
          ],
          [
           569.99,
           2550,
           "Asus"
          ],
          [
           569.99,
           2520,
           "MSI"
          ],
          [
           579,
           2505,
           "Asus"
          ],
          [
           589.99,
           2520,
           "MSI"
          ],
          [
           599.99,
           2550,
           "Asus"
          ],
          [
           599.99,
           2520,
           "MSI"
          ],
          [
           599.99,
           2505,
           "Gigabyte"
          ],
          [
           638.04,
           2655,
           "MSI"
          ],
          [
           619.95,
           2550,
           "Asus"
          ],
          [
           619.99,
           2550,
           "Asus"
          ],
          [
           609.99,
           2505,
           "Asus"
          ],
          [
           609.99,
           2505,
           "Asus"
          ],
          [
           619.99,
           2535,
           "Gigabyte"
          ],
          [
           629.99,
           2565,
           "Asus"
          ],
          [
           629.99,
           2565,
           "Gigabyte"
          ],
          [
           619,
           2520,
           "MSI"
          ],
          [
           649,
           2595,
           "Asus"
          ],
          [
           639.99,
           2550,
           "Asus"
          ],
          [
           629.99,
           2505,
           "Asus"
          ],
          [
           639.99,
           2535,
           "Gigabyte"
          ],
          [
           649.99,
           2565,
           "Gigabyte"
          ],
          [
           674.99,
           2655,
           "MSI"
          ],
          [
           658.41,
           2565,
           "Asus"
          ],
          [
           675.65,
           2625,
           "Asus"
          ],
          [
           679.99,
           2565,
           "Gigabyte"
          ],
          [
           699.99,
           2640,
           "Asus"
          ],
          [
           739.99,
           2745,
           "MSI"
          ],
          [
           719.99,
           2670,
           "Asus"
          ],
          [
           679.99,
           2505,
           "Asus"
          ],
          [
           693.48,
           2505,
           "Asus"
          ],
          [
           729.99,
           2625,
           "MSI"
          ],
          [
           739.99,
           2655,
           "MSI"
          ],
          [
           739.99,
           2655,
           "MSI"
          ],
          [
           734.99,
           2625,
           "MSI"
          ],
          [
           748,
           2655,
           "MSI"
          ],
          [
           712.01,
           2505,
           "Gigabyte"
          ],
          [
           749.99,
           2625,
           "MSI"
          ],
          [
           759.99,
           2655,
           "MSI"
          ],
          [
           750.79,
           2595,
           "Gigabyte"
          ],
          [
           729.99,
           2505,
           "Asus"
          ],
          [
           749,
           2490,
           "Gigabyte"
          ],
          [
           799.97,
           2655,
           "MSI"
          ],
          [
           799.99,
           2655,
           "Gigabyte"
          ],
          [
           799.99,
           2655,
           "Asus"
          ],
          [
           752.99,
           2475,
           "Asus"
          ],
          [
           839.99,
           2760,
           "Asus"
          ],
          [
           799.99,
           2625,
           "Gigabyte"
          ],
          [
           809.99,
           2655,
           "MSI"
          ],
          [
           815,
           2640,
           "Gigabyte"
          ],
          [
           787.9,
           2550,
           "Asus"
          ],
          [
           829,
           2655,
           "Gigabyte"
          ],
          [
           829.99,
           2655,
           "MSI"
          ],
          [
           806.98,
           2580,
           "Asus"
          ],
          [
           819.99,
           2610,
           "MSI"
          ],
          [
           829.99,
           2640,
           "Gigabyte"
          ],
          [
           831.42,
           2640,
           "Asus"
          ],
          [
           829.99,
           2625,
           "MSI"
          ],
          [
           839.99,
           2655,
           "MSI"
          ],
          [
           849.99,
           2685,
           "MSI"
          ],
          [
           849,
           2670,
           "Asus"
          ],
          [
           839.99,
           2640,
           "Asus"
          ],
          [
           854,
           2670,
           "Asus"
          ],
          [
           823.3,
           2565,
           "Gigabyte"
          ],
          [
           849.99,
           2640,
           "Asus"
          ],
          [
           869.99,
           2685,
           "MSI"
          ],
          [
           869,
           2655,
           "Gigabyte"
          ],
          [
           899.99,
           2685,
           "MSI"
          ],
          [
           899.97,
           2670,
           "Asus"
          ],
          [
           879.99,
           2610,
           "Gigabyte"
          ],
          [
           927,
           2700,
           "Asus"
          ],
          [
           872.52,
           2520,
           "MSI"
          ],
          [
           974.99,
           2790,
           "MSI"
          ],
          [
           929.99,
           2640,
           "Asus"
          ],
          [
           899.95,
           2550,
           "Asus"
          ],
          [
           994.9,
           2760,
           "Asus"
          ],
          [
           979,
           2685,
           "MSI"
          ],
          [
           963.33,
           2640,
           "Asus"
          ],
          [
           989.91,
           2655,
           "Gigabyte"
          ],
          [
           1047.72,
           2760,
           "Asus"
          ],
          [
           999.99,
           2580,
           "Asus"
          ],
          [
           1029,
           2640,
           "Gigabyte"
          ],
          [
           999.97,
           2550,
           "Gigabyte"
          ],
          [
           1039.9,
           2640,
           "Gigabyte"
          ],
          [
           1029.99,
           2595,
           "MSI"
          ],
          [
           1085.75,
           2640,
           "Gigabyte"
          ],
          [
           1099,
           2640,
           "Asus"
          ],
          [
           1099.99,
           2625,
           "MSI"
          ],
          [
           1089.99,
           2595,
           "Gigabyte"
          ],
          [
           1176.49,
           2790,
           "Asus"
          ],
          [
           1099.97,
           2595,
           "Gigabyte"
          ],
          [
           1119.99,
           2625,
           "MSI"
          ],
          [
           1119.99,
           2625,
           "MSI"
          ],
          [
           1149.97,
           2640,
           "Asus"
          ],
          [
           1156.98,
           2640,
           "Asus"
          ],
          [
           1199.99,
           2655,
           "MSI"
          ],
          [
           1199.99,
           2580,
           "Asus"
          ],
          [
           1249.99,
           2670,
           "Asus"
          ],
          [
           1199,
           2505,
           "Gigabyte"
          ],
          [
           1229.95,
           2535,
           "Gigabyte"
          ],
          [
           1279.99,
           2610,
           "MSI"
          ],
          [
           1229.9,
           2505,
           "Gigabyte"
          ],
          [
           1289,
           2625,
           "Asus"
          ],
          [
           1299,
           2610,
           "MSI"
          ],
          [
           1289.99,
           2580,
           "Asus"
          ],
          [
           1349.99,
           2670,
           "Asus"
          ],
          [
           1299,
           2535,
           "Gigabyte"
          ],
          [
           1299,
           2535,
           "Asus"
          ],
          [
           1299,
           2520,
           "MSI"
          ],
          [
           1359,
           2625,
           "Asus"
          ],
          [
           1419,
           2610,
           "MSI"
          ],
          [
           1467.49,
           2640,
           "MSI"
          ],
          [
           1488.82,
           2670,
           "Gigabyte"
          ],
          [
           1539,
           2655,
           "Asus"
          ],
          [
           1554.99,
           2625,
           "Gigabyte"
          ],
          [
           1599,
           2655,
           "Asus"
          ],
          [
           1559,
           2535,
           "Asus"
          ],
          [
           1599,
           2535,
           "Asus"
          ],
          [
           1709.15,
           2625,
           "MSI"
          ],
          [
           1848,
           2745,
           "MSI"
          ],
          [
           1989.98,
           2595,
           "Asus"
          ],
          [
           1949.97,
           2535,
           "Gigabyte"
          ],
          [
           2179.99,
           2640,
           "Asus"
          ],
          [
           2189,
           2610,
           "MSI"
          ],
          [
           2249.99,
           2640,
           "Asus"
          ],
          [
           2180,
           2550,
           "Asus"
          ],
          [
           2249.98,
           2595,
           "Asus"
          ],
          [
           2256.71,
           2550,
           "Asus"
          ],
          [
           2285,
           2550,
           "Asus"
          ],
          [
           2299,
           2565,
           "MSI"
          ],
          [
           2395,
           2625,
           "Asus"
          ],
          [
           2339,
           2535,
           "MSI"
          ],
          [
           2399,
           2520,
           "Gigabyte"
          ],
          [
           2399,
           2520,
           "Gigabyte"
          ],
          [
           2449.98,
           2550,
           "Asus"
          ],
          [
           2799.9,
           2700,
           "Gigabyte"
          ],
          [
           4499.99,
           2640,
           "Asus"
          ]
         ],
         "hovertemplate": "Chipset=%{x}<br>Clock Speed por Dollar=%{y}<br>price=%{customdata[0]}<br>core_boost_clock=%{customdata[1]}<br>brand=%{customdata[2]}<extra></extra>",
         "legendgroup": "",
         "marker": {
          "color": "rgb(118,185,0)"
         },
         "name": "",
         "notched": false,
         "offsetgroup": "",
         "orientation": "v",
         "showlegend": false,
         "type": "box",
         "x": [
          "GeForce RTX 4060",
          "GeForce RTX 4060",
          "GeForce RTX 4060",
          "GeForce RTX 4060",
          "GeForce RTX 4060",
          "GeForce RTX 4060",
          "GeForce RTX 4060",
          "GeForce RTX 4060",
          "GeForce RTX 4060",
          "GeForce RTX 4060",
          "GeForce RTX 4060",
          "GeForce RTX 4060",
          "GeForce RTX 4060 Ti",
          "GeForce RTX 4060 Ti",
          "GeForce RTX 4060 Ti",
          "GeForce RTX 4060 Ti",
          "GeForce RTX 4060 Ti",
          "GeForce RTX 4060 Ti",
          "GeForce RTX 4060 Ti",
          "GeForce RTX 4060 Ti",
          "GeForce RTX 4060 Ti",
          "GeForce RTX 4060 Ti",
          "GeForce RTX 4060 Ti",
          "GeForce RTX 4060 Ti",
          "GeForce RTX 4060 Ti",
          "GeForce RTX 4060 Ti",
          "GeForce RTX 4060 Ti",
          "GeForce RTX 4060 Ti",
          "GeForce RTX 4060 Ti",
          "GeForce RTX 4070",
          "GeForce RTX 4070",
          "GeForce RTX 4070",
          "GeForce RTX 4070",
          "GeForce RTX 4070",
          "GeForce RTX 4070 SUPER",
          "GeForce RTX 4070 SUPER",
          "GeForce RTX 4070 SUPER",
          "GeForce RTX 4070 SUPER",
          "GeForce RTX 4070 SUPER",
          "GeForce RTX 4070 SUPER",
          "GeForce RTX 4070",
          "GeForce RTX 4070 SUPER",
          "GeForce RTX 4070 SUPER",
          "GeForce RTX 4070 SUPER",
          "GeForce RTX 4070",
          "GeForce RTX 4070 SUPER",
          "GeForce RTX 4070 SUPER",
          "GeForce RTX 4070 SUPER",
          "GeForce RTX 4070 SUPER",
          "GeForce RTX 4070 SUPER",
          "GeForce RTX 4070 SUPER",
          "GeForce RTX 4060 Ti",
          "GeForce RTX 4070 SUPER",
          "GeForce RTX 4070 SUPER",
          "GeForce RTX 4060 Ti",
          "GeForce RTX 4070 SUPER",
          "GeForce RTX 4070",
          "GeForce RTX 4070 Ti",
          "GeForce RTX 4070 SUPER",
          "GeForce RTX 4070",
          "GeForce RTX 4070",
          "GeForce RTX 4070 Ti",
          "GeForce RTX 4070 Ti",
          "GeForce RTX 4070 Ti",
          "GeForce RTX 4070 Ti",
          "GeForce RTX 4070 Ti",
          "GeForce RTX 4070",
          "GeForce RTX 4070 Ti",
          "GeForce RTX 4070 Ti",
          "GeForce RTX 4060 Ti",
          "GeForce RTX 4070 SUPER",
          "GeForce RTX 4070",
          "GeForce RTX 4070 Ti SUPER",
          "GeForce RTX 4070 Ti SUPER",
          "GeForce RTX 4070 Ti SUPER",
          "GeForce RTX 4070",
          "GeForce RTX 4070 Ti",
          "GeForce RTX 4070 Ti SUPER",
          "GeForce RTX 4070 Ti SUPER",
          "GeForce RTX 4070 Ti",
          "GeForce RTX 4070",
          "GeForce RTX 4070 Ti SUPER",
          "GeForce RTX 4070 Ti SUPER",
          "GeForce RTX 4070",
          "GeForce RTX 4070 Ti SUPER",
          "GeForce RTX 4070 Ti SUPER",
          "GeForce RTX 4070 Ti",
          "GeForce RTX 4070 Ti SUPER",
          "GeForce RTX 4070 Ti SUPER",
          "GeForce RTX 4070 Ti SUPER",
          "GeForce RTX 4070 Ti SUPER",
          "GeForce RTX 4070 Ti",
          "GeForce RTX 4070 Ti SUPER",
          "GeForce RTX 4070",
          "GeForce RTX 4070 Ti SUPER",
          "GeForce RTX 4070 Ti SUPER",
          "GeForce RTX 4070 Ti SUPER",
          "GeForce RTX 4070 Ti SUPER",
          "GeForce RTX 4070 Ti SUPER",
          "GeForce RTX 4070 Ti SUPER",
          "GeForce RTX 4070 Ti SUPER",
          "GeForce RTX 4070",
          "GeForce RTX 4070 Ti",
          "GeForce RTX 4070 Ti SUPER",
          "GeForce RTX 4070 SUPER",
          "GeForce RTX 4070 Ti",
          "GeForce RTX 4070 Ti SUPER",
          "GeForce RTX 4070 Ti SUPER",
          "GeForce RTX 4070 SUPER",
          "GeForce RTX 4070 Ti",
          "GeForce RTX 4080 SUPER",
          "GeForce RTX 4070 Ti",
          "GeForce RTX 4080 SUPER",
          "GeForce RTX 4070 Ti",
          "GeForce RTX 4080 SUPER",
          "GeForce RTX 4070 Ti SUPER",
          "GeForce RTX 4080 SUPER",
          "GeForce RTX 4080 SUPER",
          "GeForce RTX 4080 SUPER",
          "GeForce RTX 4070 Ti",
          "GeForce RTX 4080 SUPER",
          "GeForce RTX 4080 SUPER",
          "GeForce RTX 4080 SUPER",
          "GeForce RTX 4080 SUPER",
          "GeForce RTX 4070 Ti",
          "GeForce RTX 4080 SUPER",
          "GeForce RTX 4080 SUPER",
          "GeForce RTX 4080 SUPER",
          "GeForce RTX 4080",
          "GeForce RTX 4080",
          "GeForce RTX 4080",
          "GeForce RTX 4080",
          "GeForce RTX 4080",
          "GeForce RTX 4080",
          "GeForce RTX 4080 SUPER",
          "GeForce RTX 4080 SUPER",
          "GeForce RTX 4080",
          "GeForce RTX 4080",
          "GeForce RTX 4080",
          "GeForce RTX 4080",
          "GeForce RTX 4080",
          "GeForce RTX 4080",
          "GeForce RTX 4070 Ti SUPER",
          "GeForce RTX 4080",
          "GeForce RTX 4080 SUPER",
          "GeForce RTX 4080",
          "GeForce RTX 4080",
          "GeForce RTX 4080",
          "GeForce RTX 4070",
          "GeForce RTX 4070 Ti",
          "GeForce RTX 4090",
          "GeForce RTX 4090",
          "GeForce RTX 4090",
          "GeForce RTX 4090",
          "GeForce RTX 4090",
          "GeForce RTX 4090",
          "GeForce RTX 4090",
          "GeForce RTX 4090",
          "GeForce RTX 4090",
          "GeForce RTX 4090",
          "GeForce RTX 4080",
          "GeForce RTX 4090",
          "GeForce RTX 4090",
          "GeForce RTX 4090",
          "GeForce RTX 4090",
          "GeForce RTX 4080 SUPER",
          "GeForce RTX 4090"
         ],
         "x0": " ",
         "xaxis": "x",
         "y": [
          8.54977985596778,
          8.450281676055868,
          8.35027834261142,
          8.311747926161512,
          8.17768315106939,
          8.156504890777837,
          8.080905835672118,
          7.959734997105551,
          7.734616706772086,
          7.166865746270729,
          7.15929429813347,
          6.923254442421601,
          6.623548663601651,
          6.487662191554788,
          6.412660316507912,
          6.3447432762836184,
          6.2196638942413225,
          6.104793134724063,
          6.034228050637514,
          5.7568314399754374,
          5.700126669481544,
          5.6680584551148225,
          5.418477928120982,
          5.370107402148043,
          5.370107402148043,
          5.350625786098682,
          5.343861330444384,
          5.2501050021000415,
          4.950306175006199,
          4.5820681128061524,
          4.553652743798996,
          4.4737626975911855,
          4.421130195266583,
          4.3264248704663215,
          4.271258834895507,
          4.250070834513909,
          4.200070001166686,
          4.175069584493075,
          4.1611811171713375,
          4.113234938301476,
          4.112969564025226,
          4.106624698765554,
          4.106624698765554,
          4.088775625413313,
          4.071493198304735,
          4.071493198304735,
          4.07108239095315,
          3.9984591679506933,
          3.984437256832138,
          3.9762535913268464,
          3.9609993906154783,
          3.946214557147033,
          3.9333916058015674,
          3.895748849501071,
          3.8851476356101533,
          3.7721142957984677,
          3.771482449749282,
          3.7095095879674047,
          3.708384838678315,
          3.6838777040838835,
          3.6122166464786294,
          3.5959396704064437,
          3.5878863227881457,
          3.5878863227881457,
          3.571477162954598,
          3.549465240641711,
          3.518209013918344,
          3.5000466672888972,
          3.4934670193028854,
          3.456359301535716,
          3.4315538569021493,
          3.3244325767690253,
          3.318874457792167,
          3.3187914848935613,
          3.3187914848935613,
          3.2868962403219166,
          3.285753401826212,
          3.281291016137702,
          3.277818244669687,
          3.2392638036809815,
          3.2364513263104455,
          3.2026537997587456,
          3.1988337208882034,
          3.197105256635852,
          3.1829656459225113,
          3.18076121399053,
          3.1752904669120303,
          3.1626887070928564,
          3.1607519137132583,
          3.158860692478735,
          3.1448763250883394,
          3.1428945582685506,
          3.126463700234192,
          3.115510749423054,
          3.105918893163449,
          3.086242370601961,
          3.055235903337169,
          2.9833664818497985,
          2.9667655588519617,
          2.9659427948044863,
          2.912621359223301,
          2.8881859441617386,
          2.8615678109519074,
          2.838740201507543,
          2.8334907494860824,
          2.7741481555935272,
          2.742594484167518,
          2.740493911743639,
          2.682062005636876,
          2.6342916046271903,
          2.5800258002580025,
          2.565597667638484,
          2.550076502295069,
          2.5387056447735357,
          2.519441936329479,
          2.431498963849873,
          2.402183803457689,
          2.386385330775734,
          2.380755786750337,
          2.37146087089563,
          2.359155249688628,
          2.3437709265261297,
          2.3437709265261297,
          2.2957120620537927,
          2.2818026240730176,
          2.2125184376536473,
          2.1500179168159734,
          2.136017088136705,
          2.0892410341951626,
          2.061059392658238,
          2.0390784303002367,
          2.0367509553622245,
          2.0364623739332814,
          2.0092378752886835,
          2.000015503996155,
          1.97779242809206,
          1.951501154734411,
          1.951501154734411,
          1.9399538106235565,
          1.9315673289183224,
          1.839323467230444,
          1.7989901123687384,
          1.793366558751226,
          1.7251461988304093,
          1.6881137499276522,
          1.6604127579737336,
          1.6260423348300193,
          1.5853658536585367,
          1.5358511540824387,
          1.4853896103896105,
          1.304033206363883,
          1.300020000307697,
          1.2110147294253644,
          1.1923252626770215,
          1.1733385481713252,
          1.1697247706422018,
          1.1533435852763136,
          1.1299635309809413,
          1.1159737417943107,
          1.115702479338843,
          1.0960334029227556,
          1.0837964942283027,
          1.0504376823676531,
          1.0504376823676531,
          1.04082482305978,
          0.9643201542912246,
          0.5866679703732676
         ],
         "y0": " ",
         "yaxis": "y"
        }
       ],
       "layout": {
        "boxmode": "group",
        "height": 800,
        "legend": {
         "title": {
          "text": "Parent Brand"
         },
         "tracegroupgap": 0
        },
        "template": {
         "data": {
          "bar": [
           {
            "error_x": {
             "color": "#2a3f5f"
            },
            "error_y": {
             "color": "#2a3f5f"
            },
            "marker": {
             "line": {
              "color": "#E5ECF6",
              "width": 0.5
             },
             "pattern": {
              "fillmode": "overlay",
              "size": 10,
              "solidity": 0.2
             }
            },
            "type": "bar"
           }
          ],
          "barpolar": [
           {
            "marker": {
             "line": {
              "color": "#E5ECF6",
              "width": 0.5
             },
             "pattern": {
              "fillmode": "overlay",
              "size": 10,
              "solidity": 0.2
             }
            },
            "type": "barpolar"
           }
          ],
          "carpet": [
           {
            "aaxis": {
             "endlinecolor": "#2a3f5f",
             "gridcolor": "white",
             "linecolor": "white",
             "minorgridcolor": "white",
             "startlinecolor": "#2a3f5f"
            },
            "baxis": {
             "endlinecolor": "#2a3f5f",
             "gridcolor": "white",
             "linecolor": "white",
             "minorgridcolor": "white",
             "startlinecolor": "#2a3f5f"
            },
            "type": "carpet"
           }
          ],
          "choropleth": [
           {
            "colorbar": {
             "outlinewidth": 0,
             "ticks": ""
            },
            "type": "choropleth"
           }
          ],
          "contour": [
           {
            "colorbar": {
             "outlinewidth": 0,
             "ticks": ""
            },
            "colorscale": [
             [
              0,
              "#0d0887"
             ],
             [
              0.1111111111111111,
              "#46039f"
             ],
             [
              0.2222222222222222,
              "#7201a8"
             ],
             [
              0.3333333333333333,
              "#9c179e"
             ],
             [
              0.4444444444444444,
              "#bd3786"
             ],
             [
              0.5555555555555556,
              "#d8576b"
             ],
             [
              0.6666666666666666,
              "#ed7953"
             ],
             [
              0.7777777777777778,
              "#fb9f3a"
             ],
             [
              0.8888888888888888,
              "#fdca26"
             ],
             [
              1,
              "#f0f921"
             ]
            ],
            "type": "contour"
           }
          ],
          "contourcarpet": [
           {
            "colorbar": {
             "outlinewidth": 0,
             "ticks": ""
            },
            "type": "contourcarpet"
           }
          ],
          "heatmap": [
           {
            "colorbar": {
             "outlinewidth": 0,
             "ticks": ""
            },
            "colorscale": [
             [
              0,
              "#0d0887"
             ],
             [
              0.1111111111111111,
              "#46039f"
             ],
             [
              0.2222222222222222,
              "#7201a8"
             ],
             [
              0.3333333333333333,
              "#9c179e"
             ],
             [
              0.4444444444444444,
              "#bd3786"
             ],
             [
              0.5555555555555556,
              "#d8576b"
             ],
             [
              0.6666666666666666,
              "#ed7953"
             ],
             [
              0.7777777777777778,
              "#fb9f3a"
             ],
             [
              0.8888888888888888,
              "#fdca26"
             ],
             [
              1,
              "#f0f921"
             ]
            ],
            "type": "heatmap"
           }
          ],
          "heatmapgl": [
           {
            "colorbar": {
             "outlinewidth": 0,
             "ticks": ""
            },
            "colorscale": [
             [
              0,
              "#0d0887"
             ],
             [
              0.1111111111111111,
              "#46039f"
             ],
             [
              0.2222222222222222,
              "#7201a8"
             ],
             [
              0.3333333333333333,
              "#9c179e"
             ],
             [
              0.4444444444444444,
              "#bd3786"
             ],
             [
              0.5555555555555556,
              "#d8576b"
             ],
             [
              0.6666666666666666,
              "#ed7953"
             ],
             [
              0.7777777777777778,
              "#fb9f3a"
             ],
             [
              0.8888888888888888,
              "#fdca26"
             ],
             [
              1,
              "#f0f921"
             ]
            ],
            "type": "heatmapgl"
           }
          ],
          "histogram": [
           {
            "marker": {
             "pattern": {
              "fillmode": "overlay",
              "size": 10,
              "solidity": 0.2
             }
            },
            "type": "histogram"
           }
          ],
          "histogram2d": [
           {
            "colorbar": {
             "outlinewidth": 0,
             "ticks": ""
            },
            "colorscale": [
             [
              0,
              "#0d0887"
             ],
             [
              0.1111111111111111,
              "#46039f"
             ],
             [
              0.2222222222222222,
              "#7201a8"
             ],
             [
              0.3333333333333333,
              "#9c179e"
             ],
             [
              0.4444444444444444,
              "#bd3786"
             ],
             [
              0.5555555555555556,
              "#d8576b"
             ],
             [
              0.6666666666666666,
              "#ed7953"
             ],
             [
              0.7777777777777778,
              "#fb9f3a"
             ],
             [
              0.8888888888888888,
              "#fdca26"
             ],
             [
              1,
              "#f0f921"
             ]
            ],
            "type": "histogram2d"
           }
          ],
          "histogram2dcontour": [
           {
            "colorbar": {
             "outlinewidth": 0,
             "ticks": ""
            },
            "colorscale": [
             [
              0,
              "#0d0887"
             ],
             [
              0.1111111111111111,
              "#46039f"
             ],
             [
              0.2222222222222222,
              "#7201a8"
             ],
             [
              0.3333333333333333,
              "#9c179e"
             ],
             [
              0.4444444444444444,
              "#bd3786"
             ],
             [
              0.5555555555555556,
              "#d8576b"
             ],
             [
              0.6666666666666666,
              "#ed7953"
             ],
             [
              0.7777777777777778,
              "#fb9f3a"
             ],
             [
              0.8888888888888888,
              "#fdca26"
             ],
             [
              1,
              "#f0f921"
             ]
            ],
            "type": "histogram2dcontour"
           }
          ],
          "mesh3d": [
           {
            "colorbar": {
             "outlinewidth": 0,
             "ticks": ""
            },
            "type": "mesh3d"
           }
          ],
          "parcoords": [
           {
            "line": {
             "colorbar": {
              "outlinewidth": 0,
              "ticks": ""
             }
            },
            "type": "parcoords"
           }
          ],
          "pie": [
           {
            "automargin": true,
            "type": "pie"
           }
          ],
          "scatter": [
           {
            "fillpattern": {
             "fillmode": "overlay",
             "size": 10,
             "solidity": 0.2
            },
            "type": "scatter"
           }
          ],
          "scatter3d": [
           {
            "line": {
             "colorbar": {
              "outlinewidth": 0,
              "ticks": ""
             }
            },
            "marker": {
             "colorbar": {
              "outlinewidth": 0,
              "ticks": ""
             }
            },
            "type": "scatter3d"
           }
          ],
          "scattercarpet": [
           {
            "marker": {
             "colorbar": {
              "outlinewidth": 0,
              "ticks": ""
             }
            },
            "type": "scattercarpet"
           }
          ],
          "scattergeo": [
           {
            "marker": {
             "colorbar": {
              "outlinewidth": 0,
              "ticks": ""
             }
            },
            "type": "scattergeo"
           }
          ],
          "scattergl": [
           {
            "marker": {
             "colorbar": {
              "outlinewidth": 0,
              "ticks": ""
             }
            },
            "type": "scattergl"
           }
          ],
          "scattermapbox": [
           {
            "marker": {
             "colorbar": {
              "outlinewidth": 0,
              "ticks": ""
             }
            },
            "type": "scattermapbox"
           }
          ],
          "scatterpolar": [
           {
            "marker": {
             "colorbar": {
              "outlinewidth": 0,
              "ticks": ""
             }
            },
            "type": "scatterpolar"
           }
          ],
          "scatterpolargl": [
           {
            "marker": {
             "colorbar": {
              "outlinewidth": 0,
              "ticks": ""
             }
            },
            "type": "scatterpolargl"
           }
          ],
          "scatterternary": [
           {
            "marker": {
             "colorbar": {
              "outlinewidth": 0,
              "ticks": ""
             }
            },
            "type": "scatterternary"
           }
          ],
          "surface": [
           {
            "colorbar": {
             "outlinewidth": 0,
             "ticks": ""
            },
            "colorscale": [
             [
              0,
              "#0d0887"
             ],
             [
              0.1111111111111111,
              "#46039f"
             ],
             [
              0.2222222222222222,
              "#7201a8"
             ],
             [
              0.3333333333333333,
              "#9c179e"
             ],
             [
              0.4444444444444444,
              "#bd3786"
             ],
             [
              0.5555555555555556,
              "#d8576b"
             ],
             [
              0.6666666666666666,
              "#ed7953"
             ],
             [
              0.7777777777777778,
              "#fb9f3a"
             ],
             [
              0.8888888888888888,
              "#fdca26"
             ],
             [
              1,
              "#f0f921"
             ]
            ],
            "type": "surface"
           }
          ],
          "table": [
           {
            "cells": {
             "fill": {
              "color": "#EBF0F8"
             },
             "line": {
              "color": "white"
             }
            },
            "header": {
             "fill": {
              "color": "#C8D4E3"
             },
             "line": {
              "color": "white"
             }
            },
            "type": "table"
           }
          ]
         },
         "layout": {
          "annotationdefaults": {
           "arrowcolor": "#2a3f5f",
           "arrowhead": 0,
           "arrowwidth": 1
          },
          "autotypenumbers": "strict",
          "coloraxis": {
           "colorbar": {
            "outlinewidth": 0,
            "ticks": ""
           }
          },
          "colorscale": {
           "diverging": [
            [
             0,
             "#8e0152"
            ],
            [
             0.1,
             "#c51b7d"
            ],
            [
             0.2,
             "#de77ae"
            ],
            [
             0.3,
             "#f1b6da"
            ],
            [
             0.4,
             "#fde0ef"
            ],
            [
             0.5,
             "#f7f7f7"
            ],
            [
             0.6,
             "#e6f5d0"
            ],
            [
             0.7,
             "#b8e186"
            ],
            [
             0.8,
             "#7fbc41"
            ],
            [
             0.9,
             "#4d9221"
            ],
            [
             1,
             "#276419"
            ]
           ],
           "sequential": [
            [
             0,
             "#0d0887"
            ],
            [
             0.1111111111111111,
             "#46039f"
            ],
            [
             0.2222222222222222,
             "#7201a8"
            ],
            [
             0.3333333333333333,
             "#9c179e"
            ],
            [
             0.4444444444444444,
             "#bd3786"
            ],
            [
             0.5555555555555556,
             "#d8576b"
            ],
            [
             0.6666666666666666,
             "#ed7953"
            ],
            [
             0.7777777777777778,
             "#fb9f3a"
            ],
            [
             0.8888888888888888,
             "#fdca26"
            ],
            [
             1,
             "#f0f921"
            ]
           ],
           "sequentialminus": [
            [
             0,
             "#0d0887"
            ],
            [
             0.1111111111111111,
             "#46039f"
            ],
            [
             0.2222222222222222,
             "#7201a8"
            ],
            [
             0.3333333333333333,
             "#9c179e"
            ],
            [
             0.4444444444444444,
             "#bd3786"
            ],
            [
             0.5555555555555556,
             "#d8576b"
            ],
            [
             0.6666666666666666,
             "#ed7953"
            ],
            [
             0.7777777777777778,
             "#fb9f3a"
            ],
            [
             0.8888888888888888,
             "#fdca26"
            ],
            [
             1,
             "#f0f921"
            ]
           ]
          },
          "colorway": [
           "#636efa",
           "#EF553B",
           "#00cc96",
           "#ab63fa",
           "#FFA15A",
           "#19d3f3",
           "#FF6692",
           "#B6E880",
           "#FF97FF",
           "#FECB52"
          ],
          "font": {
           "color": "#2a3f5f"
          },
          "geo": {
           "bgcolor": "white",
           "lakecolor": "white",
           "landcolor": "#E5ECF6",
           "showlakes": true,
           "showland": true,
           "subunitcolor": "white"
          },
          "hoverlabel": {
           "align": "left"
          },
          "hovermode": "closest",
          "mapbox": {
           "style": "light"
          },
          "paper_bgcolor": "white",
          "plot_bgcolor": "#E5ECF6",
          "polar": {
           "angularaxis": {
            "gridcolor": "white",
            "linecolor": "white",
            "ticks": ""
           },
           "bgcolor": "#E5ECF6",
           "radialaxis": {
            "gridcolor": "white",
            "linecolor": "white",
            "ticks": ""
           }
          },
          "scene": {
           "xaxis": {
            "backgroundcolor": "#E5ECF6",
            "gridcolor": "white",
            "gridwidth": 2,
            "linecolor": "white",
            "showbackground": true,
            "ticks": "",
            "zerolinecolor": "white"
           },
           "yaxis": {
            "backgroundcolor": "#E5ECF6",
            "gridcolor": "white",
            "gridwidth": 2,
            "linecolor": "white",
            "showbackground": true,
            "ticks": "",
            "zerolinecolor": "white"
           },
           "zaxis": {
            "backgroundcolor": "#E5ECF6",
            "gridcolor": "white",
            "gridwidth": 2,
            "linecolor": "white",
            "showbackground": true,
            "ticks": "",
            "zerolinecolor": "white"
           }
          },
          "shapedefaults": {
           "line": {
            "color": "#2a3f5f"
           }
          },
          "ternary": {
           "aaxis": {
            "gridcolor": "white",
            "linecolor": "white",
            "ticks": ""
           },
           "baxis": {
            "gridcolor": "white",
            "linecolor": "white",
            "ticks": ""
           },
           "bgcolor": "#E5ECF6",
           "caxis": {
            "gridcolor": "white",
            "linecolor": "white",
            "ticks": ""
           }
          },
          "title": {
           "x": 0.05
          },
          "xaxis": {
           "automargin": true,
           "gridcolor": "white",
           "linecolor": "white",
           "ticks": "",
           "title": {
            "standoff": 15
           },
           "zerolinecolor": "white",
           "zerolinewidth": 2
          },
          "yaxis": {
           "automargin": true,
           "gridcolor": "white",
           "linecolor": "white",
           "ticks": "",
           "title": {
            "standoff": 15
           },
           "zerolinecolor": "white",
           "zerolinewidth": 2
          }
         }
        },
        "title": {
         "text": "Boost Clock por dolar de las tarjetas gráficas RTX 40 a través de los diferentes vendedores"
        },
        "xaxis": {
         "anchor": "y",
         "domain": [
          0,
          1
         ],
         "title": {
          "text": "Chipset"
         }
        },
        "yaxis": {
         "anchor": "x",
         "domain": [
          0,
          1
         ],
         "title": {
          "text": "Boost Clock Per Dollar"
         }
        }
       }
      }
     },
     "metadata": {},
     "output_type": "display_data"
    }
   ],
   "source": [
    "df_filtered = df[df[\"chipset\"].str.contains(\"RTX 40\", case=False, na=False)]\n",
    "\n",
    "df_filtered[\"boost_clock_per_dollar\"] = df_filtered[\"core_boost_clock\"] / df_filtered[\"price\"]\n",
    "\n",
    "fig = px.box(\n",
    "    df_filtered.sort_values(\"boost_clock_per_dollar\", ascending=False),\n",
    "    x=\"chipset\",\n",
    "    y=\"boost_clock_per_dollar\",\n",
    "    title=\"Boost Clock por dolar de las tarjetas gráficas RTX 40 a través de los diferentes vendedores\",\n",
    "    labels={\n",
    "        \"boost_clock_per_dollar\": \"Clock Speed por Dollar\",\n",
    "        \"chipset\": \"Chipset\"\n",
    "    },\n",
    "    hover_data=[\"price\", \"core_boost_clock\", \"brand\"],\n",
    "    height=800,\n",
    ")\n",
    "\n",
    "fig.update_layout(\n",
    "    xaxis_title=\"Chipset\",\n",
    "    yaxis_title=\"Boost Clock Per Dollar\",\n",
    "    legend_title=\"Parent Brand\",\n",
    ")\n",
    "\n",
    "fig.update_traces(marker=dict(color=\"rgb(118,185,0)\"))\n",
    "\n",
    "fig.show()"
   ]
  },
  {
   "cell_type": "markdown",
   "metadata": {},
   "source": [
    "## ¿Cómo se correlacionan las características técnicas de una tarjeta gráfica?\n"
   ]
  },
  {
   "cell_type": "code",
   "execution_count": 5,
   "metadata": {},
   "outputs": [
    {
     "data": {
      "application/vnd.plotly.v1+json": {
       "config": {
        "plotlyServerURL": "https://plot.ly"
       },
       "data": [
        {
         "coloraxis": "coloraxis",
         "hovertemplate": "x: %{x}<br>y: %{y}<br>Correlation: %{z}<extra></extra>",
         "name": "0",
         "texttemplate": "%{z}",
         "type": "heatmap",
         "x": [
          "price",
          "memory",
          "core_clock",
          "core_boost_clock"
         ],
         "xaxis": "x",
         "y": [
          "price",
          "memory",
          "core_clock",
          "core_boost_clock"
         ],
         "yaxis": "y",
         "z": [
          [
           1,
           0.7947631761580135,
           0.23715069133074823,
           0.11095545746427964
          ],
          [
           0.7947631761580135,
           1,
           0.38468974124326605,
           0.09911185016425068
          ],
          [
           0.23715069133074823,
           0.38468974124326605,
           1,
           0.4584695872559651
          ],
          [
           0.11095545746427964,
           0.09911185016425068,
           0.4584695872559651,
           1
          ]
         ]
        }
       ],
       "layout": {
        "coloraxis": {
         "colorbar": {
          "title": {
           "text": "Correlation"
          }
         },
         "colorscale": [
          [
           0,
           "#440154"
          ],
          [
           0.1111111111111111,
           "#482878"
          ],
          [
           0.2222222222222222,
           "#3e4989"
          ],
          [
           0.3333333333333333,
           "#31688e"
          ],
          [
           0.4444444444444444,
           "#26828e"
          ],
          [
           0.5555555555555556,
           "#1f9e89"
          ],
          [
           0.6666666666666666,
           "#35b779"
          ],
          [
           0.7777777777777778,
           "#6ece58"
          ],
          [
           0.8888888888888888,
           "#b5de2b"
          ],
          [
           1,
           "#fde725"
          ]
         ]
        },
        "template": {
         "data": {
          "bar": [
           {
            "error_x": {
             "color": "#2a3f5f"
            },
            "error_y": {
             "color": "#2a3f5f"
            },
            "marker": {
             "line": {
              "color": "#E5ECF6",
              "width": 0.5
             },
             "pattern": {
              "fillmode": "overlay",
              "size": 10,
              "solidity": 0.2
             }
            },
            "type": "bar"
           }
          ],
          "barpolar": [
           {
            "marker": {
             "line": {
              "color": "#E5ECF6",
              "width": 0.5
             },
             "pattern": {
              "fillmode": "overlay",
              "size": 10,
              "solidity": 0.2
             }
            },
            "type": "barpolar"
           }
          ],
          "carpet": [
           {
            "aaxis": {
             "endlinecolor": "#2a3f5f",
             "gridcolor": "white",
             "linecolor": "white",
             "minorgridcolor": "white",
             "startlinecolor": "#2a3f5f"
            },
            "baxis": {
             "endlinecolor": "#2a3f5f",
             "gridcolor": "white",
             "linecolor": "white",
             "minorgridcolor": "white",
             "startlinecolor": "#2a3f5f"
            },
            "type": "carpet"
           }
          ],
          "choropleth": [
           {
            "colorbar": {
             "outlinewidth": 0,
             "ticks": ""
            },
            "type": "choropleth"
           }
          ],
          "contour": [
           {
            "colorbar": {
             "outlinewidth": 0,
             "ticks": ""
            },
            "colorscale": [
             [
              0,
              "#0d0887"
             ],
             [
              0.1111111111111111,
              "#46039f"
             ],
             [
              0.2222222222222222,
              "#7201a8"
             ],
             [
              0.3333333333333333,
              "#9c179e"
             ],
             [
              0.4444444444444444,
              "#bd3786"
             ],
             [
              0.5555555555555556,
              "#d8576b"
             ],
             [
              0.6666666666666666,
              "#ed7953"
             ],
             [
              0.7777777777777778,
              "#fb9f3a"
             ],
             [
              0.8888888888888888,
              "#fdca26"
             ],
             [
              1,
              "#f0f921"
             ]
            ],
            "type": "contour"
           }
          ],
          "contourcarpet": [
           {
            "colorbar": {
             "outlinewidth": 0,
             "ticks": ""
            },
            "type": "contourcarpet"
           }
          ],
          "heatmap": [
           {
            "colorbar": {
             "outlinewidth": 0,
             "ticks": ""
            },
            "colorscale": [
             [
              0,
              "#0d0887"
             ],
             [
              0.1111111111111111,
              "#46039f"
             ],
             [
              0.2222222222222222,
              "#7201a8"
             ],
             [
              0.3333333333333333,
              "#9c179e"
             ],
             [
              0.4444444444444444,
              "#bd3786"
             ],
             [
              0.5555555555555556,
              "#d8576b"
             ],
             [
              0.6666666666666666,
              "#ed7953"
             ],
             [
              0.7777777777777778,
              "#fb9f3a"
             ],
             [
              0.8888888888888888,
              "#fdca26"
             ],
             [
              1,
              "#f0f921"
             ]
            ],
            "type": "heatmap"
           }
          ],
          "heatmapgl": [
           {
            "colorbar": {
             "outlinewidth": 0,
             "ticks": ""
            },
            "colorscale": [
             [
              0,
              "#0d0887"
             ],
             [
              0.1111111111111111,
              "#46039f"
             ],
             [
              0.2222222222222222,
              "#7201a8"
             ],
             [
              0.3333333333333333,
              "#9c179e"
             ],
             [
              0.4444444444444444,
              "#bd3786"
             ],
             [
              0.5555555555555556,
              "#d8576b"
             ],
             [
              0.6666666666666666,
              "#ed7953"
             ],
             [
              0.7777777777777778,
              "#fb9f3a"
             ],
             [
              0.8888888888888888,
              "#fdca26"
             ],
             [
              1,
              "#f0f921"
             ]
            ],
            "type": "heatmapgl"
           }
          ],
          "histogram": [
           {
            "marker": {
             "pattern": {
              "fillmode": "overlay",
              "size": 10,
              "solidity": 0.2
             }
            },
            "type": "histogram"
           }
          ],
          "histogram2d": [
           {
            "colorbar": {
             "outlinewidth": 0,
             "ticks": ""
            },
            "colorscale": [
             [
              0,
              "#0d0887"
             ],
             [
              0.1111111111111111,
              "#46039f"
             ],
             [
              0.2222222222222222,
              "#7201a8"
             ],
             [
              0.3333333333333333,
              "#9c179e"
             ],
             [
              0.4444444444444444,
              "#bd3786"
             ],
             [
              0.5555555555555556,
              "#d8576b"
             ],
             [
              0.6666666666666666,
              "#ed7953"
             ],
             [
              0.7777777777777778,
              "#fb9f3a"
             ],
             [
              0.8888888888888888,
              "#fdca26"
             ],
             [
              1,
              "#f0f921"
             ]
            ],
            "type": "histogram2d"
           }
          ],
          "histogram2dcontour": [
           {
            "colorbar": {
             "outlinewidth": 0,
             "ticks": ""
            },
            "colorscale": [
             [
              0,
              "#0d0887"
             ],
             [
              0.1111111111111111,
              "#46039f"
             ],
             [
              0.2222222222222222,
              "#7201a8"
             ],
             [
              0.3333333333333333,
              "#9c179e"
             ],
             [
              0.4444444444444444,
              "#bd3786"
             ],
             [
              0.5555555555555556,
              "#d8576b"
             ],
             [
              0.6666666666666666,
              "#ed7953"
             ],
             [
              0.7777777777777778,
              "#fb9f3a"
             ],
             [
              0.8888888888888888,
              "#fdca26"
             ],
             [
              1,
              "#f0f921"
             ]
            ],
            "type": "histogram2dcontour"
           }
          ],
          "mesh3d": [
           {
            "colorbar": {
             "outlinewidth": 0,
             "ticks": ""
            },
            "type": "mesh3d"
           }
          ],
          "parcoords": [
           {
            "line": {
             "colorbar": {
              "outlinewidth": 0,
              "ticks": ""
             }
            },
            "type": "parcoords"
           }
          ],
          "pie": [
           {
            "automargin": true,
            "type": "pie"
           }
          ],
          "scatter": [
           {
            "fillpattern": {
             "fillmode": "overlay",
             "size": 10,
             "solidity": 0.2
            },
            "type": "scatter"
           }
          ],
          "scatter3d": [
           {
            "line": {
             "colorbar": {
              "outlinewidth": 0,
              "ticks": ""
             }
            },
            "marker": {
             "colorbar": {
              "outlinewidth": 0,
              "ticks": ""
             }
            },
            "type": "scatter3d"
           }
          ],
          "scattercarpet": [
           {
            "marker": {
             "colorbar": {
              "outlinewidth": 0,
              "ticks": ""
             }
            },
            "type": "scattercarpet"
           }
          ],
          "scattergeo": [
           {
            "marker": {
             "colorbar": {
              "outlinewidth": 0,
              "ticks": ""
             }
            },
            "type": "scattergeo"
           }
          ],
          "scattergl": [
           {
            "marker": {
             "colorbar": {
              "outlinewidth": 0,
              "ticks": ""
             }
            },
            "type": "scattergl"
           }
          ],
          "scattermapbox": [
           {
            "marker": {
             "colorbar": {
              "outlinewidth": 0,
              "ticks": ""
             }
            },
            "type": "scattermapbox"
           }
          ],
          "scatterpolar": [
           {
            "marker": {
             "colorbar": {
              "outlinewidth": 0,
              "ticks": ""
             }
            },
            "type": "scatterpolar"
           }
          ],
          "scatterpolargl": [
           {
            "marker": {
             "colorbar": {
              "outlinewidth": 0,
              "ticks": ""
             }
            },
            "type": "scatterpolargl"
           }
          ],
          "scatterternary": [
           {
            "marker": {
             "colorbar": {
              "outlinewidth": 0,
              "ticks": ""
             }
            },
            "type": "scatterternary"
           }
          ],
          "surface": [
           {
            "colorbar": {
             "outlinewidth": 0,
             "ticks": ""
            },
            "colorscale": [
             [
              0,
              "#0d0887"
             ],
             [
              0.1111111111111111,
              "#46039f"
             ],
             [
              0.2222222222222222,
              "#7201a8"
             ],
             [
              0.3333333333333333,
              "#9c179e"
             ],
             [
              0.4444444444444444,
              "#bd3786"
             ],
             [
              0.5555555555555556,
              "#d8576b"
             ],
             [
              0.6666666666666666,
              "#ed7953"
             ],
             [
              0.7777777777777778,
              "#fb9f3a"
             ],
             [
              0.8888888888888888,
              "#fdca26"
             ],
             [
              1,
              "#f0f921"
             ]
            ],
            "type": "surface"
           }
          ],
          "table": [
           {
            "cells": {
             "fill": {
              "color": "#EBF0F8"
             },
             "line": {
              "color": "white"
             }
            },
            "header": {
             "fill": {
              "color": "#C8D4E3"
             },
             "line": {
              "color": "white"
             }
            },
            "type": "table"
           }
          ]
         },
         "layout": {
          "annotationdefaults": {
           "arrowcolor": "#2a3f5f",
           "arrowhead": 0,
           "arrowwidth": 1
          },
          "autotypenumbers": "strict",
          "coloraxis": {
           "colorbar": {
            "outlinewidth": 0,
            "ticks": ""
           }
          },
          "colorscale": {
           "diverging": [
            [
             0,
             "#8e0152"
            ],
            [
             0.1,
             "#c51b7d"
            ],
            [
             0.2,
             "#de77ae"
            ],
            [
             0.3,
             "#f1b6da"
            ],
            [
             0.4,
             "#fde0ef"
            ],
            [
             0.5,
             "#f7f7f7"
            ],
            [
             0.6,
             "#e6f5d0"
            ],
            [
             0.7,
             "#b8e186"
            ],
            [
             0.8,
             "#7fbc41"
            ],
            [
             0.9,
             "#4d9221"
            ],
            [
             1,
             "#276419"
            ]
           ],
           "sequential": [
            [
             0,
             "#0d0887"
            ],
            [
             0.1111111111111111,
             "#46039f"
            ],
            [
             0.2222222222222222,
             "#7201a8"
            ],
            [
             0.3333333333333333,
             "#9c179e"
            ],
            [
             0.4444444444444444,
             "#bd3786"
            ],
            [
             0.5555555555555556,
             "#d8576b"
            ],
            [
             0.6666666666666666,
             "#ed7953"
            ],
            [
             0.7777777777777778,
             "#fb9f3a"
            ],
            [
             0.8888888888888888,
             "#fdca26"
            ],
            [
             1,
             "#f0f921"
            ]
           ],
           "sequentialminus": [
            [
             0,
             "#0d0887"
            ],
            [
             0.1111111111111111,
             "#46039f"
            ],
            [
             0.2222222222222222,
             "#7201a8"
            ],
            [
             0.3333333333333333,
             "#9c179e"
            ],
            [
             0.4444444444444444,
             "#bd3786"
            ],
            [
             0.5555555555555556,
             "#d8576b"
            ],
            [
             0.6666666666666666,
             "#ed7953"
            ],
            [
             0.7777777777777778,
             "#fb9f3a"
            ],
            [
             0.8888888888888888,
             "#fdca26"
            ],
            [
             1,
             "#f0f921"
            ]
           ]
          },
          "colorway": [
           "#636efa",
           "#EF553B",
           "#00cc96",
           "#ab63fa",
           "#FFA15A",
           "#19d3f3",
           "#FF6692",
           "#B6E880",
           "#FF97FF",
           "#FECB52"
          ],
          "font": {
           "color": "#2a3f5f"
          },
          "geo": {
           "bgcolor": "white",
           "lakecolor": "white",
           "landcolor": "#E5ECF6",
           "showlakes": true,
           "showland": true,
           "subunitcolor": "white"
          },
          "hoverlabel": {
           "align": "left"
          },
          "hovermode": "closest",
          "mapbox": {
           "style": "light"
          },
          "paper_bgcolor": "white",
          "plot_bgcolor": "#E5ECF6",
          "polar": {
           "angularaxis": {
            "gridcolor": "white",
            "linecolor": "white",
            "ticks": ""
           },
           "bgcolor": "#E5ECF6",
           "radialaxis": {
            "gridcolor": "white",
            "linecolor": "white",
            "ticks": ""
           }
          },
          "scene": {
           "xaxis": {
            "backgroundcolor": "#E5ECF6",
            "gridcolor": "white",
            "gridwidth": 2,
            "linecolor": "white",
            "showbackground": true,
            "ticks": "",
            "zerolinecolor": "white"
           },
           "yaxis": {
            "backgroundcolor": "#E5ECF6",
            "gridcolor": "white",
            "gridwidth": 2,
            "linecolor": "white",
            "showbackground": true,
            "ticks": "",
            "zerolinecolor": "white"
           },
           "zaxis": {
            "backgroundcolor": "#E5ECF6",
            "gridcolor": "white",
            "gridwidth": 2,
            "linecolor": "white",
            "showbackground": true,
            "ticks": "",
            "zerolinecolor": "white"
           }
          },
          "shapedefaults": {
           "line": {
            "color": "#2a3f5f"
           }
          },
          "ternary": {
           "aaxis": {
            "gridcolor": "white",
            "linecolor": "white",
            "ticks": ""
           },
           "baxis": {
            "gridcolor": "white",
            "linecolor": "white",
            "ticks": ""
           },
           "bgcolor": "#E5ECF6",
           "caxis": {
            "gridcolor": "white",
            "linecolor": "white",
            "ticks": ""
           }
          },
          "title": {
           "x": 0.05
          },
          "xaxis": {
           "automargin": true,
           "gridcolor": "white",
           "linecolor": "white",
           "ticks": "",
           "title": {
            "standoff": 15
           },
           "zerolinecolor": "white",
           "zerolinewidth": 2
          },
          "yaxis": {
           "automargin": true,
           "gridcolor": "white",
           "linecolor": "white",
           "ticks": "",
           "title": {
            "standoff": 15
           },
           "zerolinecolor": "white",
           "zerolinewidth": 2
          }
         }
        },
        "title": {
         "text": "Mapa de correlaciones entre las variables"
        },
        "xaxis": {
         "anchor": "y",
         "constrain": "domain",
         "domain": [
          0,
          1
         ],
         "scaleanchor": "y"
        },
        "yaxis": {
         "anchor": "x",
         "autorange": "reversed",
         "constrain": "domain",
         "domain": [
          0,
          1
         ]
        }
       }
      }
     },
     "metadata": {},
     "output_type": "display_data"
    }
   ],
   "source": [
    "columns_cor = columns[0:4]\n",
    "matrix = df_filtered[columns_cor].corr()\n",
    "\n",
    "fig = px.imshow(\n",
    "    matrix,\n",
    "    text_auto=True,\n",
    "    title=\"Mapa de correlaciones entre las variables\",\n",
    "    labels={\"color\": \"Correlation\"},\n",
    "    x=columns_cor,\n",
    "    y=columns_cor,\n",
    "    color_continuous_scale=\"Viridis\",\n",
    ")\n",
    "\n",
    "fig.show()"
   ]
  },
  {
   "cell_type": "markdown",
   "metadata": {},
   "source": [
    "## ¿Cuál es la mejor tarjeta gráfica de cada marca para comprar cierto chipset en relación calidad precio?\n"
   ]
  },
  {
   "cell_type": "code",
   "execution_count": 16,
   "metadata": {},
   "outputs": [
    {
     "name": "stderr",
     "output_type": "stream",
     "text": [
      "/tmp/ipykernel_9999/4103196286.py:6: DeprecationWarning:\n",
      "\n",
      "DataFrameGroupBy.apply operated on the grouping columns. This behavior is deprecated, and in a future version of pandas the grouping columns will be excluded from the operation. Either pass `include_groups=False` to exclude the groupings or explicitly select the grouping columns after groupby to silence this warning.\n",
      "\n"
     ]
    },
    {
     "data": {
      "application/vnd.plotly.v1+json": {
       "config": {
        "plotlyServerURL": "https://plot.ly"
       },
       "data": [
        {
         "alignmentgroup": "True",
         "customdata": [
          [
           674.99,
           1980,
           2655,
           12288
          ]
         ],
         "hovertemplate": "brand=MSI<br>Tarjeta Gráfica=%{x}<br>Puntuación=%{y}<br>price=%{customdata[0]}<br>core_clock=%{customdata[1]}<br>core_boost_clock=%{customdata[2]}<br>memory=%{customdata[3]}<extra></extra>",
         "legendgroup": "MSI",
         "marker": {
          "color": "#636efa",
          "pattern": {
           "shape": ""
          }
         },
         "name": "MSI",
         "offsetgroup": "MSI",
         "orientation": "v",
         "showlegend": true,
         "textposition": "auto",
         "type": "bar",
         "x": [
          "MSI VENTUS 3X OC"
         ],
         "xaxis": "x",
         "y": [
          4.5617653570036865
         ],
         "yaxis": "y"
        },
        {
         "alignmentgroup": "True",
         "customdata": [
          [
           899.95,
           1980,
           2670,
           12288
          ]
         ],
         "hovertemplate": "brand=Asus<br>Tarjeta Gráfica=%{x}<br>Puntuación=%{y}<br>price=%{customdata[0]}<br>core_clock=%{customdata[1]}<br>core_boost_clock=%{customdata[2]}<br>memory=%{customdata[3]}<extra></extra>",
         "legendgroup": "Asus",
         "marker": {
          "color": "#EF553B",
          "pattern": {
           "shape": ""
          }
         },
         "name": "Asus",
         "offsetgroup": "Asus",
         "orientation": "v",
         "showlegend": true,
         "textposition": "auto",
         "type": "bar",
         "x": [
          "Asus TUF GAMING OC"
         ],
         "xaxis": "x",
         "y": [
          4.203582221613269
         ],
         "yaxis": "y"
        },
        {
         "alignmentgroup": "True",
         "customdata": [
          [
           989.91,
           1980,
           2655,
           12288
          ]
         ],
         "hovertemplate": "brand=Gigabyte<br>Tarjeta Gráfica=%{x}<br>Puntuación=%{y}<br>price=%{customdata[0]}<br>core_clock=%{customdata[1]}<br>core_boost_clock=%{customdata[2]}<br>memory=%{customdata[3]}<extra></extra>",
         "legendgroup": "Gigabyte",
         "marker": {
          "color": "#00cc96",
          "pattern": {
           "shape": ""
          }
         },
         "name": "Gigabyte",
         "offsetgroup": "Gigabyte",
         "orientation": "v",
         "showlegend": true,
         "textposition": "auto",
         "type": "bar",
         "x": [
          "Gigabyte WINDFORCE OC"
         ],
         "xaxis": "x",
         "y": [
          1.6847349301489893
         ],
         "yaxis": "y"
        }
       ],
       "layout": {
        "barmode": "relative",
        "height": 600,
        "legend": {
         "title": {
          "text": "brand"
         },
         "tracegroupgap": 0
        },
        "template": {
         "data": {
          "bar": [
           {
            "error_x": {
             "color": "#2a3f5f"
            },
            "error_y": {
             "color": "#2a3f5f"
            },
            "marker": {
             "line": {
              "color": "#E5ECF6",
              "width": 0.5
             },
             "pattern": {
              "fillmode": "overlay",
              "size": 10,
              "solidity": 0.2
             }
            },
            "type": "bar"
           }
          ],
          "barpolar": [
           {
            "marker": {
             "line": {
              "color": "#E5ECF6",
              "width": 0.5
             },
             "pattern": {
              "fillmode": "overlay",
              "size": 10,
              "solidity": 0.2
             }
            },
            "type": "barpolar"
           }
          ],
          "carpet": [
           {
            "aaxis": {
             "endlinecolor": "#2a3f5f",
             "gridcolor": "white",
             "linecolor": "white",
             "minorgridcolor": "white",
             "startlinecolor": "#2a3f5f"
            },
            "baxis": {
             "endlinecolor": "#2a3f5f",
             "gridcolor": "white",
             "linecolor": "white",
             "minorgridcolor": "white",
             "startlinecolor": "#2a3f5f"
            },
            "type": "carpet"
           }
          ],
          "choropleth": [
           {
            "colorbar": {
             "outlinewidth": 0,
             "ticks": ""
            },
            "type": "choropleth"
           }
          ],
          "contour": [
           {
            "colorbar": {
             "outlinewidth": 0,
             "ticks": ""
            },
            "colorscale": [
             [
              0,
              "#0d0887"
             ],
             [
              0.1111111111111111,
              "#46039f"
             ],
             [
              0.2222222222222222,
              "#7201a8"
             ],
             [
              0.3333333333333333,
              "#9c179e"
             ],
             [
              0.4444444444444444,
              "#bd3786"
             ],
             [
              0.5555555555555556,
              "#d8576b"
             ],
             [
              0.6666666666666666,
              "#ed7953"
             ],
             [
              0.7777777777777778,
              "#fb9f3a"
             ],
             [
              0.8888888888888888,
              "#fdca26"
             ],
             [
              1,
              "#f0f921"
             ]
            ],
            "type": "contour"
           }
          ],
          "contourcarpet": [
           {
            "colorbar": {
             "outlinewidth": 0,
             "ticks": ""
            },
            "type": "contourcarpet"
           }
          ],
          "heatmap": [
           {
            "colorbar": {
             "outlinewidth": 0,
             "ticks": ""
            },
            "colorscale": [
             [
              0,
              "#0d0887"
             ],
             [
              0.1111111111111111,
              "#46039f"
             ],
             [
              0.2222222222222222,
              "#7201a8"
             ],
             [
              0.3333333333333333,
              "#9c179e"
             ],
             [
              0.4444444444444444,
              "#bd3786"
             ],
             [
              0.5555555555555556,
              "#d8576b"
             ],
             [
              0.6666666666666666,
              "#ed7953"
             ],
             [
              0.7777777777777778,
              "#fb9f3a"
             ],
             [
              0.8888888888888888,
              "#fdca26"
             ],
             [
              1,
              "#f0f921"
             ]
            ],
            "type": "heatmap"
           }
          ],
          "heatmapgl": [
           {
            "colorbar": {
             "outlinewidth": 0,
             "ticks": ""
            },
            "colorscale": [
             [
              0,
              "#0d0887"
             ],
             [
              0.1111111111111111,
              "#46039f"
             ],
             [
              0.2222222222222222,
              "#7201a8"
             ],
             [
              0.3333333333333333,
              "#9c179e"
             ],
             [
              0.4444444444444444,
              "#bd3786"
             ],
             [
              0.5555555555555556,
              "#d8576b"
             ],
             [
              0.6666666666666666,
              "#ed7953"
             ],
             [
              0.7777777777777778,
              "#fb9f3a"
             ],
             [
              0.8888888888888888,
              "#fdca26"
             ],
             [
              1,
              "#f0f921"
             ]
            ],
            "type": "heatmapgl"
           }
          ],
          "histogram": [
           {
            "marker": {
             "pattern": {
              "fillmode": "overlay",
              "size": 10,
              "solidity": 0.2
             }
            },
            "type": "histogram"
           }
          ],
          "histogram2d": [
           {
            "colorbar": {
             "outlinewidth": 0,
             "ticks": ""
            },
            "colorscale": [
             [
              0,
              "#0d0887"
             ],
             [
              0.1111111111111111,
              "#46039f"
             ],
             [
              0.2222222222222222,
              "#7201a8"
             ],
             [
              0.3333333333333333,
              "#9c179e"
             ],
             [
              0.4444444444444444,
              "#bd3786"
             ],
             [
              0.5555555555555556,
              "#d8576b"
             ],
             [
              0.6666666666666666,
              "#ed7953"
             ],
             [
              0.7777777777777778,
              "#fb9f3a"
             ],
             [
              0.8888888888888888,
              "#fdca26"
             ],
             [
              1,
              "#f0f921"
             ]
            ],
            "type": "histogram2d"
           }
          ],
          "histogram2dcontour": [
           {
            "colorbar": {
             "outlinewidth": 0,
             "ticks": ""
            },
            "colorscale": [
             [
              0,
              "#0d0887"
             ],
             [
              0.1111111111111111,
              "#46039f"
             ],
             [
              0.2222222222222222,
              "#7201a8"
             ],
             [
              0.3333333333333333,
              "#9c179e"
             ],
             [
              0.4444444444444444,
              "#bd3786"
             ],
             [
              0.5555555555555556,
              "#d8576b"
             ],
             [
              0.6666666666666666,
              "#ed7953"
             ],
             [
              0.7777777777777778,
              "#fb9f3a"
             ],
             [
              0.8888888888888888,
              "#fdca26"
             ],
             [
              1,
              "#f0f921"
             ]
            ],
            "type": "histogram2dcontour"
           }
          ],
          "mesh3d": [
           {
            "colorbar": {
             "outlinewidth": 0,
             "ticks": ""
            },
            "type": "mesh3d"
           }
          ],
          "parcoords": [
           {
            "line": {
             "colorbar": {
              "outlinewidth": 0,
              "ticks": ""
             }
            },
            "type": "parcoords"
           }
          ],
          "pie": [
           {
            "automargin": true,
            "type": "pie"
           }
          ],
          "scatter": [
           {
            "fillpattern": {
             "fillmode": "overlay",
             "size": 10,
             "solidity": 0.2
            },
            "type": "scatter"
           }
          ],
          "scatter3d": [
           {
            "line": {
             "colorbar": {
              "outlinewidth": 0,
              "ticks": ""
             }
            },
            "marker": {
             "colorbar": {
              "outlinewidth": 0,
              "ticks": ""
             }
            },
            "type": "scatter3d"
           }
          ],
          "scattercarpet": [
           {
            "marker": {
             "colorbar": {
              "outlinewidth": 0,
              "ticks": ""
             }
            },
            "type": "scattercarpet"
           }
          ],
          "scattergeo": [
           {
            "marker": {
             "colorbar": {
              "outlinewidth": 0,
              "ticks": ""
             }
            },
            "type": "scattergeo"
           }
          ],
          "scattergl": [
           {
            "marker": {
             "colorbar": {
              "outlinewidth": 0,
              "ticks": ""
             }
            },
            "type": "scattergl"
           }
          ],
          "scattermapbox": [
           {
            "marker": {
             "colorbar": {
              "outlinewidth": 0,
              "ticks": ""
             }
            },
            "type": "scattermapbox"
           }
          ],
          "scatterpolar": [
           {
            "marker": {
             "colorbar": {
              "outlinewidth": 0,
              "ticks": ""
             }
            },
            "type": "scatterpolar"
           }
          ],
          "scatterpolargl": [
           {
            "marker": {
             "colorbar": {
              "outlinewidth": 0,
              "ticks": ""
             }
            },
            "type": "scatterpolargl"
           }
          ],
          "scatterternary": [
           {
            "marker": {
             "colorbar": {
              "outlinewidth": 0,
              "ticks": ""
             }
            },
            "type": "scatterternary"
           }
          ],
          "surface": [
           {
            "colorbar": {
             "outlinewidth": 0,
             "ticks": ""
            },
            "colorscale": [
             [
              0,
              "#0d0887"
             ],
             [
              0.1111111111111111,
              "#46039f"
             ],
             [
              0.2222222222222222,
              "#7201a8"
             ],
             [
              0.3333333333333333,
              "#9c179e"
             ],
             [
              0.4444444444444444,
              "#bd3786"
             ],
             [
              0.5555555555555556,
              "#d8576b"
             ],
             [
              0.6666666666666666,
              "#ed7953"
             ],
             [
              0.7777777777777778,
              "#fb9f3a"
             ],
             [
              0.8888888888888888,
              "#fdca26"
             ],
             [
              1,
              "#f0f921"
             ]
            ],
            "type": "surface"
           }
          ],
          "table": [
           {
            "cells": {
             "fill": {
              "color": "#EBF0F8"
             },
             "line": {
              "color": "white"
             }
            },
            "header": {
             "fill": {
              "color": "#C8D4E3"
             },
             "line": {
              "color": "white"
             }
            },
            "type": "table"
           }
          ]
         },
         "layout": {
          "annotationdefaults": {
           "arrowcolor": "#2a3f5f",
           "arrowhead": 0,
           "arrowwidth": 1
          },
          "autotypenumbers": "strict",
          "coloraxis": {
           "colorbar": {
            "outlinewidth": 0,
            "ticks": ""
           }
          },
          "colorscale": {
           "diverging": [
            [
             0,
             "#8e0152"
            ],
            [
             0.1,
             "#c51b7d"
            ],
            [
             0.2,
             "#de77ae"
            ],
            [
             0.3,
             "#f1b6da"
            ],
            [
             0.4,
             "#fde0ef"
            ],
            [
             0.5,
             "#f7f7f7"
            ],
            [
             0.6,
             "#e6f5d0"
            ],
            [
             0.7,
             "#b8e186"
            ],
            [
             0.8,
             "#7fbc41"
            ],
            [
             0.9,
             "#4d9221"
            ],
            [
             1,
             "#276419"
            ]
           ],
           "sequential": [
            [
             0,
             "#0d0887"
            ],
            [
             0.1111111111111111,
             "#46039f"
            ],
            [
             0.2222222222222222,
             "#7201a8"
            ],
            [
             0.3333333333333333,
             "#9c179e"
            ],
            [
             0.4444444444444444,
             "#bd3786"
            ],
            [
             0.5555555555555556,
             "#d8576b"
            ],
            [
             0.6666666666666666,
             "#ed7953"
            ],
            [
             0.7777777777777778,
             "#fb9f3a"
            ],
            [
             0.8888888888888888,
             "#fdca26"
            ],
            [
             1,
             "#f0f921"
            ]
           ],
           "sequentialminus": [
            [
             0,
             "#0d0887"
            ],
            [
             0.1111111111111111,
             "#46039f"
            ],
            [
             0.2222222222222222,
             "#7201a8"
            ],
            [
             0.3333333333333333,
             "#9c179e"
            ],
            [
             0.4444444444444444,
             "#bd3786"
            ],
            [
             0.5555555555555556,
             "#d8576b"
            ],
            [
             0.6666666666666666,
             "#ed7953"
            ],
            [
             0.7777777777777778,
             "#fb9f3a"
            ],
            [
             0.8888888888888888,
             "#fdca26"
            ],
            [
             1,
             "#f0f921"
            ]
           ]
          },
          "colorway": [
           "#636efa",
           "#EF553B",
           "#00cc96",
           "#ab63fa",
           "#FFA15A",
           "#19d3f3",
           "#FF6692",
           "#B6E880",
           "#FF97FF",
           "#FECB52"
          ],
          "font": {
           "color": "#2a3f5f"
          },
          "geo": {
           "bgcolor": "white",
           "lakecolor": "white",
           "landcolor": "#E5ECF6",
           "showlakes": true,
           "showland": true,
           "subunitcolor": "white"
          },
          "hoverlabel": {
           "align": "left"
          },
          "hovermode": "closest",
          "mapbox": {
           "style": "light"
          },
          "paper_bgcolor": "white",
          "plot_bgcolor": "#E5ECF6",
          "polar": {
           "angularaxis": {
            "gridcolor": "white",
            "linecolor": "white",
            "ticks": ""
           },
           "bgcolor": "#E5ECF6",
           "radialaxis": {
            "gridcolor": "white",
            "linecolor": "white",
            "ticks": ""
           }
          },
          "scene": {
           "xaxis": {
            "backgroundcolor": "#E5ECF6",
            "gridcolor": "white",
            "gridwidth": 2,
            "linecolor": "white",
            "showbackground": true,
            "ticks": "",
            "zerolinecolor": "white"
           },
           "yaxis": {
            "backgroundcolor": "#E5ECF6",
            "gridcolor": "white",
            "gridwidth": 2,
            "linecolor": "white",
            "showbackground": true,
            "ticks": "",
            "zerolinecolor": "white"
           },
           "zaxis": {
            "backgroundcolor": "#E5ECF6",
            "gridcolor": "white",
            "gridwidth": 2,
            "linecolor": "white",
            "showbackground": true,
            "ticks": "",
            "zerolinecolor": "white"
           }
          },
          "shapedefaults": {
           "line": {
            "color": "#2a3f5f"
           }
          },
          "ternary": {
           "aaxis": {
            "gridcolor": "white",
            "linecolor": "white",
            "ticks": ""
           },
           "baxis": {
            "gridcolor": "white",
            "linecolor": "white",
            "ticks": ""
           },
           "bgcolor": "#E5ECF6",
           "caxis": {
            "gridcolor": "white",
            "linecolor": "white",
            "ticks": ""
           }
          },
          "title": {
           "x": 0.05
          },
          "xaxis": {
           "automargin": true,
           "gridcolor": "white",
           "linecolor": "white",
           "ticks": "",
           "title": {
            "standoff": 15
           },
           "zerolinecolor": "white",
           "zerolinewidth": 2
          },
          "yaxis": {
           "automargin": true,
           "gridcolor": "white",
           "linecolor": "white",
           "ticks": "",
           "title": {
            "standoff": 15
           },
           "zerolinecolor": "white",
           "zerolinewidth": 2
          }
         }
        },
        "title": {
         "text": "Mejor tarjeta gráfica para el chipset GeForce RTX 4070 SUPER de cada vendedor"
        },
        "width": 800,
        "xaxis": {
         "anchor": "y",
         "domain": [
          0,
          1
         ],
         "title": {
          "text": "Tarjeta Gráfica"
         }
        },
        "yaxis": {
         "anchor": "x",
         "domain": [
          0,
          1
         ],
         "title": {
          "text": "Puntuación"
         }
        }
       }
      }
     },
     "metadata": {},
     "output_type": "display_data"
    }
   ],
   "source": [
    "chipset = \"GeForce RTX 4070 SUPER\"\n",
    "\n",
    "# Get the best graphics card name for each brand for the given chipset\n",
    "df_filtered = df[df[\"chipset\"] == chipset]\n",
    "max_per_brand = df_filtered.groupby(\"brand\") \\\n",
    "    .apply(apply_chipset_punct) \\\n",
    "    .reset_index(drop=True) \\\n",
    "    .groupby(\"brand\") \\\n",
    "    .max() \\\n",
    "    .reset_index() \\\n",
    "    .sort_values(\"punct\", ascending=False)\n",
    "\n",
    "fig = px.bar(\n",
    "    max_per_brand,\n",
    "    x=\"name\",\n",
    "    y=\"punct\",\n",
    "    title=f\"Mejor tarjeta gráfica para el chipset {chipset} de cada vendedor\",\n",
    "    labels={\n",
    "        \"punct\": \"Puntuación\",\n",
    "        \"name\": \"Tarjeta Gráfica\",\n",
    "    },\n",
    "    hover_data=[\"name\", \"price\", \"core_clock\", \"core_boost_clock\", \"memory\"],\n",
    "    color=\"brand\",\n",
    "    width=800,\n",
    "    height=600,\n",
    ")\n",
    "\n",
    "fig.show()"
   ]
  },
  {
   "cell_type": "markdown",
   "metadata": {},
   "source": [
    "## ¿Cuál es la mejor marca para comprar cierto chipset dicho por los usuarios?\n"
   ]
  },
  {
   "cell_type": "code",
   "execution_count": 7,
   "metadata": {},
   "outputs": [
    {
     "data": {
      "application/vnd.plotly.v1+json": {
       "config": {
        "plotlyServerURL": "https://plot.ly"
       },
       "data": [
        {
         "alignmentgroup": "True",
         "customdata": [
          [
           7
          ]
         ],
         "hovertemplate": "Brand=%{x}<br>User Score=%{y}<br>user_ratings_count=%{customdata[0]}<extra></extra>",
         "legendgroup": "Asus",
         "marker": {
          "color": "#636efa",
          "pattern": {
           "shape": ""
          }
         },
         "name": "Asus",
         "offsetgroup": "Asus",
         "orientation": "v",
         "showlegend": true,
         "textposition": "auto",
         "type": "bar",
         "width": 0.5,
         "x": [
          "Asus"
         ],
         "xaxis": "x",
         "y": [
          4.5
         ],
         "yaxis": "y"
        },
        {
         "alignmentgroup": "True",
         "customdata": [
          [
           5.75
          ]
         ],
         "hovertemplate": "Brand=%{x}<br>User Score=%{y}<br>user_ratings_count=%{customdata[0]}<extra></extra>",
         "legendgroup": "Gigabyte",
         "marker": {
          "color": "#EF553B",
          "pattern": {
           "shape": ""
          }
         },
         "name": "Gigabyte",
         "offsetgroup": "Gigabyte",
         "orientation": "v",
         "showlegend": true,
         "textposition": "auto",
         "type": "bar",
         "width": 0.5,
         "x": [
          "Gigabyte"
         ],
         "xaxis": "x",
         "y": [
          4.5
         ],
         "yaxis": "y"
        },
        {
         "alignmentgroup": "True",
         "customdata": [
          [
           3.6666666666666665
          ]
         ],
         "hovertemplate": "Brand=%{x}<br>User Score=%{y}<br>user_ratings_count=%{customdata[0]}<extra></extra>",
         "legendgroup": "MSI",
         "marker": {
          "color": "#00cc96",
          "pattern": {
           "shape": ""
          }
         },
         "name": "MSI",
         "offsetgroup": "MSI",
         "orientation": "v",
         "showlegend": true,
         "textposition": "auto",
         "type": "bar",
         "width": 0.5,
         "x": [
          "MSI"
         ],
         "xaxis": "x",
         "y": [
          4.333333333333333
         ],
         "yaxis": "y"
        }
       ],
       "layout": {
        "barmode": "relative",
        "height": 600,
        "legend": {
         "title": {
          "text": "Brand"
         },
         "tracegroupgap": 0
        },
        "template": {
         "data": {
          "bar": [
           {
            "error_x": {
             "color": "#2a3f5f"
            },
            "error_y": {
             "color": "#2a3f5f"
            },
            "marker": {
             "line": {
              "color": "#E5ECF6",
              "width": 0.5
             },
             "pattern": {
              "fillmode": "overlay",
              "size": 10,
              "solidity": 0.2
             }
            },
            "type": "bar"
           }
          ],
          "barpolar": [
           {
            "marker": {
             "line": {
              "color": "#E5ECF6",
              "width": 0.5
             },
             "pattern": {
              "fillmode": "overlay",
              "size": 10,
              "solidity": 0.2
             }
            },
            "type": "barpolar"
           }
          ],
          "carpet": [
           {
            "aaxis": {
             "endlinecolor": "#2a3f5f",
             "gridcolor": "white",
             "linecolor": "white",
             "minorgridcolor": "white",
             "startlinecolor": "#2a3f5f"
            },
            "baxis": {
             "endlinecolor": "#2a3f5f",
             "gridcolor": "white",
             "linecolor": "white",
             "minorgridcolor": "white",
             "startlinecolor": "#2a3f5f"
            },
            "type": "carpet"
           }
          ],
          "choropleth": [
           {
            "colorbar": {
             "outlinewidth": 0,
             "ticks": ""
            },
            "type": "choropleth"
           }
          ],
          "contour": [
           {
            "colorbar": {
             "outlinewidth": 0,
             "ticks": ""
            },
            "colorscale": [
             [
              0,
              "#0d0887"
             ],
             [
              0.1111111111111111,
              "#46039f"
             ],
             [
              0.2222222222222222,
              "#7201a8"
             ],
             [
              0.3333333333333333,
              "#9c179e"
             ],
             [
              0.4444444444444444,
              "#bd3786"
             ],
             [
              0.5555555555555556,
              "#d8576b"
             ],
             [
              0.6666666666666666,
              "#ed7953"
             ],
             [
              0.7777777777777778,
              "#fb9f3a"
             ],
             [
              0.8888888888888888,
              "#fdca26"
             ],
             [
              1,
              "#f0f921"
             ]
            ],
            "type": "contour"
           }
          ],
          "contourcarpet": [
           {
            "colorbar": {
             "outlinewidth": 0,
             "ticks": ""
            },
            "type": "contourcarpet"
           }
          ],
          "heatmap": [
           {
            "colorbar": {
             "outlinewidth": 0,
             "ticks": ""
            },
            "colorscale": [
             [
              0,
              "#0d0887"
             ],
             [
              0.1111111111111111,
              "#46039f"
             ],
             [
              0.2222222222222222,
              "#7201a8"
             ],
             [
              0.3333333333333333,
              "#9c179e"
             ],
             [
              0.4444444444444444,
              "#bd3786"
             ],
             [
              0.5555555555555556,
              "#d8576b"
             ],
             [
              0.6666666666666666,
              "#ed7953"
             ],
             [
              0.7777777777777778,
              "#fb9f3a"
             ],
             [
              0.8888888888888888,
              "#fdca26"
             ],
             [
              1,
              "#f0f921"
             ]
            ],
            "type": "heatmap"
           }
          ],
          "heatmapgl": [
           {
            "colorbar": {
             "outlinewidth": 0,
             "ticks": ""
            },
            "colorscale": [
             [
              0,
              "#0d0887"
             ],
             [
              0.1111111111111111,
              "#46039f"
             ],
             [
              0.2222222222222222,
              "#7201a8"
             ],
             [
              0.3333333333333333,
              "#9c179e"
             ],
             [
              0.4444444444444444,
              "#bd3786"
             ],
             [
              0.5555555555555556,
              "#d8576b"
             ],
             [
              0.6666666666666666,
              "#ed7953"
             ],
             [
              0.7777777777777778,
              "#fb9f3a"
             ],
             [
              0.8888888888888888,
              "#fdca26"
             ],
             [
              1,
              "#f0f921"
             ]
            ],
            "type": "heatmapgl"
           }
          ],
          "histogram": [
           {
            "marker": {
             "pattern": {
              "fillmode": "overlay",
              "size": 10,
              "solidity": 0.2
             }
            },
            "type": "histogram"
           }
          ],
          "histogram2d": [
           {
            "colorbar": {
             "outlinewidth": 0,
             "ticks": ""
            },
            "colorscale": [
             [
              0,
              "#0d0887"
             ],
             [
              0.1111111111111111,
              "#46039f"
             ],
             [
              0.2222222222222222,
              "#7201a8"
             ],
             [
              0.3333333333333333,
              "#9c179e"
             ],
             [
              0.4444444444444444,
              "#bd3786"
             ],
             [
              0.5555555555555556,
              "#d8576b"
             ],
             [
              0.6666666666666666,
              "#ed7953"
             ],
             [
              0.7777777777777778,
              "#fb9f3a"
             ],
             [
              0.8888888888888888,
              "#fdca26"
             ],
             [
              1,
              "#f0f921"
             ]
            ],
            "type": "histogram2d"
           }
          ],
          "histogram2dcontour": [
           {
            "colorbar": {
             "outlinewidth": 0,
             "ticks": ""
            },
            "colorscale": [
             [
              0,
              "#0d0887"
             ],
             [
              0.1111111111111111,
              "#46039f"
             ],
             [
              0.2222222222222222,
              "#7201a8"
             ],
             [
              0.3333333333333333,
              "#9c179e"
             ],
             [
              0.4444444444444444,
              "#bd3786"
             ],
             [
              0.5555555555555556,
              "#d8576b"
             ],
             [
              0.6666666666666666,
              "#ed7953"
             ],
             [
              0.7777777777777778,
              "#fb9f3a"
             ],
             [
              0.8888888888888888,
              "#fdca26"
             ],
             [
              1,
              "#f0f921"
             ]
            ],
            "type": "histogram2dcontour"
           }
          ],
          "mesh3d": [
           {
            "colorbar": {
             "outlinewidth": 0,
             "ticks": ""
            },
            "type": "mesh3d"
           }
          ],
          "parcoords": [
           {
            "line": {
             "colorbar": {
              "outlinewidth": 0,
              "ticks": ""
             }
            },
            "type": "parcoords"
           }
          ],
          "pie": [
           {
            "automargin": true,
            "type": "pie"
           }
          ],
          "scatter": [
           {
            "fillpattern": {
             "fillmode": "overlay",
             "size": 10,
             "solidity": 0.2
            },
            "type": "scatter"
           }
          ],
          "scatter3d": [
           {
            "line": {
             "colorbar": {
              "outlinewidth": 0,
              "ticks": ""
             }
            },
            "marker": {
             "colorbar": {
              "outlinewidth": 0,
              "ticks": ""
             }
            },
            "type": "scatter3d"
           }
          ],
          "scattercarpet": [
           {
            "marker": {
             "colorbar": {
              "outlinewidth": 0,
              "ticks": ""
             }
            },
            "type": "scattercarpet"
           }
          ],
          "scattergeo": [
           {
            "marker": {
             "colorbar": {
              "outlinewidth": 0,
              "ticks": ""
             }
            },
            "type": "scattergeo"
           }
          ],
          "scattergl": [
           {
            "marker": {
             "colorbar": {
              "outlinewidth": 0,
              "ticks": ""
             }
            },
            "type": "scattergl"
           }
          ],
          "scattermapbox": [
           {
            "marker": {
             "colorbar": {
              "outlinewidth": 0,
              "ticks": ""
             }
            },
            "type": "scattermapbox"
           }
          ],
          "scatterpolar": [
           {
            "marker": {
             "colorbar": {
              "outlinewidth": 0,
              "ticks": ""
             }
            },
            "type": "scatterpolar"
           }
          ],
          "scatterpolargl": [
           {
            "marker": {
             "colorbar": {
              "outlinewidth": 0,
              "ticks": ""
             }
            },
            "type": "scatterpolargl"
           }
          ],
          "scatterternary": [
           {
            "marker": {
             "colorbar": {
              "outlinewidth": 0,
              "ticks": ""
             }
            },
            "type": "scatterternary"
           }
          ],
          "surface": [
           {
            "colorbar": {
             "outlinewidth": 0,
             "ticks": ""
            },
            "colorscale": [
             [
              0,
              "#0d0887"
             ],
             [
              0.1111111111111111,
              "#46039f"
             ],
             [
              0.2222222222222222,
              "#7201a8"
             ],
             [
              0.3333333333333333,
              "#9c179e"
             ],
             [
              0.4444444444444444,
              "#bd3786"
             ],
             [
              0.5555555555555556,
              "#d8576b"
             ],
             [
              0.6666666666666666,
              "#ed7953"
             ],
             [
              0.7777777777777778,
              "#fb9f3a"
             ],
             [
              0.8888888888888888,
              "#fdca26"
             ],
             [
              1,
              "#f0f921"
             ]
            ],
            "type": "surface"
           }
          ],
          "table": [
           {
            "cells": {
             "fill": {
              "color": "#EBF0F8"
             },
             "line": {
              "color": "white"
             }
            },
            "header": {
             "fill": {
              "color": "#C8D4E3"
             },
             "line": {
              "color": "white"
             }
            },
            "type": "table"
           }
          ]
         },
         "layout": {
          "annotationdefaults": {
           "arrowcolor": "#2a3f5f",
           "arrowhead": 0,
           "arrowwidth": 1
          },
          "autotypenumbers": "strict",
          "coloraxis": {
           "colorbar": {
            "outlinewidth": 0,
            "ticks": ""
           }
          },
          "colorscale": {
           "diverging": [
            [
             0,
             "#8e0152"
            ],
            [
             0.1,
             "#c51b7d"
            ],
            [
             0.2,
             "#de77ae"
            ],
            [
             0.3,
             "#f1b6da"
            ],
            [
             0.4,
             "#fde0ef"
            ],
            [
             0.5,
             "#f7f7f7"
            ],
            [
             0.6,
             "#e6f5d0"
            ],
            [
             0.7,
             "#b8e186"
            ],
            [
             0.8,
             "#7fbc41"
            ],
            [
             0.9,
             "#4d9221"
            ],
            [
             1,
             "#276419"
            ]
           ],
           "sequential": [
            [
             0,
             "#0d0887"
            ],
            [
             0.1111111111111111,
             "#46039f"
            ],
            [
             0.2222222222222222,
             "#7201a8"
            ],
            [
             0.3333333333333333,
             "#9c179e"
            ],
            [
             0.4444444444444444,
             "#bd3786"
            ],
            [
             0.5555555555555556,
             "#d8576b"
            ],
            [
             0.6666666666666666,
             "#ed7953"
            ],
            [
             0.7777777777777778,
             "#fb9f3a"
            ],
            [
             0.8888888888888888,
             "#fdca26"
            ],
            [
             1,
             "#f0f921"
            ]
           ],
           "sequentialminus": [
            [
             0,
             "#0d0887"
            ],
            [
             0.1111111111111111,
             "#46039f"
            ],
            [
             0.2222222222222222,
             "#7201a8"
            ],
            [
             0.3333333333333333,
             "#9c179e"
            ],
            [
             0.4444444444444444,
             "#bd3786"
            ],
            [
             0.5555555555555556,
             "#d8576b"
            ],
            [
             0.6666666666666666,
             "#ed7953"
            ],
            [
             0.7777777777777778,
             "#fb9f3a"
            ],
            [
             0.8888888888888888,
             "#fdca26"
            ],
            [
             1,
             "#f0f921"
            ]
           ]
          },
          "colorway": [
           "#636efa",
           "#EF553B",
           "#00cc96",
           "#ab63fa",
           "#FFA15A",
           "#19d3f3",
           "#FF6692",
           "#B6E880",
           "#FF97FF",
           "#FECB52"
          ],
          "font": {
           "color": "#2a3f5f"
          },
          "geo": {
           "bgcolor": "white",
           "lakecolor": "white",
           "landcolor": "#E5ECF6",
           "showlakes": true,
           "showland": true,
           "subunitcolor": "white"
          },
          "hoverlabel": {
           "align": "left"
          },
          "hovermode": "closest",
          "mapbox": {
           "style": "light"
          },
          "paper_bgcolor": "white",
          "plot_bgcolor": "#E5ECF6",
          "polar": {
           "angularaxis": {
            "gridcolor": "white",
            "linecolor": "white",
            "ticks": ""
           },
           "bgcolor": "#E5ECF6",
           "radialaxis": {
            "gridcolor": "white",
            "linecolor": "white",
            "ticks": ""
           }
          },
          "scene": {
           "xaxis": {
            "backgroundcolor": "#E5ECF6",
            "gridcolor": "white",
            "gridwidth": 2,
            "linecolor": "white",
            "showbackground": true,
            "ticks": "",
            "zerolinecolor": "white"
           },
           "yaxis": {
            "backgroundcolor": "#E5ECF6",
            "gridcolor": "white",
            "gridwidth": 2,
            "linecolor": "white",
            "showbackground": true,
            "ticks": "",
            "zerolinecolor": "white"
           },
           "zaxis": {
            "backgroundcolor": "#E5ECF6",
            "gridcolor": "white",
            "gridwidth": 2,
            "linecolor": "white",
            "showbackground": true,
            "ticks": "",
            "zerolinecolor": "white"
           }
          },
          "shapedefaults": {
           "line": {
            "color": "#2a3f5f"
           }
          },
          "ternary": {
           "aaxis": {
            "gridcolor": "white",
            "linecolor": "white",
            "ticks": ""
           },
           "baxis": {
            "gridcolor": "white",
            "linecolor": "white",
            "ticks": ""
           },
           "bgcolor": "#E5ECF6",
           "caxis": {
            "gridcolor": "white",
            "linecolor": "white",
            "ticks": ""
           }
          },
          "title": {
           "x": 0.05
          },
          "xaxis": {
           "automargin": true,
           "gridcolor": "white",
           "linecolor": "white",
           "ticks": "",
           "title": {
            "standoff": 15
           },
           "zerolinecolor": "white",
           "zerolinewidth": 2
          },
          "yaxis": {
           "automargin": true,
           "gridcolor": "white",
           "linecolor": "white",
           "ticks": "",
           "title": {
            "standoff": 15
           },
           "zerolinecolor": "white",
           "zerolinewidth": 2
          }
         }
        },
        "title": {
         "text": "Media de puntuación de usuario de GeForce RTX 4070 SUPER"
        },
        "width": 800,
        "xaxis": {
         "anchor": "y",
         "categoryarray": [
          "Asus",
          "Gigabyte",
          "MSI"
         ],
         "categoryorder": "array",
         "domain": [
          0,
          1
         ],
         "title": {
          "text": "Brand"
         }
        },
        "yaxis": {
         "anchor": "x",
         "domain": [
          0,
          1
         ],
         "title": {
          "text": "User Score"
         }
        }
       }
      }
     },
     "metadata": {},
     "output_type": "display_data"
    }
   ],
   "source": [
    "chipset_filtered = df[df[\"chipset\"] == chipset][[\"user_score\", \"user_ratings_count\", \"brand\"]].dropna()\n",
    "chipset_filtered = chipset_filtered[chipset_filtered[\"user_ratings_count\"] > 2].reset_index(drop=True)\n",
    "\n",
    "grouped = chipset_filtered.groupby(\"brand\").mean().sort_values(\"user_score\", ascending=False).reset_index()\n",
    "\n",
    "fig = px.bar(\n",
    "    grouped,\n",
    "    x=\"brand\",\n",
    "    y=\"user_score\",\n",
    "    title=f\"Media de puntuación de usuario de {chipset}\",\n",
    "    labels={\"user_score\": \"User Score\", \"brand\": \"Brand\"},\n",
    "    width=800,\n",
    "    height=600,\n",
    "    color=\"brand\",\n",
    "    hover_data=[\"user_ratings_count\"]\n",
    ")\n",
    "fig.update_traces(width=0.5)\n",
    "fig.show()"
   ]
  },
  {
   "cell_type": "markdown",
   "metadata": {},
   "source": [
    "## Finalmente, ¿dado cierto presupuesto, cuál es la mejor tarjeta gráfica que puedo comprar?\n"
   ]
  },
  {
   "cell_type": "code",
   "execution_count": 8,
   "metadata": {},
   "outputs": [
    {
     "data": {
      "application/vnd.plotly.v1+json": {
       "config": {
        "plotlyServerURL": "https://plot.ly"
       },
       "data": [
        {
         "alignmentgroup": "True",
         "customdata": [
          [
           927,
           2340,
           2700,
           16384
          ],
          [
           999.99,
           2210,
           2580,
           16384
          ]
         ],
         "hovertemplate": "brand=Asus<br>Name - Chipset=%{x}<br>Puntuación=%{y}<br>price=%{customdata[0]}<br>core_clock=%{customdata[1]}<br>core_boost_clock=%{customdata[2]}<br>memory=%{customdata[3]}<extra></extra>",
         "legendgroup": "Asus",
         "marker": {
          "color": "#636efa",
          "pattern": {
           "shape": ""
          }
         },
         "name": "Asus",
         "offsetgroup": "Asus",
         "orientation": "v",
         "showlegend": true,
         "textposition": "auto",
         "type": "bar",
         "width": 0.2,
         "x": [
          "Asus ROG STRIX GAMING OC - GeForce RTX 4070 Ti SUPER",
          "Asus TUF GAMING - GeForce RTX 4080 SUPER"
         ],
         "xaxis": "x",
         "y": [
          2.3839777969019345,
          2.1868937507281263
         ],
         "yaxis": "y"
        },
        {
         "alignmentgroup": "True",
         "customdata": [
          [
           974.99,
           2310,
           2790,
           12288
          ]
         ],
         "hovertemplate": "brand=MSI<br>Name - Chipset=%{x}<br>Puntuación=%{y}<br>price=%{customdata[0]}<br>core_clock=%{customdata[1]}<br>core_boost_clock=%{customdata[2]}<br>memory=%{customdata[3]}<extra></extra>",
         "legendgroup": "MSI",
         "marker": {
          "color": "#EF553B",
          "pattern": {
           "shape": ""
          }
         },
         "name": "MSI",
         "offsetgroup": "MSI",
         "orientation": "v",
         "showlegend": true,
         "textposition": "auto",
         "type": "bar",
         "width": 0.2,
         "x": [
          "MSI SUPRIM X - GeForce RTX 4070 Ti"
         ],
         "xaxis": "x",
         "y": [
          2.0055833008570745
         ],
         "yaxis": "y"
        }
       ],
       "layout": {
        "barmode": "relative",
        "legend": {
         "title": {
          "text": "brand"
         },
         "tracegroupgap": 0
        },
        "template": {
         "data": {
          "bar": [
           {
            "error_x": {
             "color": "#2a3f5f"
            },
            "error_y": {
             "color": "#2a3f5f"
            },
            "marker": {
             "line": {
              "color": "#E5ECF6",
              "width": 0.5
             },
             "pattern": {
              "fillmode": "overlay",
              "size": 10,
              "solidity": 0.2
             }
            },
            "type": "bar"
           }
          ],
          "barpolar": [
           {
            "marker": {
             "line": {
              "color": "#E5ECF6",
              "width": 0.5
             },
             "pattern": {
              "fillmode": "overlay",
              "size": 10,
              "solidity": 0.2
             }
            },
            "type": "barpolar"
           }
          ],
          "carpet": [
           {
            "aaxis": {
             "endlinecolor": "#2a3f5f",
             "gridcolor": "white",
             "linecolor": "white",
             "minorgridcolor": "white",
             "startlinecolor": "#2a3f5f"
            },
            "baxis": {
             "endlinecolor": "#2a3f5f",
             "gridcolor": "white",
             "linecolor": "white",
             "minorgridcolor": "white",
             "startlinecolor": "#2a3f5f"
            },
            "type": "carpet"
           }
          ],
          "choropleth": [
           {
            "colorbar": {
             "outlinewidth": 0,
             "ticks": ""
            },
            "type": "choropleth"
           }
          ],
          "contour": [
           {
            "colorbar": {
             "outlinewidth": 0,
             "ticks": ""
            },
            "colorscale": [
             [
              0,
              "#0d0887"
             ],
             [
              0.1111111111111111,
              "#46039f"
             ],
             [
              0.2222222222222222,
              "#7201a8"
             ],
             [
              0.3333333333333333,
              "#9c179e"
             ],
             [
              0.4444444444444444,
              "#bd3786"
             ],
             [
              0.5555555555555556,
              "#d8576b"
             ],
             [
              0.6666666666666666,
              "#ed7953"
             ],
             [
              0.7777777777777778,
              "#fb9f3a"
             ],
             [
              0.8888888888888888,
              "#fdca26"
             ],
             [
              1,
              "#f0f921"
             ]
            ],
            "type": "contour"
           }
          ],
          "contourcarpet": [
           {
            "colorbar": {
             "outlinewidth": 0,
             "ticks": ""
            },
            "type": "contourcarpet"
           }
          ],
          "heatmap": [
           {
            "colorbar": {
             "outlinewidth": 0,
             "ticks": ""
            },
            "colorscale": [
             [
              0,
              "#0d0887"
             ],
             [
              0.1111111111111111,
              "#46039f"
             ],
             [
              0.2222222222222222,
              "#7201a8"
             ],
             [
              0.3333333333333333,
              "#9c179e"
             ],
             [
              0.4444444444444444,
              "#bd3786"
             ],
             [
              0.5555555555555556,
              "#d8576b"
             ],
             [
              0.6666666666666666,
              "#ed7953"
             ],
             [
              0.7777777777777778,
              "#fb9f3a"
             ],
             [
              0.8888888888888888,
              "#fdca26"
             ],
             [
              1,
              "#f0f921"
             ]
            ],
            "type": "heatmap"
           }
          ],
          "heatmapgl": [
           {
            "colorbar": {
             "outlinewidth": 0,
             "ticks": ""
            },
            "colorscale": [
             [
              0,
              "#0d0887"
             ],
             [
              0.1111111111111111,
              "#46039f"
             ],
             [
              0.2222222222222222,
              "#7201a8"
             ],
             [
              0.3333333333333333,
              "#9c179e"
             ],
             [
              0.4444444444444444,
              "#bd3786"
             ],
             [
              0.5555555555555556,
              "#d8576b"
             ],
             [
              0.6666666666666666,
              "#ed7953"
             ],
             [
              0.7777777777777778,
              "#fb9f3a"
             ],
             [
              0.8888888888888888,
              "#fdca26"
             ],
             [
              1,
              "#f0f921"
             ]
            ],
            "type": "heatmapgl"
           }
          ],
          "histogram": [
           {
            "marker": {
             "pattern": {
              "fillmode": "overlay",
              "size": 10,
              "solidity": 0.2
             }
            },
            "type": "histogram"
           }
          ],
          "histogram2d": [
           {
            "colorbar": {
             "outlinewidth": 0,
             "ticks": ""
            },
            "colorscale": [
             [
              0,
              "#0d0887"
             ],
             [
              0.1111111111111111,
              "#46039f"
             ],
             [
              0.2222222222222222,
              "#7201a8"
             ],
             [
              0.3333333333333333,
              "#9c179e"
             ],
             [
              0.4444444444444444,
              "#bd3786"
             ],
             [
              0.5555555555555556,
              "#d8576b"
             ],
             [
              0.6666666666666666,
              "#ed7953"
             ],
             [
              0.7777777777777778,
              "#fb9f3a"
             ],
             [
              0.8888888888888888,
              "#fdca26"
             ],
             [
              1,
              "#f0f921"
             ]
            ],
            "type": "histogram2d"
           }
          ],
          "histogram2dcontour": [
           {
            "colorbar": {
             "outlinewidth": 0,
             "ticks": ""
            },
            "colorscale": [
             [
              0,
              "#0d0887"
             ],
             [
              0.1111111111111111,
              "#46039f"
             ],
             [
              0.2222222222222222,
              "#7201a8"
             ],
             [
              0.3333333333333333,
              "#9c179e"
             ],
             [
              0.4444444444444444,
              "#bd3786"
             ],
             [
              0.5555555555555556,
              "#d8576b"
             ],
             [
              0.6666666666666666,
              "#ed7953"
             ],
             [
              0.7777777777777778,
              "#fb9f3a"
             ],
             [
              0.8888888888888888,
              "#fdca26"
             ],
             [
              1,
              "#f0f921"
             ]
            ],
            "type": "histogram2dcontour"
           }
          ],
          "mesh3d": [
           {
            "colorbar": {
             "outlinewidth": 0,
             "ticks": ""
            },
            "type": "mesh3d"
           }
          ],
          "parcoords": [
           {
            "line": {
             "colorbar": {
              "outlinewidth": 0,
              "ticks": ""
             }
            },
            "type": "parcoords"
           }
          ],
          "pie": [
           {
            "automargin": true,
            "type": "pie"
           }
          ],
          "scatter": [
           {
            "fillpattern": {
             "fillmode": "overlay",
             "size": 10,
             "solidity": 0.2
            },
            "type": "scatter"
           }
          ],
          "scatter3d": [
           {
            "line": {
             "colorbar": {
              "outlinewidth": 0,
              "ticks": ""
             }
            },
            "marker": {
             "colorbar": {
              "outlinewidth": 0,
              "ticks": ""
             }
            },
            "type": "scatter3d"
           }
          ],
          "scattercarpet": [
           {
            "marker": {
             "colorbar": {
              "outlinewidth": 0,
              "ticks": ""
             }
            },
            "type": "scattercarpet"
           }
          ],
          "scattergeo": [
           {
            "marker": {
             "colorbar": {
              "outlinewidth": 0,
              "ticks": ""
             }
            },
            "type": "scattergeo"
           }
          ],
          "scattergl": [
           {
            "marker": {
             "colorbar": {
              "outlinewidth": 0,
              "ticks": ""
             }
            },
            "type": "scattergl"
           }
          ],
          "scattermapbox": [
           {
            "marker": {
             "colorbar": {
              "outlinewidth": 0,
              "ticks": ""
             }
            },
            "type": "scattermapbox"
           }
          ],
          "scatterpolar": [
           {
            "marker": {
             "colorbar": {
              "outlinewidth": 0,
              "ticks": ""
             }
            },
            "type": "scatterpolar"
           }
          ],
          "scatterpolargl": [
           {
            "marker": {
             "colorbar": {
              "outlinewidth": 0,
              "ticks": ""
             }
            },
            "type": "scatterpolargl"
           }
          ],
          "scatterternary": [
           {
            "marker": {
             "colorbar": {
              "outlinewidth": 0,
              "ticks": ""
             }
            },
            "type": "scatterternary"
           }
          ],
          "surface": [
           {
            "colorbar": {
             "outlinewidth": 0,
             "ticks": ""
            },
            "colorscale": [
             [
              0,
              "#0d0887"
             ],
             [
              0.1111111111111111,
              "#46039f"
             ],
             [
              0.2222222222222222,
              "#7201a8"
             ],
             [
              0.3333333333333333,
              "#9c179e"
             ],
             [
              0.4444444444444444,
              "#bd3786"
             ],
             [
              0.5555555555555556,
              "#d8576b"
             ],
             [
              0.6666666666666666,
              "#ed7953"
             ],
             [
              0.7777777777777778,
              "#fb9f3a"
             ],
             [
              0.8888888888888888,
              "#fdca26"
             ],
             [
              1,
              "#f0f921"
             ]
            ],
            "type": "surface"
           }
          ],
          "table": [
           {
            "cells": {
             "fill": {
              "color": "#EBF0F8"
             },
             "line": {
              "color": "white"
             }
            },
            "header": {
             "fill": {
              "color": "#C8D4E3"
             },
             "line": {
              "color": "white"
             }
            },
            "type": "table"
           }
          ]
         },
         "layout": {
          "annotationdefaults": {
           "arrowcolor": "#2a3f5f",
           "arrowhead": 0,
           "arrowwidth": 1
          },
          "autotypenumbers": "strict",
          "coloraxis": {
           "colorbar": {
            "outlinewidth": 0,
            "ticks": ""
           }
          },
          "colorscale": {
           "diverging": [
            [
             0,
             "#8e0152"
            ],
            [
             0.1,
             "#c51b7d"
            ],
            [
             0.2,
             "#de77ae"
            ],
            [
             0.3,
             "#f1b6da"
            ],
            [
             0.4,
             "#fde0ef"
            ],
            [
             0.5,
             "#f7f7f7"
            ],
            [
             0.6,
             "#e6f5d0"
            ],
            [
             0.7,
             "#b8e186"
            ],
            [
             0.8,
             "#7fbc41"
            ],
            [
             0.9,
             "#4d9221"
            ],
            [
             1,
             "#276419"
            ]
           ],
           "sequential": [
            [
             0,
             "#0d0887"
            ],
            [
             0.1111111111111111,
             "#46039f"
            ],
            [
             0.2222222222222222,
             "#7201a8"
            ],
            [
             0.3333333333333333,
             "#9c179e"
            ],
            [
             0.4444444444444444,
             "#bd3786"
            ],
            [
             0.5555555555555556,
             "#d8576b"
            ],
            [
             0.6666666666666666,
             "#ed7953"
            ],
            [
             0.7777777777777778,
             "#fb9f3a"
            ],
            [
             0.8888888888888888,
             "#fdca26"
            ],
            [
             1,
             "#f0f921"
            ]
           ],
           "sequentialminus": [
            [
             0,
             "#0d0887"
            ],
            [
             0.1111111111111111,
             "#46039f"
            ],
            [
             0.2222222222222222,
             "#7201a8"
            ],
            [
             0.3333333333333333,
             "#9c179e"
            ],
            [
             0.4444444444444444,
             "#bd3786"
            ],
            [
             0.5555555555555556,
             "#d8576b"
            ],
            [
             0.6666666666666666,
             "#ed7953"
            ],
            [
             0.7777777777777778,
             "#fb9f3a"
            ],
            [
             0.8888888888888888,
             "#fdca26"
            ],
            [
             1,
             "#f0f921"
            ]
           ]
          },
          "colorway": [
           "#636efa",
           "#EF553B",
           "#00cc96",
           "#ab63fa",
           "#FFA15A",
           "#19d3f3",
           "#FF6692",
           "#B6E880",
           "#FF97FF",
           "#FECB52"
          ],
          "font": {
           "color": "#2a3f5f"
          },
          "geo": {
           "bgcolor": "white",
           "lakecolor": "white",
           "landcolor": "#E5ECF6",
           "showlakes": true,
           "showland": true,
           "subunitcolor": "white"
          },
          "hoverlabel": {
           "align": "left"
          },
          "hovermode": "closest",
          "mapbox": {
           "style": "light"
          },
          "paper_bgcolor": "white",
          "plot_bgcolor": "#E5ECF6",
          "polar": {
           "angularaxis": {
            "gridcolor": "white",
            "linecolor": "white",
            "ticks": ""
           },
           "bgcolor": "#E5ECF6",
           "radialaxis": {
            "gridcolor": "white",
            "linecolor": "white",
            "ticks": ""
           }
          },
          "scene": {
           "xaxis": {
            "backgroundcolor": "#E5ECF6",
            "gridcolor": "white",
            "gridwidth": 2,
            "linecolor": "white",
            "showbackground": true,
            "ticks": "",
            "zerolinecolor": "white"
           },
           "yaxis": {
            "backgroundcolor": "#E5ECF6",
            "gridcolor": "white",
            "gridwidth": 2,
            "linecolor": "white",
            "showbackground": true,
            "ticks": "",
            "zerolinecolor": "white"
           },
           "zaxis": {
            "backgroundcolor": "#E5ECF6",
            "gridcolor": "white",
            "gridwidth": 2,
            "linecolor": "white",
            "showbackground": true,
            "ticks": "",
            "zerolinecolor": "white"
           }
          },
          "shapedefaults": {
           "line": {
            "color": "#2a3f5f"
           }
          },
          "ternary": {
           "aaxis": {
            "gridcolor": "white",
            "linecolor": "white",
            "ticks": ""
           },
           "baxis": {
            "gridcolor": "white",
            "linecolor": "white",
            "ticks": ""
           },
           "bgcolor": "#E5ECF6",
           "caxis": {
            "gridcolor": "white",
            "linecolor": "white",
            "ticks": ""
           }
          },
          "title": {
           "x": 0.05
          },
          "xaxis": {
           "automargin": true,
           "gridcolor": "white",
           "linecolor": "white",
           "ticks": "",
           "title": {
            "standoff": 15
           },
           "zerolinecolor": "white",
           "zerolinewidth": 2
          },
          "yaxis": {
           "automargin": true,
           "gridcolor": "white",
           "linecolor": "white",
           "ticks": "",
           "title": {
            "standoff": 15
           },
           "zerolinecolor": "white",
           "zerolinewidth": 2
          }
         }
        },
        "title": {
         "text": "Mejores tarjetas gráficas por debajo de $1000"
        },
        "xaxis": {
         "anchor": "y",
         "domain": [
          0,
          1
         ],
         "title": {
          "text": "Name - Chipset"
         }
        },
        "yaxis": {
         "anchor": "x",
         "domain": [
          0,
          1
         ],
         "title": {
          "text": "Puntuación"
         }
        }
       }
      }
     },
     "metadata": {},
     "output_type": "display_data"
    }
   ],
   "source": [
    "budget = 1000\n",
    "\n",
    "chipset_filtered = df[df[\"price\"] <= budget].drop(columns=[\"user_score\", \"user_ratings_count\"]).dropna()\n",
    "max_chipsets = chipset_filtered.groupby(\"chipset\")[\"core_boost_clock\"].max().reset_index()\n",
    "max_chipsets = pd.merge(max_chipsets, chipset_filtered, on=[\"chipset\", \"core_boost_clock\"]).drop_duplicates().reset_index(drop=True)\n",
    "\n",
    "max_chipsets[\"punct\"] = graphics_card_punct(max_chipsets)\n",
    "max_chipsets = max_chipsets.sort_values(\"punct\", ascending=False).iloc[:3]\n",
    "\n",
    "fig = px.bar(\n",
    "    max_chipsets,\n",
    "    x=max_chipsets.apply(lambda row: f\"{row['name']} - {row['chipset']}\", axis=1),\n",
    "    y=\"punct\",\n",
    "    title=f\"Mejores tarjetas gráficas por debajo de ${budget}\",\n",
    "    labels={\"punct\": \"Puntuación\", \"x\": \"Name - Chipset\"},\n",
    "    hover_data=[\"price\", \"core_clock\", \"core_boost_clock\", \"memory\"],\n",
    "    color=\"brand\",\n",
    ")\n",
    "fig.update_traces(width=0.2)\n",
    "fig.show()"
   ]
  }
 ],
 "metadata": {
  "kernelspec": {
   "display_name": "venv",
   "language": "python",
   "name": "python3"
  },
  "language_info": {
   "codemirror_mode": {
    "name": "ipython",
    "version": 3
   },
   "file_extension": ".py",
   "mimetype": "text/x-python",
   "name": "python",
   "nbconvert_exporter": "python",
   "pygments_lexer": "ipython3",
   "version": "3.12.6"
  }
 },
 "nbformat": 4,
 "nbformat_minor": 2
}
